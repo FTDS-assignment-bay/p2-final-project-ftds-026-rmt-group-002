{
 "cells": [
  {
   "cell_type": "markdown",
   "metadata": {},
   "source": [
    "# Import Libraries"
   ]
  },
  {
   "cell_type": "code",
   "execution_count": 1,
   "metadata": {},
   "outputs": [],
   "source": [
    "import pandas as pd\n",
    "import warnings \n",
    "warnings.filterwarnings('ignore')\n",
    "import seaborn as sns\n",
    "import matplotlib.pyplot as plt \n",
    "import numpy as np \n",
    "\n",
    "from sklearn.model_selection import train_test_split\n",
    "from feature_engine.outliers import Winsorizer\n",
    "from sklearn.pipeline import make_pipeline\n",
    "from sklearn.compose import ColumnTransformer\n",
    "from sklearn.impute import SimpleImputer\n",
    "from sklearn.preprocessing import MinMaxScaler, OneHotEncoder, OrdinalEncoder, LabelEncoder\n",
    "from scipy.stats import kendalltau, spearmanr\n",
    "from sklearn.pipeline import Pipeline\n",
    "from sklearn.linear_model import LogisticRegression\n",
    "from sklearn.neighbors import KNeighborsClassifier\n",
    "from sklearn.svm import SVC\n",
    "from sklearn.tree import DecisionTreeClassifier\n",
    "from sklearn.ensemble import RandomForestClassifier\n",
    "from xgboost import XGBClassifier\n",
    "from sklearn.metrics import classification_report, accuracy_score, f1_score, make_scorer\n",
    "from sklearn.model_selection import GridSearchCV, cross_val_score, StratifiedKFold\n",
    "from sklearn.linear_model import LinearRegression\n",
    "from sklearn.preprocessing import RobustScaler\n",
    "from sklearn.metrics import mean_absolute_error, mean_squared_error, r2_score\n",
    "import pickle\n",
    "import json"
   ]
  },
  {
   "cell_type": "markdown",
   "metadata": {},
   "source": [
    "# Data Loading"
   ]
  },
  {
   "cell_type": "code",
   "execution_count": 7,
   "metadata": {},
   "outputs": [
    {
     "data": {
      "text/html": [
       "<div>\n",
       "<style scoped>\n",
       "    .dataframe tbody tr th:only-of-type {\n",
       "        vertical-align: middle;\n",
       "    }\n",
       "\n",
       "    .dataframe tbody tr th {\n",
       "        vertical-align: top;\n",
       "    }\n",
       "\n",
       "    .dataframe thead th {\n",
       "        text-align: right;\n",
       "    }\n",
       "</style>\n",
       "<table border=\"1\" class=\"dataframe\">\n",
       "  <thead>\n",
       "    <tr style=\"text-align: right;\">\n",
       "      <th></th>\n",
       "      <th>credit_score</th>\n",
       "      <th>Geography</th>\n",
       "      <th>Gender</th>\n",
       "      <th>age</th>\n",
       "      <th>tenure</th>\n",
       "      <th>balance</th>\n",
       "      <th>num_of_products</th>\n",
       "      <th>HasCrCard</th>\n",
       "      <th>is_active_member</th>\n",
       "      <th>estimated_salary</th>\n",
       "      <th>exited</th>\n",
       "    </tr>\n",
       "  </thead>\n",
       "  <tbody>\n",
       "    <tr>\n",
       "      <th>0</th>\n",
       "      <td>619</td>\n",
       "      <td>France</td>\n",
       "      <td>Female</td>\n",
       "      <td>42</td>\n",
       "      <td>2</td>\n",
       "      <td>0.00</td>\n",
       "      <td>1</td>\n",
       "      <td>1</td>\n",
       "      <td>1</td>\n",
       "      <td>101348.88</td>\n",
       "      <td>1</td>\n",
       "    </tr>\n",
       "    <tr>\n",
       "      <th>1</th>\n",
       "      <td>608</td>\n",
       "      <td>Spain</td>\n",
       "      <td>Female</td>\n",
       "      <td>41</td>\n",
       "      <td>1</td>\n",
       "      <td>83807.86</td>\n",
       "      <td>1</td>\n",
       "      <td>0</td>\n",
       "      <td>1</td>\n",
       "      <td>112542.58</td>\n",
       "      <td>0</td>\n",
       "    </tr>\n",
       "    <tr>\n",
       "      <th>2</th>\n",
       "      <td>502</td>\n",
       "      <td>France</td>\n",
       "      <td>Female</td>\n",
       "      <td>42</td>\n",
       "      <td>8</td>\n",
       "      <td>159660.80</td>\n",
       "      <td>3</td>\n",
       "      <td>1</td>\n",
       "      <td>0</td>\n",
       "      <td>113931.57</td>\n",
       "      <td>1</td>\n",
       "    </tr>\n",
       "    <tr>\n",
       "      <th>3</th>\n",
       "      <td>699</td>\n",
       "      <td>France</td>\n",
       "      <td>Female</td>\n",
       "      <td>39</td>\n",
       "      <td>1</td>\n",
       "      <td>0.00</td>\n",
       "      <td>2</td>\n",
       "      <td>0</td>\n",
       "      <td>0</td>\n",
       "      <td>93826.63</td>\n",
       "      <td>0</td>\n",
       "    </tr>\n",
       "    <tr>\n",
       "      <th>4</th>\n",
       "      <td>850</td>\n",
       "      <td>Spain</td>\n",
       "      <td>Female</td>\n",
       "      <td>43</td>\n",
       "      <td>2</td>\n",
       "      <td>125510.82</td>\n",
       "      <td>1</td>\n",
       "      <td>1</td>\n",
       "      <td>1</td>\n",
       "      <td>79084.10</td>\n",
       "      <td>0</td>\n",
       "    </tr>\n",
       "  </tbody>\n",
       "</table>\n",
       "</div>"
      ],
      "text/plain": [
       "   credit_score Geography  Gender  age  tenure    balance  num_of_products  \\\n",
       "0           619    France  Female   42       2       0.00                1   \n",
       "1           608     Spain  Female   41       1   83807.86                1   \n",
       "2           502    France  Female   42       8  159660.80                3   \n",
       "3           699    France  Female   39       1       0.00                2   \n",
       "4           850     Spain  Female   43       2  125510.82                1   \n",
       "\n",
       "   HasCrCard  is_active_member  estimated_salary  exited  \n",
       "0          1                 1         101348.88       1  \n",
       "1          0                 1         112542.58       0  \n",
       "2          1                 0         113931.57       1  \n",
       "3          0                 0          93826.63       0  \n",
       "4          1                 1          79084.10       0  "
      ]
     },
     "execution_count": 7,
     "metadata": {},
     "output_type": "execute_result"
    }
   ],
   "source": [
    "df = pd.read_csv('data_clean_scientist.csv')\n",
    "df.head()"
   ]
  },
  {
   "cell_type": "code",
   "execution_count": 8,
   "metadata": {},
   "outputs": [
    {
     "data": {
      "text/html": [
       "<div>\n",
       "<style scoped>\n",
       "    .dataframe tbody tr th:only-of-type {\n",
       "        vertical-align: middle;\n",
       "    }\n",
       "\n",
       "    .dataframe tbody tr th {\n",
       "        vertical-align: top;\n",
       "    }\n",
       "\n",
       "    .dataframe thead th {\n",
       "        text-align: right;\n",
       "    }\n",
       "</style>\n",
       "<table border=\"1\" class=\"dataframe\">\n",
       "  <thead>\n",
       "    <tr style=\"text-align: right;\">\n",
       "      <th></th>\n",
       "      <th>credit_score</th>\n",
       "      <th>Geography</th>\n",
       "      <th>Gender</th>\n",
       "      <th>age</th>\n",
       "      <th>tenure</th>\n",
       "      <th>balance</th>\n",
       "      <th>num_of_products</th>\n",
       "      <th>HasCrCard</th>\n",
       "      <th>is_active_member</th>\n",
       "      <th>estimated_salary</th>\n",
       "      <th>exited</th>\n",
       "    </tr>\n",
       "  </thead>\n",
       "  <tbody>\n",
       "    <tr>\n",
       "      <th>15921</th>\n",
       "      <td>697</td>\n",
       "      <td>France</td>\n",
       "      <td>Female</td>\n",
       "      <td>42</td>\n",
       "      <td>1</td>\n",
       "      <td>0.00</td>\n",
       "      <td>1</td>\n",
       "      <td>1</td>\n",
       "      <td>0</td>\n",
       "      <td>1262.83</td>\n",
       "      <td>1</td>\n",
       "    </tr>\n",
       "    <tr>\n",
       "      <th>15922</th>\n",
       "      <td>687</td>\n",
       "      <td>Germany</td>\n",
       "      <td>Female</td>\n",
       "      <td>29</td>\n",
       "      <td>4</td>\n",
       "      <td>78939.15</td>\n",
       "      <td>1</td>\n",
       "      <td>1</td>\n",
       "      <td>0</td>\n",
       "      <td>122134.56</td>\n",
       "      <td>1</td>\n",
       "    </tr>\n",
       "    <tr>\n",
       "      <th>15923</th>\n",
       "      <td>583</td>\n",
       "      <td>Germany</td>\n",
       "      <td>Female</td>\n",
       "      <td>54</td>\n",
       "      <td>6</td>\n",
       "      <td>115988.86</td>\n",
       "      <td>1</td>\n",
       "      <td>1</td>\n",
       "      <td>0</td>\n",
       "      <td>57553.98</td>\n",
       "      <td>1</td>\n",
       "    </tr>\n",
       "    <tr>\n",
       "      <th>15924</th>\n",
       "      <td>716</td>\n",
       "      <td>Germany</td>\n",
       "      <td>Female</td>\n",
       "      <td>39</td>\n",
       "      <td>10</td>\n",
       "      <td>115301.31</td>\n",
       "      <td>1</td>\n",
       "      <td>1</td>\n",
       "      <td>0</td>\n",
       "      <td>43527.40</td>\n",
       "      <td>1</td>\n",
       "    </tr>\n",
       "    <tr>\n",
       "      <th>15925</th>\n",
       "      <td>744</td>\n",
       "      <td>Germany</td>\n",
       "      <td>Female</td>\n",
       "      <td>50</td>\n",
       "      <td>1</td>\n",
       "      <td>121498.11</td>\n",
       "      <td>2</td>\n",
       "      <td>0</td>\n",
       "      <td>1</td>\n",
       "      <td>106061.47</td>\n",
       "      <td>1</td>\n",
       "    </tr>\n",
       "  </tbody>\n",
       "</table>\n",
       "</div>"
      ],
      "text/plain": [
       "       credit_score Geography  Gender  age  tenure    balance  \\\n",
       "15921           697    France  Female   42       1       0.00   \n",
       "15922           687   Germany  Female   29       4   78939.15   \n",
       "15923           583   Germany  Female   54       6  115988.86   \n",
       "15924           716   Germany  Female   39      10  115301.31   \n",
       "15925           744   Germany  Female   50       1  121498.11   \n",
       "\n",
       "       num_of_products  HasCrCard  is_active_member  estimated_salary  exited  \n",
       "15921                1          1                 0           1262.83       1  \n",
       "15922                1          1                 0         122134.56       1  \n",
       "15923                1          1                 0          57553.98       1  \n",
       "15924                1          1                 0          43527.40       1  \n",
       "15925                2          0                 1         106061.47       1  "
      ]
     },
     "execution_count": 8,
     "metadata": {},
     "output_type": "execute_result"
    }
   ],
   "source": [
    "df.tail()"
   ]
  },
  {
   "cell_type": "code",
   "execution_count": 9,
   "metadata": {},
   "outputs": [],
   "source": [
    "# Create a new column \"NewTenure\"\n",
    "df[\"NewTenure\"] = df[\"tenure\"] / df[\"age\"]\n",
    "# Use pd.cut for \"HasCrCard\" column since values are not continuous\n",
    "df[\"HasCrCard\"] = pd.cut(df[\"HasCrCard\"], bins=2, labels=['no', 'yes']).astype(str)\n",
    "# Use pd.cut for \"is_active_member\" column since values are not continuous\n",
    "df[\"is_active_member\"] = pd.cut(df[\"is_active_member\"], bins=2, labels=['no', 'yes']).astype(str)"
   ]
  },
  {
   "cell_type": "code",
   "execution_count": 10,
   "metadata": {},
   "outputs": [
    {
     "data": {
      "text/html": [
       "<div>\n",
       "<style scoped>\n",
       "    .dataframe tbody tr th:only-of-type {\n",
       "        vertical-align: middle;\n",
       "    }\n",
       "\n",
       "    .dataframe tbody tr th {\n",
       "        vertical-align: top;\n",
       "    }\n",
       "\n",
       "    .dataframe thead th {\n",
       "        text-align: right;\n",
       "    }\n",
       "</style>\n",
       "<table border=\"1\" class=\"dataframe\">\n",
       "  <thead>\n",
       "    <tr style=\"text-align: right;\">\n",
       "      <th></th>\n",
       "      <th>credit_score</th>\n",
       "      <th>Geography</th>\n",
       "      <th>Gender</th>\n",
       "      <th>age</th>\n",
       "      <th>tenure</th>\n",
       "      <th>balance</th>\n",
       "      <th>num_of_products</th>\n",
       "      <th>HasCrCard</th>\n",
       "      <th>is_active_member</th>\n",
       "      <th>estimated_salary</th>\n",
       "      <th>exited</th>\n",
       "      <th>NewTenure</th>\n",
       "    </tr>\n",
       "  </thead>\n",
       "  <tbody>\n",
       "    <tr>\n",
       "      <th>0</th>\n",
       "      <td>619</td>\n",
       "      <td>France</td>\n",
       "      <td>Female</td>\n",
       "      <td>42</td>\n",
       "      <td>2</td>\n",
       "      <td>0.00</td>\n",
       "      <td>1</td>\n",
       "      <td>yes</td>\n",
       "      <td>yes</td>\n",
       "      <td>101348.88</td>\n",
       "      <td>1</td>\n",
       "      <td>0.047619</td>\n",
       "    </tr>\n",
       "    <tr>\n",
       "      <th>1</th>\n",
       "      <td>608</td>\n",
       "      <td>Spain</td>\n",
       "      <td>Female</td>\n",
       "      <td>41</td>\n",
       "      <td>1</td>\n",
       "      <td>83807.86</td>\n",
       "      <td>1</td>\n",
       "      <td>no</td>\n",
       "      <td>yes</td>\n",
       "      <td>112542.58</td>\n",
       "      <td>0</td>\n",
       "      <td>0.024390</td>\n",
       "    </tr>\n",
       "    <tr>\n",
       "      <th>2</th>\n",
       "      <td>502</td>\n",
       "      <td>France</td>\n",
       "      <td>Female</td>\n",
       "      <td>42</td>\n",
       "      <td>8</td>\n",
       "      <td>159660.80</td>\n",
       "      <td>3</td>\n",
       "      <td>yes</td>\n",
       "      <td>no</td>\n",
       "      <td>113931.57</td>\n",
       "      <td>1</td>\n",
       "      <td>0.190476</td>\n",
       "    </tr>\n",
       "  </tbody>\n",
       "</table>\n",
       "</div>"
      ],
      "text/plain": [
       "   credit_score Geography  Gender  age  tenure    balance  num_of_products  \\\n",
       "0           619    France  Female   42       2       0.00                1   \n",
       "1           608     Spain  Female   41       1   83807.86                1   \n",
       "2           502    France  Female   42       8  159660.80                3   \n",
       "\n",
       "  HasCrCard is_active_member  estimated_salary  exited  NewTenure  \n",
       "0       yes              yes         101348.88       1   0.047619  \n",
       "1        no              yes         112542.58       0   0.024390  \n",
       "2       yes               no         113931.57       1   0.190476  "
      ]
     },
     "execution_count": 10,
     "metadata": {},
     "output_type": "execute_result"
    }
   ],
   "source": [
    "df.head(3)"
   ]
  },
  {
   "cell_type": "code",
   "execution_count": 11,
   "metadata": {},
   "outputs": [
    {
     "name": "stdout",
     "output_type": "stream",
     "text": [
      "<class 'pandas.core.frame.DataFrame'>\n",
      "RangeIndex: 15926 entries, 0 to 15925\n",
      "Data columns (total 12 columns):\n",
      " #   Column            Non-Null Count  Dtype  \n",
      "---  ------            --------------  -----  \n",
      " 0   credit_score      15926 non-null  int64  \n",
      " 1   Geography         15926 non-null  object \n",
      " 2   Gender            15926 non-null  object \n",
      " 3   age               15926 non-null  int64  \n",
      " 4   tenure            15926 non-null  int64  \n",
      " 5   balance           15926 non-null  float64\n",
      " 6   num_of_products   15926 non-null  int64  \n",
      " 7   HasCrCard         15926 non-null  object \n",
      " 8   is_active_member  15926 non-null  object \n",
      " 9   estimated_salary  15926 non-null  float64\n",
      " 10  exited            15926 non-null  int64  \n",
      " 11  NewTenure         15926 non-null  float64\n",
      "dtypes: float64(3), int64(5), object(4)\n",
      "memory usage: 1.5+ MB\n"
     ]
    }
   ],
   "source": [
    "df.info()"
   ]
  },
  {
   "cell_type": "code",
   "execution_count": 12,
   "metadata": {},
   "outputs": [
    {
     "data": {
      "text/plain": [
       "credit_score        0\n",
       "Geography           0\n",
       "Gender              0\n",
       "age                 0\n",
       "tenure              0\n",
       "balance             0\n",
       "num_of_products     0\n",
       "HasCrCard           0\n",
       "is_active_member    0\n",
       "estimated_salary    0\n",
       "exited              0\n",
       "NewTenure           0\n",
       "dtype: int64"
      ]
     },
     "execution_count": 12,
     "metadata": {},
     "output_type": "execute_result"
    }
   ],
   "source": [
    "# cek missing value\n",
    "df.isnull().sum()"
   ]
  },
  {
   "cell_type": "markdown",
   "metadata": {},
   "source": [
    "# EDA"
   ]
  },
  {
   "cell_type": "code",
   "execution_count": 15,
   "metadata": {},
   "outputs": [
    {
     "data": {
      "image/png": "[encoded data removed]",
      "text/plain": [
       "<Figure size 640x480 with 2 Axes>"
      ]
     },
     "metadata": {},
     "output_type": "display_data"
    }
   ],
   "source": [
    "# list kolom yang akan diuji korelasinya\n",
    "cols = ['credit_score', 'age', 'tenure', 'balance',\n",
    "       'num_of_products', 'estimated_salary','NewTenure',\n",
    "       'exited' ]\n",
    "# plot korelasi setiap variable menggunakan heatmap\n",
    "sns.heatmap(df[cols].corr(), annot = True, fmt=\".2f\", linewidths=0.5)\n",
    "# Memberikan judul\n",
    "plt.title('Correlation Matrix')\n",
    "# menampilkan correlation matrix\n",
    "plt.show()"
   ]
  },
  {
   "cell_type": "markdown",
   "metadata": {},
   "source": [
    "# Feature Engineering"
   ]
  },
  {
   "cell_type": "code",
   "execution_count": 16,
   "metadata": {},
   "outputs": [],
   "source": [
    "cat_columns = ['Geography', 'Gender', 'HasCrCard', 'is_active_member']\n",
    "num_columns = ['credit_score', 'age', 'tenure', 'balance','num_of_products', 'estimated_salary', 'NewTenure']"
   ]
  },
  {
   "cell_type": "markdown",
   "metadata": {},
   "source": [
    "## Handling Cardinality"
   ]
  },
  {
   "cell_type": "code",
   "execution_count": 17,
   "metadata": {},
   "outputs": [
    {
     "data": {
      "text/html": [
       "<div>\n",
       "<style scoped>\n",
       "    .dataframe tbody tr th:only-of-type {\n",
       "        vertical-align: middle;\n",
       "    }\n",
       "\n",
       "    .dataframe tbody tr th {\n",
       "        vertical-align: top;\n",
       "    }\n",
       "\n",
       "    .dataframe thead th {\n",
       "        text-align: right;\n",
       "    }\n",
       "</style>\n",
       "<table border=\"1\" class=\"dataframe\">\n",
       "  <thead>\n",
       "    <tr style=\"text-align: right;\">\n",
       "      <th></th>\n",
       "      <th>Nama Kolom</th>\n",
       "      <th>Jumlah Nilai Unique</th>\n",
       "      <th>Nilai Unique</th>\n",
       "    </tr>\n",
       "  </thead>\n",
       "  <tbody>\n",
       "    <tr>\n",
       "      <th>0</th>\n",
       "      <td>Geography</td>\n",
       "      <td>3</td>\n",
       "      <td>[France, Spain, Germany]</td>\n",
       "    </tr>\n",
       "    <tr>\n",
       "      <th>1</th>\n",
       "      <td>Gender</td>\n",
       "      <td>2</td>\n",
       "      <td>[Female, Male]</td>\n",
       "    </tr>\n",
       "    <tr>\n",
       "      <th>2</th>\n",
       "      <td>HasCrCard</td>\n",
       "      <td>2</td>\n",
       "      <td>[yes, no]</td>\n",
       "    </tr>\n",
       "    <tr>\n",
       "      <th>3</th>\n",
       "      <td>is_active_member</td>\n",
       "      <td>2</td>\n",
       "      <td>[yes, no]</td>\n",
       "    </tr>\n",
       "  </tbody>\n",
       "</table>\n",
       "</div>"
      ],
      "text/plain": [
       "         Nama Kolom  Jumlah Nilai Unique              Nilai Unique\n",
       "0         Geography                    3  [France, Spain, Germany]\n",
       "1            Gender                    2            [Female, Male]\n",
       "2         HasCrCard                    2                 [yes, no]\n",
       "3  is_active_member                    2                 [yes, no]"
      ]
     },
     "execution_count": 17,
     "metadata": {},
     "output_type": "execute_result"
    }
   ],
   "source": [
    "# mendefinisikan kolom yang masuk ke tipe data kategorik dan dijadikan sebagai list\n",
    "cat_cols = cat_columns\n",
    "\n",
    "# membuat list kosong listItem\n",
    "listItem = []\n",
    "# membuat forloop untuk kolom yang berada di dalam cat_cols\n",
    "for col in cat_cols:\n",
    "  # memasukkan nama kolom dan jumlah nilai unique pada list\n",
    "  listItem.append([col, df[col].nunique(), df[col].unique()])\n",
    "\n",
    "# membuat dataframe dari listItem\n",
    "pd.DataFrame(columns=['Nama Kolom', 'Jumlah Nilai Unique', 'Nilai Unique'], data=listItem)"
   ]
  },
  {
   "cell_type": "markdown",
   "metadata": {},
   "source": [
    "## Cek Target"
   ]
  },
  {
   "cell_type": "code",
   "execution_count": 18,
   "metadata": {},
   "outputs": [
    {
     "data": {
      "text/plain": [
       "exited\n",
       "1    7963\n",
       "0    7963\n",
       "Name: count, dtype: int64"
      ]
     },
     "execution_count": 18,
     "metadata": {},
     "output_type": "execute_result"
    }
   ],
   "source": [
    "# Cek apakah target balance atau tidak\n",
    "df['exited'].value_counts()"
   ]
  },
  {
   "cell_type": "markdown",
   "metadata": {},
   "source": [
    "## Splitting Feature X dan y"
   ]
  },
  {
   "cell_type": "code",
   "execution_count": 19,
   "metadata": {},
   "outputs": [],
   "source": [
    "#memisahkan antara fitur x dan y\n",
    "X = df.drop(['exited'], axis = 1)\n",
    "y = df['exited']"
   ]
  },
  {
   "cell_type": "code",
   "execution_count": 20,
   "metadata": {},
   "outputs": [
    {
     "name": "stdout",
     "output_type": "stream",
     "text": [
      "X Train Size:  (12740, 11)\n",
      "X Test Size:  (3186, 11)\n",
      "y Train Size:  (12740,)\n",
      "y Test Size:  (3186,)\n"
     ]
    }
   ],
   "source": [
    "# split data menjadi empat bagian, X_train, X_test, y_train, dan y_test\n",
    "X_train, X_test, y_train, y_test = train_test_split(X, y, test_size = 0.20, # komposisi data test sebesar 20% dari keseluruhan data\n",
    "                                                    stratify=y,\n",
    "                                                    random_state = 42)     # State kerandoman data ada pada state ke 0\n",
    "\n",
    "# Menampilkan ukuran dataframe dari X_train, X_test, y_train, dan y_test\n",
    "print('X Train Size: ', X_train.shape)\n",
    "print('X Test Size: ', X_test.shape)\n",
    "print('y Train Size: ', y_train.shape)\n",
    "print('y Test Size: ', y_test.shape)"
   ]
  },
  {
   "cell_type": "markdown",
   "metadata": {},
   "source": [
    "## Handling Outliers"
   ]
  },
  {
   "cell_type": "code",
   "execution_count": 21,
   "metadata": {},
   "outputs": [
    {
     "data": {
      "text/html": [
       "<div>\n",
       "<style scoped>\n",
       "    .dataframe tbody tr th:only-of-type {\n",
       "        vertical-align: middle;\n",
       "    }\n",
       "\n",
       "    .dataframe tbody tr th {\n",
       "        vertical-align: top;\n",
       "    }\n",
       "\n",
       "    .dataframe thead th {\n",
       "        text-align: right;\n",
       "    }\n",
       "</style>\n",
       "<table border=\"1\" class=\"dataframe\">\n",
       "  <thead>\n",
       "    <tr style=\"text-align: right;\">\n",
       "      <th></th>\n",
       "      <th>nama kolom</th>\n",
       "      <th>nilai skewness</th>\n",
       "    </tr>\n",
       "  </thead>\n",
       "  <tbody>\n",
       "    <tr>\n",
       "      <th>0</th>\n",
       "      <td>credit_score</td>\n",
       "      <td>-0.109688</td>\n",
       "    </tr>\n",
       "    <tr>\n",
       "      <th>1</th>\n",
       "      <td>age</td>\n",
       "      <td>0.616673</td>\n",
       "    </tr>\n",
       "    <tr>\n",
       "      <th>2</th>\n",
       "      <td>tenure</td>\n",
       "      <td>0.017304</td>\n",
       "    </tr>\n",
       "    <tr>\n",
       "      <th>3</th>\n",
       "      <td>balance</td>\n",
       "      <td>-0.281541</td>\n",
       "    </tr>\n",
       "    <tr>\n",
       "      <th>4</th>\n",
       "      <td>num_of_products</td>\n",
       "      <td>1.251025</td>\n",
       "    </tr>\n",
       "    <tr>\n",
       "      <th>5</th>\n",
       "      <td>estimated_salary</td>\n",
       "      <td>-0.007864</td>\n",
       "    </tr>\n",
       "    <tr>\n",
       "      <th>6</th>\n",
       "      <td>NewTenure</td>\n",
       "      <td>0.621610</td>\n",
       "    </tr>\n",
       "  </tbody>\n",
       "</table>\n",
       "</div>"
      ],
      "text/plain": [
       "         nama kolom  nilai skewness\n",
       "0      credit_score       -0.109688\n",
       "1               age        0.616673\n",
       "2            tenure        0.017304\n",
       "3           balance       -0.281541\n",
       "4   num_of_products        1.251025\n",
       "5  estimated_salary       -0.007864\n",
       "6         NewTenure        0.621610"
      ]
     },
     "execution_count": 21,
     "metadata": {},
     "output_type": "execute_result"
    }
   ],
   "source": [
    "# Mendefinisikan kolom numerik \n",
    "num_cols = X_train[num_columns]\n",
    "# Membuat list kosong \n",
    "listItem= []\n",
    "# Membuat forloop untuk kolom di dalam num_cols\n",
    "for col in num_cols:\n",
    "  # Memasukkan kolom yang merupakan kolom numerik dan menghitung nilai skew nya\n",
    "  listItem.append([col, X_train[col].skew()])\n",
    "\n",
    "# membuat dataframe dari nilai skew yang telah dihitung\n",
    "pd.DataFrame(columns=['nama kolom', 'nilai skewness'], data= listItem)"
   ]
  },
  {
   "cell_type": "code",
   "execution_count": 22,
   "metadata": {},
   "outputs": [],
   "source": [
    "# capping data untuk data yang mengalami skewed\n",
    "winsoriser2 = Winsorizer(capping_method='iqr', # menggunakan metode IQR\n",
    "                            tail='both', # capping dilakukan pada outlier batas atas dan batas bawah\n",
    "                            fold=3, # menetapkan nilai fold\n",
    "                            #mendefinisikan kolom yang data nya terdistribusi secara skewed\n",
    "                            variables=[ 'age', 'num_of_products', 'NewTenure'],\n",
    "                            missing_values='ignore')\n",
    "\n",
    "# mendefinisikan dataset X_train yang telah di capping  dengan melakukan fit_transform\n",
    "X_train = winsoriser2.fit_transform(X_train)\n",
    "# mendefinisikan dataset X_test yang telah di capping  dengan melakukan transform\n",
    "X_test = winsoriser2.transform(X_test)"
   ]
  },
  {
   "cell_type": "code",
   "execution_count": 23,
   "metadata": {},
   "outputs": [],
   "source": [
    "# Capping data untuk data terdistribusi normal\n",
    "winsoriser1 = Winsorizer(capping_method='gaussian', # Metode capping yang digunakan adalah gaussian untuk data terdistribusi normal\n",
    "                            tail='both', # capping dilakukan pada outlier batas atas dan batas bawah\n",
    "                            fold=1.5,\n",
    "                            # mendefinisikan kolom yang data nya terdistribusi secara normal\n",
    "                            variables=['credit_score','tenure',  'balance', 'estimated_salary'],\n",
    "                            # ignore missing value\n",
    "                            missing_values='ignore')\n",
    "\n",
    "# mendefinisikan dataset X_train yang telah di capping  dengan melakukan fit_transform\n",
    "X_train = winsoriser1.fit_transform(X_train)\n",
    "# mendefinisikan dataset X_test yang telah di capping  dengan melakukan transform\n",
    "X_test = winsoriser1.transform(X_test)"
   ]
  },
  {
   "cell_type": "markdown",
   "metadata": {},
   "source": [
    "## Handling Missing Value"
   ]
  },
  {
   "cell_type": "code",
   "execution_count": 24,
   "metadata": {},
   "outputs": [
    {
     "data": {
      "text/plain": [
       "credit_score        0\n",
       "Geography           0\n",
       "Gender              0\n",
       "age                 0\n",
       "tenure              0\n",
       "balance             0\n",
       "num_of_products     0\n",
       "HasCrCard           0\n",
       "is_active_member    0\n",
       "estimated_salary    0\n",
       "NewTenure           0\n",
       "dtype: int64"
      ]
     },
     "execution_count": 24,
     "metadata": {},
     "output_type": "execute_result"
    }
   ],
   "source": [
    "X_train.isnull().sum()"
   ]
  },
  {
   "cell_type": "code",
   "execution_count": 25,
   "metadata": {},
   "outputs": [
    {
     "data": {
      "text/plain": [
       "credit_score        0\n",
       "Geography           0\n",
       "Gender              0\n",
       "age                 0\n",
       "tenure              0\n",
       "balance             0\n",
       "num_of_products     0\n",
       "HasCrCard           0\n",
       "is_active_member    0\n",
       "estimated_salary    0\n",
       "NewTenure           0\n",
       "dtype: int64"
      ]
     },
     "execution_count": 25,
     "metadata": {},
     "output_type": "execute_result"
    }
   ],
   "source": [
    "X_test.isnull().sum()"
   ]
  },
  {
   "cell_type": "code",
   "execution_count": 26,
   "metadata": {},
   "outputs": [
    {
     "data": {
      "text/plain": [
       "0"
      ]
     },
     "execution_count": 26,
     "metadata": {},
     "output_type": "execute_result"
    }
   ],
   "source": [
    "y_train.isnull().sum()"
   ]
  },
  {
   "cell_type": "code",
   "execution_count": 27,
   "metadata": {},
   "outputs": [
    {
     "data": {
      "text/plain": [
       "0"
      ]
     },
     "execution_count": 27,
     "metadata": {},
     "output_type": "execute_result"
    }
   ],
   "source": [
    "y_test.isnull().sum()"
   ]
  },
  {
   "cell_type": "markdown",
   "metadata": {},
   "source": [
    "## Feature Selection"
   ]
  },
  {
   "cell_type": "code",
   "execution_count": 28,
   "metadata": {},
   "outputs": [
    {
     "data": {
      "text/html": [
       "<div>\n",
       "<style scoped>\n",
       "    .dataframe tbody tr th:only-of-type {\n",
       "        vertical-align: middle;\n",
       "    }\n",
       "\n",
       "    .dataframe tbody tr th {\n",
       "        vertical-align: top;\n",
       "    }\n",
       "\n",
       "    .dataframe thead th {\n",
       "        text-align: right;\n",
       "    }\n",
       "</style>\n",
       "<table border=\"1\" class=\"dataframe\">\n",
       "  <thead>\n",
       "    <tr style=\"text-align: right;\">\n",
       "      <th></th>\n",
       "      <th>credit_score</th>\n",
       "      <th>Geography</th>\n",
       "      <th>Gender</th>\n",
       "      <th>age</th>\n",
       "      <th>tenure</th>\n",
       "      <th>balance</th>\n",
       "      <th>num_of_products</th>\n",
       "      <th>HasCrCard</th>\n",
       "      <th>is_active_member</th>\n",
       "      <th>estimated_salary</th>\n",
       "      <th>NewTenure</th>\n",
       "    </tr>\n",
       "  </thead>\n",
       "  <tbody>\n",
       "    <tr>\n",
       "      <th>915</th>\n",
       "      <td>596.0</td>\n",
       "      <td>France</td>\n",
       "      <td>Male</td>\n",
       "      <td>47</td>\n",
       "      <td>6.0</td>\n",
       "      <td>0.00</td>\n",
       "      <td>1</td>\n",
       "      <td>yes</td>\n",
       "      <td>no</td>\n",
       "      <td>74835.65</td>\n",
       "      <td>0.127660</td>\n",
       "    </tr>\n",
       "    <tr>\n",
       "      <th>2987</th>\n",
       "      <td>676.0</td>\n",
       "      <td>Germany</td>\n",
       "      <td>Female</td>\n",
       "      <td>26</td>\n",
       "      <td>1.0</td>\n",
       "      <td>108348.66</td>\n",
       "      <td>1</td>\n",
       "      <td>no</td>\n",
       "      <td>no</td>\n",
       "      <td>60231.74</td>\n",
       "      <td>0.038462</td>\n",
       "    </tr>\n",
       "    <tr>\n",
       "      <th>3666</th>\n",
       "      <td>701.0</td>\n",
       "      <td>Spain</td>\n",
       "      <td>Female</td>\n",
       "      <td>21</td>\n",
       "      <td>9.0</td>\n",
       "      <td>0.00</td>\n",
       "      <td>2</td>\n",
       "      <td>yes</td>\n",
       "      <td>yes</td>\n",
       "      <td>26327.42</td>\n",
       "      <td>0.428571</td>\n",
       "    </tr>\n",
       "    <tr>\n",
       "      <th>6336</th>\n",
       "      <td>536.0</td>\n",
       "      <td>Germany</td>\n",
       "      <td>Female</td>\n",
       "      <td>35</td>\n",
       "      <td>4.0</td>\n",
       "      <td>121520.36</td>\n",
       "      <td>1</td>\n",
       "      <td>no</td>\n",
       "      <td>no</td>\n",
       "      <td>77178.42</td>\n",
       "      <td>0.114286</td>\n",
       "    </tr>\n",
       "    <tr>\n",
       "      <th>14282</th>\n",
       "      <td>533.0</td>\n",
       "      <td>Germany</td>\n",
       "      <td>Male</td>\n",
       "      <td>51</td>\n",
       "      <td>6.0</td>\n",
       "      <td>127545.56</td>\n",
       "      <td>2</td>\n",
       "      <td>no</td>\n",
       "      <td>no</td>\n",
       "      <td>79559.02</td>\n",
       "      <td>0.117647</td>\n",
       "    </tr>\n",
       "  </tbody>\n",
       "</table>\n",
       "</div>"
      ],
      "text/plain": [
       "       credit_score Geography  Gender  age  tenure    balance  \\\n",
       "915           596.0    France    Male   47     6.0       0.00   \n",
       "2987          676.0   Germany  Female   26     1.0  108348.66   \n",
       "3666          701.0     Spain  Female   21     9.0       0.00   \n",
       "6336          536.0   Germany  Female   35     4.0  121520.36   \n",
       "14282         533.0   Germany    Male   51     6.0  127545.56   \n",
       "\n",
       "       num_of_products HasCrCard is_active_member  estimated_salary  NewTenure  \n",
       "915                  1       yes               no          74835.65   0.127660  \n",
       "2987                 1        no               no          60231.74   0.038462  \n",
       "3666                 2       yes              yes          26327.42   0.428571  \n",
       "6336                 1        no               no          77178.42   0.114286  \n",
       "14282                2        no               no          79559.02   0.117647  "
      ]
     },
     "execution_count": 28,
     "metadata": {},
     "output_type": "execute_result"
    }
   ],
   "source": [
    "X_train.head()"
   ]
  },
  {
   "cell_type": "code",
   "execution_count": 29,
   "metadata": {},
   "outputs": [
    {
     "name": "stdout",
     "output_type": "stream",
     "text": [
      "Numeric Columns:  ['credit_score', 'age', 'tenure', 'balance', 'num_of_products', 'estimated_salary', 'NewTenure']\n",
      "Categorical Columns:  ['Geography', 'Gender', 'HasCrCard', 'is_active_member']\n"
     ]
    }
   ],
   "source": [
    "# menampilkan list kolom numerik dan kolom kategorik\n",
    "print('Numeric Columns: ', num_columns)\n",
    "print('Categorical Columns: ', cat_columns)"
   ]
  },
  {
   "cell_type": "code",
   "execution_count": 30,
   "metadata": {},
   "outputs": [
    {
     "name": "stdout",
     "output_type": "stream",
     "text": [
      "X_train_num: (12740, 7)\n",
      "X_test_num: (3186, 7)\n",
      "\n",
      "X_train_cat: (12740, 4)\n",
      "X_test_cat: (3186, 4)\n"
     ]
    }
   ],
   "source": [
    "# Split kolom numerik dan kolom kategorik pada dataset train dan test\n",
    "X_train_num = X_train[num_columns]\n",
    "X_train_cat = X_train[cat_columns]\n",
    "\n",
    "X_test_num = X_test[num_columns]\n",
    "X_test_cat = X_test[cat_columns]\n",
    "\n",
    "# menampilkan dataset train numerik\n",
    "print('X_train_num:', X_train_num.shape)\n",
    "print('X_test_num:', X_test_num.shape)\n",
    "print('')\n",
    "print('X_train_cat:', X_train_cat.shape)\n",
    "print('X_test_cat:', X_test_cat.shape)"
   ]
  },
  {
   "cell_type": "markdown",
   "metadata": {},
   "source": [
    "## Uji Korelasi"
   ]
  },
  {
   "cell_type": "code",
   "execution_count": 31,
   "metadata": {},
   "outputs": [
    {
     "data": {
      "text/html": [
       "<div>\n",
       "<style scoped>\n",
       "    .dataframe tbody tr th:only-of-type {\n",
       "        vertical-align: middle;\n",
       "    }\n",
       "\n",
       "    .dataframe tbody tr th {\n",
       "        vertical-align: top;\n",
       "    }\n",
       "\n",
       "    .dataframe thead th {\n",
       "        text-align: right;\n",
       "    }\n",
       "</style>\n",
       "<table border=\"1\" class=\"dataframe\">\n",
       "  <thead>\n",
       "    <tr style=\"text-align: right;\">\n",
       "      <th></th>\n",
       "      <th>nama kolom</th>\n",
       "      <th>hasil</th>\n",
       "    </tr>\n",
       "  </thead>\n",
       "  <tbody>\n",
       "    <tr>\n",
       "      <th>0</th>\n",
       "      <td>Geography</td>\n",
       "      <td>Terdapat Korelasi</td>\n",
       "    </tr>\n",
       "    <tr>\n",
       "      <th>1</th>\n",
       "      <td>Gender</td>\n",
       "      <td>Terdapat Korelasi</td>\n",
       "    </tr>\n",
       "    <tr>\n",
       "      <th>2</th>\n",
       "      <td>HasCrCard</td>\n",
       "      <td>Tidak terdapat korelasi</td>\n",
       "    </tr>\n",
       "    <tr>\n",
       "      <th>3</th>\n",
       "      <td>is_active_member</td>\n",
       "      <td>Terdapat Korelasi</td>\n",
       "    </tr>\n",
       "  </tbody>\n",
       "</table>\n",
       "</div>"
      ],
      "text/plain": [
       "         nama kolom                    hasil\n",
       "0         Geography        Terdapat Korelasi\n",
       "1            Gender        Terdapat Korelasi\n",
       "2         HasCrCard  Tidak terdapat korelasi\n",
       "3  is_active_member        Terdapat Korelasi"
      ]
     },
     "execution_count": 31,
     "metadata": {},
     "output_type": "execute_result"
    }
   ],
   "source": [
    "# Mendefinisikan list kosong untuk p_values, interpretasi, dan cols\n",
    "p_values = []\n",
    "interpretasi = []\n",
    "cols = []\n",
    "\n",
    "# melakukan forloop untuk kolom yang terdapat didalam dataset kategorik\n",
    "for col in X_train_cat.columns:\n",
    "  # melakukan uji korelasi dengan menggunakan kendaltau pada setiap kolom dataset kategorik\n",
    "  corr_coef, p_value = kendalltau(X_train_cat[col], y_train)\n",
    "\n",
    "  #input p_values ke dalam list p_values\n",
    "  p_values.append(p_value)\n",
    "  # input nama kolom ke list cols\n",
    "  cols.append(col)\n",
    "\n",
    "  # dilakukan pengecekan, jika p_value di bawah nilai 0.05, maka terdapat korelasi\n",
    "  if p_value < 0.05:\n",
    "    interpretasi.append('Terdapat Korelasi')\n",
    "  # jika p_value berada di atas nilai 0.05, maka tidak terdapat korelasi\n",
    "  else :\n",
    "    interpretasi.append('Tidak terdapat korelasi')\n",
    "\n",
    "# membuat dataframe untuk nama kolom dan hasil dari interpretasi\n",
    "pd.DataFrame({'nama kolom':cols,\n",
    "              'hasil': interpretasi})"
   ]
  },
  {
   "cell_type": "code",
   "execution_count": 32,
   "metadata": {},
   "outputs": [],
   "source": [
    "# Drop kolom yang tidak memiliki korelasi pada dataset train dan test\n",
    "X_train_cat = X_train_cat.copy()  \n",
    "X_test_cat = X_test_cat.copy()\n",
    "X_train_cat.drop(['HasCrCard'], axis=1, inplace=True)\n",
    "X_test_cat.drop(['HasCrCard'], axis=1, inplace=True)"
   ]
  },
  {
   "cell_type": "code",
   "execution_count": 33,
   "metadata": {},
   "outputs": [
    {
     "data": {
      "text/html": [
       "<div>\n",
       "<style scoped>\n",
       "    .dataframe tbody tr th:only-of-type {\n",
       "        vertical-align: middle;\n",
       "    }\n",
       "\n",
       "    .dataframe tbody tr th {\n",
       "        vertical-align: top;\n",
       "    }\n",
       "\n",
       "    .dataframe thead th {\n",
       "        text-align: right;\n",
       "    }\n",
       "</style>\n",
       "<table border=\"1\" class=\"dataframe\">\n",
       "  <thead>\n",
       "    <tr style=\"text-align: right;\">\n",
       "      <th></th>\n",
       "      <th>nama kolom</th>\n",
       "      <th>hasil</th>\n",
       "    </tr>\n",
       "  </thead>\n",
       "  <tbody>\n",
       "    <tr>\n",
       "      <th>0</th>\n",
       "      <td>credit_score</td>\n",
       "      <td>Terdapat korelasi</td>\n",
       "    </tr>\n",
       "    <tr>\n",
       "      <th>1</th>\n",
       "      <td>age</td>\n",
       "      <td>Terdapat korelasi</td>\n",
       "    </tr>\n",
       "    <tr>\n",
       "      <th>2</th>\n",
       "      <td>tenure</td>\n",
       "      <td>Tidak terdapat korelasi</td>\n",
       "    </tr>\n",
       "    <tr>\n",
       "      <th>3</th>\n",
       "      <td>balance</td>\n",
       "      <td>Terdapat korelasi</td>\n",
       "    </tr>\n",
       "    <tr>\n",
       "      <th>4</th>\n",
       "      <td>num_of_products</td>\n",
       "      <td>Terdapat korelasi</td>\n",
       "    </tr>\n",
       "    <tr>\n",
       "      <th>5</th>\n",
       "      <td>estimated_salary</td>\n",
       "      <td>Terdapat korelasi</td>\n",
       "    </tr>\n",
       "    <tr>\n",
       "      <th>6</th>\n",
       "      <td>NewTenure</td>\n",
       "      <td>Terdapat korelasi</td>\n",
       "    </tr>\n",
       "  </tbody>\n",
       "</table>\n",
       "</div>"
      ],
      "text/plain": [
       "         nama kolom                    hasil\n",
       "0      credit_score        Terdapat korelasi\n",
       "1               age        Terdapat korelasi\n",
       "2            tenure  Tidak terdapat korelasi\n",
       "3           balance        Terdapat korelasi\n",
       "4   num_of_products        Terdapat korelasi\n",
       "5  estimated_salary        Terdapat korelasi\n",
       "6         NewTenure        Terdapat korelasi"
      ]
     },
     "execution_count": 33,
     "metadata": {},
     "output_type": "execute_result"
    }
   ],
   "source": [
    "# Mendefinisikan list kosong untuk p_values, interpretasi, dan cols\n",
    "p_values = []\n",
    "interpretasi = []\n",
    "cols = []\n",
    "\n",
    "# forloop untuk kolom yang berada di dataset numerik\n",
    "for col in X_train_num.columns:\n",
    "  # melakukan perhitungan uji korelasi dengan menggunakan pearsonr untuk data numerik\n",
    "  corr_coef, p_value = spearmanr(X_train_num[col], y_train)\n",
    "\n",
    "  # p_value yang didapat kemudian dimasukkan ke dalam list p_value\n",
    "  p_values.append(p_value)\n",
    "  # memasukkan nama dari setiap kolom numerik\n",
    "  cols.append(col)\n",
    "\n",
    "  # cek jika p_value di bawah 0.05, maka terdapat korelasi\n",
    "  if p_value < 0.05:\n",
    "    interpretasi.append('Terdapat korelasi')\n",
    "  # jika p_value di atas nilai 0.05, maka tidak terdapat korelasi\n",
    "  else :\n",
    "    interpretasi.append('Tidak terdapat korelasi')\n",
    "\n",
    "# membuat dataframe untuk kolom han hasil interpretasi\n",
    "pd.DataFrame({'nama kolom':cols,\n",
    "              'hasil': interpretasi})"
   ]
  },
  {
   "cell_type": "code",
   "execution_count": 34,
   "metadata": {},
   "outputs": [],
   "source": [
    "# copy dataset train dan test dari data numerik\n",
    "X_train_num = X_train_num.copy()\n",
    "X_test_num= X_test_num.copy()\n",
    "\n",
    "# remove kolom yang tidak berkorelasi di X_train_num dan X_test_num\n",
    "X_train_num.drop(['tenure'], axis=1, inplace=True)\n",
    "X_test_num.drop(['tenure'], axis=1, inplace=True)"
   ]
  },
  {
   "cell_type": "markdown",
   "metadata": {},
   "source": [
    "## Concate kolom numerik dan kategorik"
   ]
  },
  {
   "cell_type": "code",
   "execution_count": 35,
   "metadata": {},
   "outputs": [
    {
     "data": {
      "text/plain": [
       "array([[596.0, 47.0, 0.0, ..., 'France', 'Male', 'no'],\n",
       "       [676.0, 26.0, 108348.66, ..., 'Germany', 'Female', 'no'],\n",
       "       [701.0, 21.0, 0.0, ..., 'Spain', 'Female', 'yes'],\n",
       "       ...,\n",
       "       [658.0, 31.0, 133003.03, ..., 'Germany', 'Female', 'yes'],\n",
       "       [573.0, 26.0, 129109.02, ..., 'France', 'Female', 'no'],\n",
       "       [651.0, 34.0, 91562.99, ..., 'France', 'Male', 'yes']],\n",
       "      dtype=object)"
      ]
     },
     "execution_count": 35,
     "metadata": {},
     "output_type": "execute_result"
    }
   ],
   "source": [
    "#Concate kolom train dan test\n",
    "X_train = np.concatenate([X_train_num, X_train_cat], axis = 1)\n",
    "X_test = np.concatenate([X_test_num, X_test_cat], axis = 1)\n",
    "\n",
    "# menunjukkan dataset array final yang telah di concate\n",
    "X_train"
   ]
  },
  {
   "cell_type": "code",
   "execution_count": 36,
   "metadata": {},
   "outputs": [
    {
     "data": {
      "text/plain": [
       "(12740, 9)"
      ]
     },
     "execution_count": 36,
     "metadata": {},
     "output_type": "execute_result"
    }
   ],
   "source": [
    "# Cek dimensi dataset final\n",
    "X_train.shape"
   ]
  },
  {
   "cell_type": "code",
   "execution_count": 37,
   "metadata": {},
   "outputs": [
    {
     "data": {
      "text/html": [
       "<div>\n",
       "<style scoped>\n",
       "    .dataframe tbody tr th:only-of-type {\n",
       "        vertical-align: middle;\n",
       "    }\n",
       "\n",
       "    .dataframe tbody tr th {\n",
       "        vertical-align: top;\n",
       "    }\n",
       "\n",
       "    .dataframe thead th {\n",
       "        text-align: right;\n",
       "    }\n",
       "</style>\n",
       "<table border=\"1\" class=\"dataframe\">\n",
       "  <thead>\n",
       "    <tr style=\"text-align: right;\">\n",
       "      <th></th>\n",
       "      <th>credit_score</th>\n",
       "      <th>age</th>\n",
       "      <th>balance</th>\n",
       "      <th>num_of_products</th>\n",
       "      <th>estimated_salary</th>\n",
       "      <th>NewTenure</th>\n",
       "      <th>Geography</th>\n",
       "      <th>Gender</th>\n",
       "      <th>is_active_member</th>\n",
       "    </tr>\n",
       "  </thead>\n",
       "  <tbody>\n",
       "    <tr>\n",
       "      <th>0</th>\n",
       "      <td>596.0</td>\n",
       "      <td>47.0</td>\n",
       "      <td>0.0</td>\n",
       "      <td>1.0</td>\n",
       "      <td>74835.65</td>\n",
       "      <td>0.12766</td>\n",
       "      <td>France</td>\n",
       "      <td>Male</td>\n",
       "      <td>no</td>\n",
       "    </tr>\n",
       "    <tr>\n",
       "      <th>1</th>\n",
       "      <td>676.0</td>\n",
       "      <td>26.0</td>\n",
       "      <td>108348.66</td>\n",
       "      <td>1.0</td>\n",
       "      <td>60231.74</td>\n",
       "      <td>0.038462</td>\n",
       "      <td>Germany</td>\n",
       "      <td>Female</td>\n",
       "      <td>no</td>\n",
       "    </tr>\n",
       "    <tr>\n",
       "      <th>2</th>\n",
       "      <td>701.0</td>\n",
       "      <td>21.0</td>\n",
       "      <td>0.0</td>\n",
       "      <td>2.0</td>\n",
       "      <td>26327.42</td>\n",
       "      <td>0.428571</td>\n",
       "      <td>Spain</td>\n",
       "      <td>Female</td>\n",
       "      <td>yes</td>\n",
       "    </tr>\n",
       "  </tbody>\n",
       "</table>\n",
       "</div>"
      ],
      "text/plain": [
       "  credit_score   age    balance num_of_products estimated_salary NewTenure  \\\n",
       "0        596.0  47.0        0.0             1.0         74835.65   0.12766   \n",
       "1        676.0  26.0  108348.66             1.0         60231.74  0.038462   \n",
       "2        701.0  21.0        0.0             2.0         26327.42  0.428571   \n",
       "\n",
       "  Geography  Gender is_active_member  \n",
       "0    France    Male               no  \n",
       "1   Germany  Female               no  \n",
       "2     Spain  Female              yes  "
      ]
     },
     "execution_count": 37,
     "metadata": {},
     "output_type": "execute_result"
    }
   ],
   "source": [
    "# Membuat dataframe untuk X_train\n",
    "X_train = pd.DataFrame(X_train, columns=np.concatenate([X_train_num.columns, X_train_cat.columns]))\n",
    "# Menampilkan dataframe X_train\n",
    "X_train.head(3)"
   ]
  },
  {
   "cell_type": "code",
   "execution_count": 38,
   "metadata": {},
   "outputs": [
    {
     "data": {
      "text/html": [
       "<div>\n",
       "<style scoped>\n",
       "    .dataframe tbody tr th:only-of-type {\n",
       "        vertical-align: middle;\n",
       "    }\n",
       "\n",
       "    .dataframe tbody tr th {\n",
       "        vertical-align: top;\n",
       "    }\n",
       "\n",
       "    .dataframe thead th {\n",
       "        text-align: right;\n",
       "    }\n",
       "</style>\n",
       "<table border=\"1\" class=\"dataframe\">\n",
       "  <thead>\n",
       "    <tr style=\"text-align: right;\">\n",
       "      <th></th>\n",
       "      <th>credit_score</th>\n",
       "      <th>age</th>\n",
       "      <th>balance</th>\n",
       "      <th>num_of_products</th>\n",
       "      <th>estimated_salary</th>\n",
       "      <th>NewTenure</th>\n",
       "      <th>Geography</th>\n",
       "      <th>Gender</th>\n",
       "      <th>is_active_member</th>\n",
       "    </tr>\n",
       "  </thead>\n",
       "  <tbody>\n",
       "    <tr>\n",
       "      <th>0</th>\n",
       "      <td>657.0</td>\n",
       "      <td>37.0</td>\n",
       "      <td>95845.6</td>\n",
       "      <td>1.0</td>\n",
       "      <td>122218.23</td>\n",
       "      <td>0.162162</td>\n",
       "      <td>France</td>\n",
       "      <td>Female</td>\n",
       "      <td>no</td>\n",
       "    </tr>\n",
       "    <tr>\n",
       "      <th>1</th>\n",
       "      <td>548.0</td>\n",
       "      <td>49.0</td>\n",
       "      <td>108437.89</td>\n",
       "      <td>1.0</td>\n",
       "      <td>127022.87</td>\n",
       "      <td>0.183673</td>\n",
       "      <td>Germany</td>\n",
       "      <td>Male</td>\n",
       "      <td>no</td>\n",
       "    </tr>\n",
       "    <tr>\n",
       "      <th>2</th>\n",
       "      <td>505.0</td>\n",
       "      <td>40.0</td>\n",
       "      <td>47869.69</td>\n",
       "      <td>2.0</td>\n",
       "      <td>155061.97</td>\n",
       "      <td>0.15</td>\n",
       "      <td>Germany</td>\n",
       "      <td>Male</td>\n",
       "      <td>yes</td>\n",
       "    </tr>\n",
       "  </tbody>\n",
       "</table>\n",
       "</div>"
      ],
      "text/plain": [
       "  credit_score   age    balance num_of_products estimated_salary NewTenure  \\\n",
       "0        657.0  37.0    95845.6             1.0        122218.23  0.162162   \n",
       "1        548.0  49.0  108437.89             1.0        127022.87  0.183673   \n",
       "2        505.0  40.0   47869.69             2.0        155061.97      0.15   \n",
       "\n",
       "  Geography  Gender is_active_member  \n",
       "0    France  Female               no  \n",
       "1   Germany    Male               no  \n",
       "2   Germany    Male              yes  "
      ]
     },
     "execution_count": 38,
     "metadata": {},
     "output_type": "execute_result"
    }
   ],
   "source": [
    "# Membuat dataframe untuk X_test\n",
    "X_test = pd.DataFrame(X_test, columns=np.concatenate([X_test_num.columns, X_test_cat.columns]))\n",
    "# Menampilkan dataframe X_test\n",
    "X_test.head(3)"
   ]
  },
  {
   "cell_type": "markdown",
   "metadata": {},
   "source": [
    "# Modelling"
   ]
  },
  {
   "cell_type": "code",
   "execution_count": 42,
   "metadata": {},
   "outputs": [],
   "source": [
    "num_columns = X_train_num.columns.to_list()\n",
    "cat_columns= X_train_cat.columns.to_list()\n",
    "\n",
    "# Membuat kolom tranformer untuk preprocessing\n",
    "transformer = ColumnTransformer([\n",
    "    ('scaler', MinMaxScaler(), num_columns),\n",
    "    ('ohe', OneHotEncoder(), cat_columns)       \n",
    "])\n",
    "\n",
    "#Membuat pipeline untuk Logreg\n",
    "model_logreg = Pipeline([\n",
    "('transformer', transformer),\n",
    "('classifier', LogisticRegression())\n",
    "])\n",
    "\n",
    "#Membuat pipeline untuk SVM\n",
    "model_svm = Pipeline([\n",
    "('transformer', transformer),\n",
    "('classifier', SVC())\n",
    "])\n",
    "\n",
    "#Membuat pipeline untuk KNN\n",
    "model_knn = Pipeline([\n",
    "('transformer', transformer),\n",
    "('classifier', KNeighborsClassifier())\n",
    "])\n",
    "\n",
    "#Membuat pipeline untuk Decision Tree\n",
    "model_dt = Pipeline([\n",
    "('transformer', transformer),\n",
    "('classifier', DecisionTreeClassifier())\n",
    "])\n",
    "\n",
    "#Membuat pipeline untuk Random Forest   \n",
    "model_rf = Pipeline([\n",
    "('transformer', transformer),\n",
    "('classifier', RandomForestClassifier())\n",
    "])\n",
    "\n",
    "#Membuat pipeline untuk XGBoost\n",
    "model_xgb = Pipeline([\n",
    "('transformer', transformer),\n",
    "('classifier', XGBClassifier())\n",
    "])"
   ]
  },
  {
   "cell_type": "code",
   "execution_count": 43,
   "metadata": {},
   "outputs": [
    {
     "name": "stdout",
     "output_type": "stream",
     "text": [
      "Training Score:  0.7043\n",
      "Testing Score:  0.7037\n"
     ]
    }
   ],
   "source": [
    "# fit model pada train set\n",
    "model_logreg.fit(X_train, y_train)\n",
    "# predict model pada test set\n",
    "y_logreg_pred = model_logreg.predict(X_test)\n",
    "# Menampilkan nilai akurasi training dan testing\n",
    "print('Training Score: ',round(model_logreg.score(X_train, y_train),4))\n",
    "print('Testing Score: ', round(model_logreg.score(X_test, y_test),4))"
   ]
  },
  {
   "cell_type": "code",
   "execution_count": 45,
   "metadata": {},
   "outputs": [
    {
     "name": "stdout",
     "output_type": "stream",
     "text": [
      "              precision    recall  f1-score   support\n",
      "\n",
      "          No       0.70      0.72      0.71      1593\n",
      "         Yes       0.71      0.69      0.70      1593\n",
      "\n",
      "    accuracy                           0.70      3186\n",
      "   macro avg       0.70      0.70      0.70      3186\n",
      "weighted avg       0.70      0.70      0.70      3186\n",
      "\n"
     ]
    }
   ],
   "source": [
    "# Mendefinisikan target\n",
    "target = ['No', 'Yes']\n",
    "# menampilkan classification report\n",
    "print(classification_report(y_test, y_logreg_pred, target_names=target))"
   ]
  },
  {
   "cell_type": "code",
   "execution_count": 46,
   "metadata": {},
   "outputs": [
    {
     "name": "stdout",
     "output_type": "stream",
     "text": [
      "F1 Score - All - Cross Validation  :  [0.70985915 0.70501894 0.68531128]\n",
      "F1 Score - Mean - Cross Validation :  0.7000631261234033\n",
      "F1 Score - Std - Cross Validation  :  0.010616639615873811\n",
      "F1 Score - Range of Test-Set       :  0.6894464865075295 - 0.710679765739277\n"
     ]
    }
   ],
   "source": [
    "# menggunakan StratifiedKFold untuk cross-validation\n",
    "stratified_kfold = StratifiedKFold(n_splits=3, shuffle=True, random_state=42)\n",
    "\n",
    "# mendefinisikan F1 scorer untuk cross validation\n",
    "f1_scorer = make_scorer(f1_score)\n",
    "\n",
    "# menghitung cross validation\n",
    "f1_train_cross_val = cross_val_score(model_logreg, X_train, y_train, cv=stratified_kfold, scoring=f1_scorer)\n",
    "\n",
    "# menampilkan hasil\n",
    "print('F1 Score - All - Cross Validation  : ', f1_train_cross_val)\n",
    "print('F1 Score - Mean - Cross Validation : ', f1_train_cross_val.mean())\n",
    "print('F1 Score - Std - Cross Validation  : ', f1_train_cross_val.std())\n",
    "print('F1 Score - Range of Test-Set       : ', (f1_train_cross_val.mean() - f1_train_cross_val.std()), '-', (f1_train_cross_val.mean() + f1_train_cross_val.std()))"
   ]
  },
  {
   "cell_type": "code",
   "execution_count": 47,
   "metadata": {},
   "outputs": [
    {
     "name": "stdout",
     "output_type": "stream",
     "text": [
      "Training Score:  0.7746\n",
      "Testing Score:  0.7643\n"
     ]
    }
   ],
   "source": [
    "# fit model pada train set\n",
    "model_svm.fit(X_train, y_train)\n",
    "# predict model pada test set\n",
    "y_svm_pred = model_svm.predict(X_test)\n",
    "# Menampilkan nilai akurasi training dan testing\n",
    "print('Training Score: ',round(model_svm.score(X_train, y_train),4))\n",
    "print('Testing Score: ', round(model_svm.score(X_test, y_test),4))"
   ]
  },
  {
   "cell_type": "code",
   "execution_count": 49,
   "metadata": {},
   "outputs": [
    {
     "name": "stdout",
     "output_type": "stream",
     "text": [
      "              precision    recall  f1-score   support\n",
      "\n",
      "          No       0.75      0.80      0.77      1593\n",
      "         Yes       0.79      0.73      0.76      1593\n",
      "\n",
      "    accuracy                           0.76      3186\n",
      "   macro avg       0.77      0.76      0.76      3186\n",
      "weighted avg       0.77      0.76      0.76      3186\n",
      "\n"
     ]
    }
   ],
   "source": [
    "# Mendefinisikan target\n",
    "target = ['No', 'Yes']\n",
    "# menampilkan classification report\n",
    "print(classification_report(y_test, y_svm_pred, target_names=target))"
   ]
  },
  {
   "cell_type": "code",
   "execution_count": 50,
   "metadata": {},
   "outputs": [
    {
     "name": "stdout",
     "output_type": "stream",
     "text": [
      "F1 Score - All - Cross Validation  :  [0.75144788 0.74695864 0.75247525]\n",
      "F1 Score - Mean - Cross Validation :  0.7502939204807385\n",
      "F1 Score - Std - Cross Validation  :  0.0023954063546379237\n",
      "F1 Score - Range of Test-Set       :  0.7478985141261005 - 0.7526893268353765\n"
     ]
    }
   ],
   "source": [
    "# menggunakan StratifiedKFold untuk cross-validation\n",
    "stratified_kfold = StratifiedKFold(n_splits=3, shuffle=True, random_state=42)\n",
    "\n",
    "# mendefinisikan F1 scorer untuk cross validation\n",
    "f1_scorer = make_scorer(f1_score)\n",
    "\n",
    "# menghitung cross validation\n",
    "f1_train_cross_val = cross_val_score(model_svm, X_train, y_train, cv=stratified_kfold, scoring=f1_scorer)\n",
    "\n",
    "# menampilkan hasil\n",
    "print('F1 Score - All - Cross Validation  : ', f1_train_cross_val)\n",
    "print('F1 Score - Mean - Cross Validation : ', f1_train_cross_val.mean())\n",
    "print('F1 Score - Std - Cross Validation  : ', f1_train_cross_val.std())\n",
    "print('F1 Score - Range of Test-Set       : ', (f1_train_cross_val.mean() - f1_train_cross_val.std()), '-', (f1_train_cross_val.mean() + f1_train_cross_val.std()))"
   ]
  },
  {
   "cell_type": "code",
   "execution_count": 51,
   "metadata": {},
   "outputs": [
    {
     "name": "stdout",
     "output_type": "stream",
     "text": [
      "Training Score:  0.8821\n",
      "Testing Score:  0.8095\n"
     ]
    }
   ],
   "source": [
    "# fit model pada train set\n",
    "model_knn.fit(X_train, y_train)\n",
    "# predict model pada test set\n",
    "y_knn_pred = model_knn.predict(X_test)\n",
    "# Menampilkan nilai akurasi training dan testing\n",
    "print('Training Score: ',round(model_knn.score(X_train, y_train),4))\n",
    "print('Testing Score: ', round(model_knn.score(X_test, y_test),4))"
   ]
  },
  {
   "cell_type": "code",
   "execution_count": 52,
   "metadata": {},
   "outputs": [
    {
     "name": "stdout",
     "output_type": "stream",
     "text": [
      "              precision    recall  f1-score   support\n",
      "\n",
      "           0       0.87      0.73      0.79      1593\n",
      "           1       0.77      0.89      0.82      1593\n",
      "\n",
      "    accuracy                           0.81      3186\n",
      "   macro avg       0.82      0.81      0.81      3186\n",
      "weighted avg       0.82      0.81      0.81      3186\n",
      "\n"
     ]
    }
   ],
   "source": [
    "# menampilkan classification report\n",
    "print(classification_report(y_test, y_knn_pred))"
   ]
  },
  {
   "cell_type": "code",
   "execution_count": 53,
   "metadata": {},
   "outputs": [
    {
     "name": "stdout",
     "output_type": "stream",
     "text": [
      "F1 Score - All - Cross Validation  :  [0.79153534 0.78391734 0.7881375 ]\n",
      "F1 Score - Mean - Cross Validation :  0.7878633940507327\n",
      "F1 Score - Std - Cross Validation  :  0.0031160707441483084\n",
      "F1 Score - Range of Test-Set       :  0.7847473233065844 - 0.790979464794881\n"
     ]
    }
   ],
   "source": [
    "# menggunakan StratifiedKFold untuk cross-validation\n",
    "stratified_kfold = StratifiedKFold(n_splits=3, shuffle=True, random_state=42)\n",
    "\n",
    "# mendefinisikan F1 scorer untuk cross validation\n",
    "f1_scorer = make_scorer(f1_score)\n",
    "\n",
    "# menghitung cross validation\n",
    "f1_train_cross_val = cross_val_score(model_knn, X_train, y_train, cv=stratified_kfold, scoring=f1_scorer)\n",
    "\n",
    "# menampilkan hasil\n",
    "print('F1 Score - All - Cross Validation  : ', f1_train_cross_val)\n",
    "print('F1 Score - Mean - Cross Validation : ', f1_train_cross_val.mean())\n",
    "print('F1 Score - Std - Cross Validation  : ', f1_train_cross_val.std())\n",
    "print('F1 Score - Range of Test-Set       : ', (f1_train_cross_val.mean() - f1_train_cross_val.std()), '-', (f1_train_cross_val.mean() + f1_train_cross_val.std()))"
   ]
  },
  {
   "cell_type": "code",
   "execution_count": 54,
   "metadata": {},
   "outputs": [
    {
     "name": "stdout",
     "output_type": "stream",
     "text": [
      "Training Score:  1.0\n",
      "Testing Score:  0.9454\n"
     ]
    }
   ],
   "source": [
    "# fit model pada train set\n",
    "model_rf.fit(X_train, y_train)\n",
    "# predict model pada test set\n",
    "y_rf_pred = model_rf.predict(X_test)\n",
    "# Menampilkan nilai akurasi training dan testing\n",
    "print('Training Score: ',round(model_rf.score(X_train, y_train),4))\n",
    "print('Testing Score: ', round(model_rf.score(X_test, y_test),4))"
   ]
  },
  {
   "cell_type": "code",
   "execution_count": 55,
   "metadata": {},
   "outputs": [
    {
     "name": "stdout",
     "output_type": "stream",
     "text": [
      "              precision    recall  f1-score   support\n",
      "\n",
      "           0       0.98      0.91      0.94      1593\n",
      "           1       0.92      0.98      0.95      1593\n",
      "\n",
      "    accuracy                           0.95      3186\n",
      "   macro avg       0.95      0.95      0.95      3186\n",
      "weighted avg       0.95      0.95      0.95      3186\n",
      "\n"
     ]
    }
   ],
   "source": [
    "# menampilkan classification report\n",
    "print(classification_report(y_test, y_rf_pred))"
   ]
  },
  {
   "cell_type": "code",
   "execution_count": 56,
   "metadata": {},
   "outputs": [
    {
     "name": "stdout",
     "output_type": "stream",
     "text": [
      "F1 Score - All - Cross Validation  :  [0.92269213 0.92588369 0.91784573]\n",
      "F1 Score - Mean - Cross Validation :  0.9221405199142065\n",
      "F1 Score - Std - Cross Validation  :  0.0033045842229353544\n",
      "F1 Score - Range of Test-Set       :  0.9188359356912712 - 0.9254451041371419\n"
     ]
    }
   ],
   "source": [
    "# menggunakan StratifiedKFold untuk cross-validation\n",
    "stratified_kfold = StratifiedKFold(n_splits=3, shuffle=True, random_state=42)\n",
    "\n",
    "# mendefinisikan F1 scorer untuk cross validation\n",
    "f1_scorer = make_scorer(f1_score)\n",
    "\n",
    "# menghitung cross validation\n",
    "f1_train_cross_val = cross_val_score(model_rf, X_train, y_train, cv=stratified_kfold, scoring=f1_scorer)\n",
    "\n",
    "# menampilkan hasil\n",
    "print('F1 Score - All - Cross Validation  : ', f1_train_cross_val)\n",
    "print('F1 Score - Mean - Cross Validation : ', f1_train_cross_val.mean())\n",
    "print('F1 Score - Std - Cross Validation  : ', f1_train_cross_val.std())\n",
    "print('F1 Score - Range of Test-Set       : ', (f1_train_cross_val.mean() - f1_train_cross_val.std()), '-', (f1_train_cross_val.mean() + f1_train_cross_val.std()))"
   ]
  },
  {
   "cell_type": "code",
   "execution_count": 57,
   "metadata": {},
   "outputs": [
    {
     "name": "stdout",
     "output_type": "stream",
     "text": [
      "Training Score:  1.0\n",
      "Testing Score:  0.9118\n"
     ]
    }
   ],
   "source": [
    "# fit model pada train set\n",
    "model_dt.fit(X_train, y_train)\n",
    "# predict model pada test set\n",
    "y_dt_pred = model_dt.predict(X_test)\n",
    "# Menampilkan nilai akurasi training dan testing\n",
    "print('Training Score: ',round(model_dt.score(X_train, y_train),4))\n",
    "print('Testing Score: ', round(model_dt.score(X_test, y_test),4))"
   ]
  },
  {
   "cell_type": "code",
   "execution_count": 58,
   "metadata": {},
   "outputs": [
    {
     "name": "stdout",
     "output_type": "stream",
     "text": [
      "              precision    recall  f1-score   support\n",
      "\n",
      "           0       0.97      0.85      0.91      1593\n",
      "           1       0.87      0.98      0.92      1593\n",
      "\n",
      "    accuracy                           0.91      3186\n",
      "   macro avg       0.92      0.91      0.91      3186\n",
      "weighted avg       0.92      0.91      0.91      3186\n",
      "\n"
     ]
    }
   ],
   "source": [
    "# menampilkan classification report\n",
    "print(classification_report(y_test, y_dt_pred))"
   ]
  },
  {
   "cell_type": "code",
   "execution_count": 59,
   "metadata": {},
   "outputs": [
    {
     "name": "stdout",
     "output_type": "stream",
     "text": [
      "F1 Score - All - Cross Validation  :  [0.88356766 0.89407619 0.88825592]\n",
      "F1 Score - Mean - Cross Validation :  0.8886332576999868\n",
      "F1 Score - Std - Cross Validation  :  0.004298379686663439\n",
      "F1 Score - Range of Test-Set       :  0.8843348780133233 - 0.8929316373866503\n"
     ]
    }
   ],
   "source": [
    "# menggunakan StratifiedKFold untuk cross-validation\n",
    "stratified_kfold = StratifiedKFold(n_splits=3, shuffle=True, random_state=42)\n",
    "\n",
    "# mendefinisikan F1 scorer untuk cross validation\n",
    "f1_scorer = make_scorer(f1_score)\n",
    "\n",
    "# menghitung cross validation\n",
    "f1_train_cross_val = cross_val_score(model_dt, X_train, y_train, cv=stratified_kfold, scoring=f1_scorer)\n",
    "\n",
    "# menampilkan hasil\n",
    "print('F1 Score - All - Cross Validation  : ', f1_train_cross_val)\n",
    "print('F1 Score - Mean - Cross Validation : ', f1_train_cross_val.mean())\n",
    "print('F1 Score - Std - Cross Validation  : ', f1_train_cross_val.std())\n",
    "print('F1 Score - Range of Test-Set       : ', (f1_train_cross_val.mean() - f1_train_cross_val.std()), '-', (f1_train_cross_val.mean() + f1_train_cross_val.std()))"
   ]
  },
  {
   "cell_type": "code",
   "execution_count": 60,
   "metadata": {},
   "outputs": [
    {
     "name": "stdout",
     "output_type": "stream",
     "text": [
      "Training Score:  0.9689\n",
      "Testing Score:  0.9033\n"
     ]
    }
   ],
   "source": [
    "# fit model pada train set\n",
    "model_xgb.fit(X_train, y_train)\n",
    "# predict model pada test set\n",
    "y_xgb_pred = model_xgb.predict(X_test)\n",
    "# Menampilkan nilai akurasi training dan testing\n",
    "print('Training Score: ',round(model_xgb.score(X_train, y_train),4))\n",
    "print('Testing Score: ', round(model_xgb.score(X_test, y_test),4))"
   ]
  },
  {
   "cell_type": "code",
   "execution_count": 61,
   "metadata": {},
   "outputs": [
    {
     "name": "stdout",
     "output_type": "stream",
     "text": [
      "              precision    recall  f1-score   support\n",
      "\n",
      "           0       0.93      0.87      0.90      1593\n",
      "           1       0.88      0.94      0.91      1593\n",
      "\n",
      "    accuracy                           0.90      3186\n",
      "   macro avg       0.91      0.90      0.90      3186\n",
      "weighted avg       0.91      0.90      0.90      3186\n",
      "\n"
     ]
    }
   ],
   "source": [
    "# menampilkan classification report\n",
    "print(classification_report(y_test, y_xgb_pred))"
   ]
  },
  {
   "cell_type": "code",
   "execution_count": 62,
   "metadata": {},
   "outputs": [
    {
     "name": "stdout",
     "output_type": "stream",
     "text": [
      "F1 Score - All - Cross Validation  :  [0.89181818 0.89824721 0.8861218 ]\n",
      "F1 Score - Mean - Cross Validation :  0.8920623984730404\n",
      "F1 Score - Std - Cross Validation  :  0.0049531888230211945\n",
      "F1 Score - Range of Test-Set       :  0.8871092096500192 - 0.8970155872960616\n"
     ]
    }
   ],
   "source": [
    "# menggunakan StratifiedKFold untuk cross-validation\n",
    "stratified_kfold = StratifiedKFold(n_splits=3, shuffle=True, random_state=42)\n",
    "\n",
    "# mendefinisikan F1 scorer untuk cross validation\n",
    "f1_scorer = make_scorer(f1_score)\n",
    "\n",
    "# menghitung cross validation\n",
    "f1_train_cross_val = cross_val_score(model_xgb, X_train, y_train, cv=stratified_kfold, scoring=f1_scorer)\n",
    "\n",
    "# menampilkan hasil\n",
    "print('F1 Score - All - Cross Validation  : ', f1_train_cross_val)\n",
    "print('F1 Score - Mean - Cross Validation : ', f1_train_cross_val.mean())\n",
    "print('F1 Score - Std - Cross Validation  : ', f1_train_cross_val.std())\n",
    "print('F1 Score - Range of Test-Set       : ', (f1_train_cross_val.mean() - f1_train_cross_val.std()), '-', (f1_train_cross_val.mean() + f1_train_cross_val.std()))"
   ]
  },
  {
   "cell_type": "code",
   "execution_count": 63,
   "metadata": {},
   "outputs": [],
   "source": [
    "param_logreg = {\n",
    "    'classifier__penalty': ['l1', 'l2', 'elasticnet', 'none'],\n",
    "    'classifier__C': [0.001, 0.01, 0.1, 1, 10, 100],\n",
    "}\n",
    "\n",
    "param_knn = {\n",
    "    'classifier__n_neighbors': np.arange(2, 30, 1), \n",
    "    'classifier__weights': ['uniform', 'distance'], \n",
    "}\n",
    "param_dt = {\n",
    "    'classifier__criterion': ['gini', 'entropy'],\n",
    "    'classifier__max_depth': [5, 10, 15, 20],\n",
    "    'classifier__min_samples_leaf': [1, 2, 4],\n",
    "    'classifier__ccp_alpha': [0.0, 0.1, 0.2],\n",
    "}\n",
    "\n",
    "param_rf = {\n",
    "    'classifier__n_estimators': np.arange(200, 401, 30),\n",
    "    'classifier__max_depth': np.arange(4, 8, 2), \n",
    "    'classifier__min_samples_split': [2, 5, 10],\n",
    "}\n",
    "\n",
    "param_svm = {\n",
    "    'classifier__C': [0.1, 1, 10, 100],  \n",
    "    'classifier__gamma': [1, 0.1, 0.01, 0.001, 0.0001]  \n",
    "}\n",
    "\n",
    "param_xgb = {\n",
    "    'classifier__max_depth': [3, 5, 7],\n",
    "    'classifier__n_estimators': [50, 100, 150],\n",
    "    'classifier__learning_rate': [0.1, 0.01, 0.001],\n",
    "    'transformer__verbose': [0],\n",
    "}"
   ]
  },
  {
   "cell_type": "code",
   "execution_count": 64,
   "metadata": {},
   "outputs": [],
   "source": [
    "# proses grid search untuk tuning hyperparameter secara paralel\n",
    "grid_logreg = GridSearchCV(model_logreg, param_grid=param_logreg, cv=stratified_kfold, n_jobs=-1).fit(X_train, y_train)"
   ]
  },
  {
   "cell_type": "code",
   "execution_count": 65,
   "metadata": {},
   "outputs": [],
   "source": [
    "# proses grid search untuk tuning hyperparameter secara paralel\n",
    "grid_knn = GridSearchCV(model_knn, param_grid=param_knn, cv=stratified_kfold, n_jobs=-1).fit(X_train, y_train)"
   ]
  },
  {
   "cell_type": "code",
   "execution_count": 66,
   "metadata": {},
   "outputs": [],
   "source": [
    "# proses grid search untuk tuning hyperparameter secara paralel\n",
    "grid_rf = GridSearchCV(model_rf, param_grid=param_rf, cv=stratified_kfold, n_jobs=-1).fit(X_train, y_train)"
   ]
  },
  {
   "cell_type": "code",
   "execution_count": 67,
   "metadata": {},
   "outputs": [],
   "source": [
    "# proses grid search untuk tuning hyperparameter secara paralel\n",
    "grid_dt = GridSearchCV(model_dt, param_grid=param_dt, cv=stratified_kfold, n_jobs=-1).fit(X_train, y_train)"
   ]
  },
  {
   "cell_type": "code",
   "execution_count": 68,
   "metadata": {},
   "outputs": [],
   "source": [
    "# proses grid search untuk tuning hyperparameter secara paralel\n",
    "grid_svc = GridSearchCV(model_svm, param_grid=param_svm, cv=stratified_kfold, n_jobs=-1).fit(X_train, y_train)"
   ]
  },
  {
   "cell_type": "code",
   "execution_count": 69,
   "metadata": {},
   "outputs": [],
   "source": [
    "# proses grid search untuk tuning hyperparameter secara paralel\n",
    "grid_xgb = GridSearchCV(model_xgb, param_grid=param_xgb, cv=stratified_kfold, n_jobs=-1).fit(X_train, y_train)"
   ]
  },
  {
   "cell_type": "code",
   "execution_count": 71,
   "metadata": {},
   "outputs": [
    {
     "name": "stdout",
     "output_type": "stream",
     "text": [
      "Train Set Score :  0.7050235478806908\n",
      "Test Set Score :  0.7049591964846202\n"
     ]
    }
   ],
   "source": [
    "# Menampilkan hasil train dan test setelah dilakukan tuning\n",
    "print('Train Set Score : ', grid_logreg.score(X_train, y_train))\n",
    "print('Test Set Score : ', grid_logreg.score(X_test, y_test))"
   ]
  },
  {
   "cell_type": "code",
   "execution_count": 72,
   "metadata": {},
   "outputs": [
    {
     "name": "stdout",
     "output_type": "stream",
     "text": [
      "Train Set Score :  1.0\n",
      "Test Set Score :  0.9171374764595104\n"
     ]
    }
   ],
   "source": [
    "# Menampilkan hasil train dan test setelah dilakukan tuning\n",
    "print('Train Set Score : ', grid_knn.score(X_train, y_train))\n",
    "print('Test Set Score : ', grid_knn.score(X_test, y_test))"
   ]
  },
  {
   "cell_type": "code",
   "execution_count": 73,
   "metadata": {},
   "outputs": [
    {
     "name": "stdout",
     "output_type": "stream",
     "text": [
      "Train Set Score :  0.7957613814756672\n",
      "Test Set Score :  0.7802887633396108\n"
     ]
    }
   ],
   "source": [
    "# Menampilkan hasil train dan test setelah dilakukan tuning\n",
    "print('Train Set Score : ', grid_rf.score(X_train, y_train))\n",
    "print('Test Set Score : ', grid_rf.score(X_test, y_test))"
   ]
  },
  {
   "cell_type": "code",
   "execution_count": 74,
   "metadata": {},
   "outputs": [
    {
     "name": "stdout",
     "output_type": "stream",
     "text": [
      "Train Set Score :  0.9995290423861852\n",
      "Test Set Score :  0.9127432517263026\n"
     ]
    }
   ],
   "source": [
    "# Menampilkan hasil train dan test setelah dilakukan tuning\n",
    "print('Train Set Score : ', grid_dt.score(X_train, y_train))\n",
    "print('Test Set Score : ', grid_dt.score(X_test, y_test))"
   ]
  },
  {
   "cell_type": "code",
   "execution_count": 75,
   "metadata": {},
   "outputs": [
    {
     "name": "stdout",
     "output_type": "stream",
     "text": [
      "Train Set Score :  0.871585557299843\n",
      "Test Set Score :  0.8330194601381042\n"
     ]
    }
   ],
   "source": [
    "# Menampilkan hasil train dan test setelah dilakukan tuning\n",
    "print('Train Set Score : ', grid_svc.score(X_train, y_train))\n",
    "print('Test Set Score : ', grid_svc.score(X_test, y_test))"
   ]
  },
  {
   "cell_type": "code",
   "execution_count": 76,
   "metadata": {},
   "outputs": [
    {
     "name": "stdout",
     "output_type": "stream",
     "text": [
      "Train Set Score :  0.9588697017268446\n",
      "Test Set Score :  0.9017576898932831\n"
     ]
    }
   ],
   "source": [
    "# Menampilkan hasil train dan test setelah dilakukan tuning\n",
    "print('Train Set Score : ', grid_xgb.score(X_train, y_train))\n",
    "print('Test Set Score : ', grid_xgb.score(X_test, y_test))"
   ]
  },
  {
   "cell_type": "code",
   "execution_count": 77,
   "metadata": {},
   "outputs": [
    {
     "name": "stdout",
     "output_type": "stream",
     "text": [
      "{'classifier__n_neighbors': 2, 'classifier__weights': 'distance'}\n",
      "\n",
      "\n",
      "Pipeline(steps=[('transformer',\n",
      "                 ColumnTransformer(transformers=[('scaler', MinMaxScaler(),\n",
      "                                                  ['credit_score', 'age',\n",
      "                                                   'balance', 'num_of_products',\n",
      "                                                   'estimated_salary',\n",
      "                                                   'NewTenure']),\n",
      "                                                 ('ohe', OneHotEncoder(),\n",
      "                                                  ['Geography', 'Gender',\n",
      "                                                   'is_active_member'])])),\n",
      "                ('classifier',\n",
      "                 KNeighborsClassifier(n_neighbors=2, weights='distance'))])\n",
      "\n",
      "\n",
      "Index(['mean_fit_time', 'std_fit_time', 'mean_score_time', 'std_score_time',\n",
      "       'param_classifier__n_neighbors', 'param_classifier__weights', 'params',\n",
      "       'split0_test_score', 'split1_test_score', 'split2_test_score',\n",
      "       'mean_test_score', 'std_test_score', 'rank_test_score'],\n",
      "      dtype='object')\n"
     ]
    }
   ],
   "source": [
    "# Mendefinisikan parameter yang terbaik\n",
    "best_param_knn = grid_knn.best_params_\n",
    "# Menampilkan best parameter\n",
    "print(best_param_knn)\n",
    "print('\\n')\n",
    "# mendefinsiikan estimator yang terbaik\n",
    "best_knn = grid_knn.best_estimator_\n",
    "# menampilkan estimator yang terbaik\n",
    "print(best_knn)\n",
    "print('\\n')\n",
    "# Membuat dataframe untuk result_df_knn\n",
    "result_df_knn = pd.DataFrame.from_dict(grid_knn.cv_results_, orient='columns')\n",
    "# menampilkan kolom result_df_knn\n",
    "print(result_df_knn.columns)"
   ]
  },
  {
   "cell_type": "code",
   "execution_count": 78,
   "metadata": {},
   "outputs": [
    {
     "name": "stdout",
     "output_type": "stream",
     "text": [
      "{'classifier__max_depth': 6, 'classifier__min_samples_split': 10, 'classifier__n_estimators': 260}\n",
      "\n",
      "\n",
      "Pipeline(steps=[('transformer',\n",
      "                 ColumnTransformer(transformers=[('scaler', MinMaxScaler(),\n",
      "                                                  ['credit_score', 'age',\n",
      "                                                   'balance', 'num_of_products',\n",
      "                                                   'estimated_salary',\n",
      "                                                   'NewTenure']),\n",
      "                                                 ('ohe', OneHotEncoder(),\n",
      "                                                  ['Geography', 'Gender',\n",
      "                                                   'is_active_member'])])),\n",
      "                ('classifier',\n",
      "                 RandomForestClassifier(max_depth=6, min_samples_split=10,\n",
      "                                        n_estimators=260))])\n",
      "\n",
      "\n",
      "Index(['mean_fit_time', 'std_fit_time', 'mean_score_time', 'std_score_time',\n",
      "       'param_classifier__max_depth', 'param_classifier__min_samples_split',\n",
      "       'param_classifier__n_estimators', 'params', 'split0_test_score',\n",
      "       'split1_test_score', 'split2_test_score', 'mean_test_score',\n",
      "       'std_test_score', 'rank_test_score'],\n",
      "      dtype='object')\n"
     ]
    }
   ],
   "source": [
    "# Mendefinisikan parameter yang terbaik\n",
    "best_param_rf = grid_rf.best_params_\n",
    "# Menampilkan best parameter\n",
    "print(best_param_rf)\n",
    "print('\\n')\n",
    "# mendefinsiikan estimator yang terbaik\n",
    "best_rf = grid_rf.best_estimator_\n",
    "# menampilkan estimator yang terbaik\n",
    "print(best_rf)\n",
    "print('\\n')\n",
    "# Membuat dataframe untuk result_df_rf\n",
    "result_df_rf = pd.DataFrame.from_dict(grid_rf.cv_results_, orient='columns')\n",
    "# menampilkan kolom result_df_rf\n",
    "print(result_df_rf.columns)"
   ]
  },
  {
   "cell_type": "code",
   "execution_count": 79,
   "metadata": {},
   "outputs": [
    {
     "name": "stdout",
     "output_type": "stream",
     "text": [
      "{'classifier__ccp_alpha': 0.0, 'classifier__criterion': 'gini', 'classifier__max_depth': 20, 'classifier__min_samples_leaf': 1}\n",
      "\n",
      "\n",
      "Pipeline(steps=[('transformer',\n",
      "                 ColumnTransformer(transformers=[('scaler', MinMaxScaler(),\n",
      "                                                  ['credit_score', 'age',\n",
      "                                                   'balance', 'num_of_products',\n",
      "                                                   'estimated_salary',\n",
      "                                                   'NewTenure']),\n",
      "                                                 ('ohe', OneHotEncoder(),\n",
      "                                                  ['Geography', 'Gender',\n",
      "                                                   'is_active_member'])])),\n",
      "                ('classifier', DecisionTreeClassifier(max_depth=20))])\n",
      "\n",
      "\n",
      "Index(['mean_fit_time', 'std_fit_time', 'mean_score_time', 'std_score_time',\n",
      "       'param_classifier__ccp_alpha', 'param_classifier__criterion',\n",
      "       'param_classifier__max_depth', 'param_classifier__min_samples_leaf',\n",
      "       'params', 'split0_test_score', 'split1_test_score', 'split2_test_score',\n",
      "       'mean_test_score', 'std_test_score', 'rank_test_score'],\n",
      "      dtype='object')\n"
     ]
    }
   ],
   "source": [
    "# Mendefinisikan parameter yang terbaik\n",
    "best_param_dt = grid_dt.best_params_\n",
    "# Menampilkan best parameter\n",
    "print(best_param_dt)\n",
    "print('\\n')\n",
    "# mendefinsiikan estimator yang terbaik\n",
    "best_dt = grid_dt.best_estimator_\n",
    "# menampilkan estimator yang terbaik\n",
    "print(best_dt)\n",
    "print('\\n')\n",
    "# Membuat dataframe untuk result_df_dt\n",
    "result_df_dt = pd.DataFrame.from_dict(grid_dt.cv_results_, orient='columns')\n",
    "# menampilkan kolom result_df_dt\n",
    "print(result_df_dt.columns)"
   ]
  },
  {
   "cell_type": "code",
   "execution_count": 80,
   "metadata": {},
   "outputs": [
    {
     "name": "stdout",
     "output_type": "stream",
     "text": [
      "{'classifier__C': 100, 'classifier__gamma': 1}\n",
      "\n",
      "\n",
      "Pipeline(steps=[('transformer',\n",
      "                 ColumnTransformer(transformers=[('scaler', MinMaxScaler(),\n",
      "                                                  ['credit_score', 'age',\n",
      "                                                   'balance', 'num_of_products',\n",
      "                                                   'estimated_salary',\n",
      "                                                   'NewTenure']),\n",
      "                                                 ('ohe', OneHotEncoder(),\n",
      "                                                  ['Geography', 'Gender',\n",
      "                                                   'is_active_member'])])),\n",
      "                ('classifier', SVC(C=100, gamma=1))])\n",
      "\n",
      "\n",
      "Index(['mean_fit_time', 'std_fit_time', 'mean_score_time', 'std_score_time',\n",
      "       'param_classifier__C', 'param_classifier__gamma', 'params',\n",
      "       'split0_test_score', 'split1_test_score', 'split2_test_score',\n",
      "       'mean_test_score', 'std_test_score', 'rank_test_score'],\n",
      "      dtype='object')\n"
     ]
    }
   ],
   "source": [
    "# Mendefinisikan parameter yang terbaik\n",
    "best_param_svc = grid_svc.best_params_\n",
    "# Menampilkan best parameter\n",
    "print(best_param_svc)\n",
    "print('\\n')\n",
    "# mendefinsiikan estimator yang terbaik\n",
    "best_svc = grid_svc.best_estimator_\n",
    "# menampilkan estimator yang terbaik\n",
    "print(best_svc)\n",
    "print('\\n')\n",
    "# Membuat dataframe untuk result_df_svc\n",
    "result_df_svc = pd.DataFrame.from_dict(grid_svc.cv_results_, orient='columns')\n",
    "# menampilkan kolom result_df_svc\n",
    "print(result_df_svc.columns)"
   ]
  },
  {
   "cell_type": "code",
   "execution_count": 81,
   "metadata": {},
   "outputs": [
    {
     "name": "stdout",
     "output_type": "stream",
     "text": [
      "{'classifier__learning_rate': 0.1, 'classifier__max_depth': 7, 'classifier__n_estimators': 150, 'transformer__verbose': 0}\n",
      "\n",
      "\n",
      "Pipeline(steps=[('transformer',\n",
      "                 ColumnTransformer(transformers=[('scaler', MinMaxScaler(),\n",
      "                                                  ['credit_score', 'age',\n",
      "                                                   'balance', 'num_of_products',\n",
      "                                                   'estimated_salary',\n",
      "                                                   'NewTenure']),\n",
      "                                                 ('ohe', OneHotEncoder(),\n",
      "                                                  ['Geography', 'Gender',\n",
      "                                                   'is_active_member'])],\n",
      "                                   verbose=0)),\n",
      "                ('classifier',\n",
      "                 XGBClassifier(base_score=None, booster=None, callbacks=None,\n",
      "                               colsample_bylevel=None, colsa...\n",
      "                               feature_types=None, gamma=None, grow_policy=None,\n",
      "                               importance_type=None,\n",
      "                               interaction_constraints=None, learning_rate=0.1,\n",
      "                               max_bin=None, max_cat_threshold=None,\n",
      "                               max_cat_to_onehot=None, max_delta_step=None,\n",
      "                               max_depth=7, max_leaves=None,\n",
      "                               min_child_weight=None, missing=nan,\n",
      "                               monotone_constraints=None, multi_strategy=None,\n",
      "                               n_estimators=150, n_jobs=None,\n",
      "                               num_parallel_tree=None, random_state=None, ...))])\n",
      "\n",
      "\n",
      "Index(['mean_fit_time', 'std_fit_time', 'mean_score_time', 'std_score_time',\n",
      "       'param_classifier__learning_rate', 'param_classifier__max_depth',\n",
      "       'param_classifier__n_estimators', 'param_transformer__verbose',\n",
      "       'params', 'split0_test_score', 'split1_test_score', 'split2_test_score',\n",
      "       'mean_test_score', 'std_test_score', 'rank_test_score'],\n",
      "      dtype='object')\n"
     ]
    }
   ],
   "source": [
    "# Mendefinisikan parameter yang terbaik\n",
    "best_param_xgb = grid_xgb.best_params_\n",
    "# Menampilkan best parameter\n",
    "print(best_param_xgb)\n",
    "print('\\n')\n",
    "# mendefinsiikan estimator yang terbaik\n",
    "best_xgb = grid_xgb.best_estimator_\n",
    "# menampilkan estimator yang terbaik\n",
    "print(best_xgb)\n",
    "print('\\n')\n",
    "# Membuat dataframe untuk result_df_xgb\n",
    "result_df_xgb = pd.DataFrame.from_dict(grid_xgb.cv_results_, orient='columns')\n",
    "# menampilkan kolom result_df_xgb\n",
    "print(result_df_xgb.columns)"
   ]
  },
  {
   "cell_type": "code",
   "execution_count": 82,
   "metadata": {},
   "outputs": [
    {
     "name": "stdout",
     "output_type": "stream",
     "text": [
      "{'classifier__C': 10, 'classifier__penalty': 'l2'}\n",
      "\n",
      "\n",
      "Pipeline(steps=[('transformer',\n",
      "                 ColumnTransformer(transformers=[('scaler', MinMaxScaler(),\n",
      "                                                  ['credit_score', 'age',\n",
      "                                                   'balance', 'num_of_products',\n",
      "                                                   'estimated_salary',\n",
      "                                                   'NewTenure']),\n",
      "                                                 ('ohe', OneHotEncoder(),\n",
      "                                                  ['Geography', 'Gender',\n",
      "                                                   'is_active_member'])])),\n",
      "                ('classifier', LogisticRegression(C=10))])\n",
      "\n",
      "\n",
      "Index(['mean_fit_time', 'std_fit_time', 'mean_score_time', 'std_score_time',\n",
      "       'param_classifier__C', 'param_classifier__penalty', 'params',\n",
      "       'split0_test_score', 'split1_test_score', 'split2_test_score',\n",
      "       'mean_test_score', 'std_test_score', 'rank_test_score'],\n",
      "      dtype='object')\n"
     ]
    }
   ],
   "source": [
    "# Mendefinisikan parameter yang terbaik\n",
    "best_param_logreg = grid_logreg.best_params_\n",
    "# Menampilkan best parameter\n",
    "print(best_param_logreg)\n",
    "print('\\n')\n",
    "# mendefinsiikan estimator yang terbaik\n",
    "best_logreg = grid_logreg.best_estimator_\n",
    "# menampilkan estimator yang terbaik\n",
    "print(best_logreg)\n",
    "print('\\n')\n",
    "# Membuat dataframe untuk result_df_logreg\n",
    "result_df_logreg = pd.DataFrame.from_dict(grid_logreg.cv_results_, orient='columns')\n",
    "# menampilkan kolom result_df_logreg\n",
    "print(result_df_logreg.columns)"
   ]
  },
  {
   "cell_type": "code",
   "execution_count": 83,
   "metadata": {},
   "outputs": [
    {
     "name": "stdout",
     "output_type": "stream",
     "text": [
      "              precision    recall  f1-score   support\n",
      "\n",
      "           0       0.97      0.86      0.91      1593\n",
      "           1       0.87      0.97      0.92      1593\n",
      "\n",
      "    accuracy                           0.92      3186\n",
      "   macro avg       0.92      0.92      0.92      3186\n",
      "weighted avg       0.92      0.92      0.92      3186\n",
      "\n"
     ]
    }
   ],
   "source": [
    "print(classification_report(y_test, best_knn.predict(X_test)))"
   ]
  },
  {
   "cell_type": "code",
   "execution_count": 84,
   "metadata": {},
   "outputs": [
    {
     "name": "stdout",
     "output_type": "stream",
     "text": [
      "              precision    recall  f1-score   support\n",
      "\n",
      "           0       0.76      0.82      0.79      1593\n",
      "           1       0.81      0.74      0.77      1593\n",
      "\n",
      "    accuracy                           0.78      3186\n",
      "   macro avg       0.78      0.78      0.78      3186\n",
      "weighted avg       0.78      0.78      0.78      3186\n",
      "\n"
     ]
    }
   ],
   "source": [
    "print(classification_report(y_test, best_rf.predict(X_test)))"
   ]
  },
  {
   "cell_type": "code",
   "execution_count": 85,
   "metadata": {},
   "outputs": [
    {
     "name": "stdout",
     "output_type": "stream",
     "text": [
      "              precision    recall  f1-score   support\n",
      "\n",
      "           0       0.98      0.85      0.91      1593\n",
      "           1       0.86      0.98      0.92      1593\n",
      "\n",
      "    accuracy                           0.91      3186\n",
      "   macro avg       0.92      0.91      0.91      3186\n",
      "weighted avg       0.92      0.91      0.91      3186\n",
      "\n"
     ]
    }
   ],
   "source": [
    "print(classification_report(y_test, best_dt.predict(X_test)))"
   ]
  },
  {
   "cell_type": "code",
   "execution_count": 86,
   "metadata": {},
   "outputs": [
    {
     "name": "stdout",
     "output_type": "stream",
     "text": [
      "              precision    recall  f1-score   support\n",
      "\n",
      "           0       0.85      0.81      0.83      1593\n",
      "           1       0.82      0.86      0.84      1593\n",
      "\n",
      "    accuracy                           0.83      3186\n",
      "   macro avg       0.83      0.83      0.83      3186\n",
      "weighted avg       0.83      0.83      0.83      3186\n",
      "\n"
     ]
    }
   ],
   "source": [
    "print(classification_report(y_test, best_svc.predict(X_test)))"
   ]
  },
  {
   "cell_type": "code",
   "execution_count": 87,
   "metadata": {},
   "outputs": [
    {
     "name": "stdout",
     "output_type": "stream",
     "text": [
      "              precision    recall  f1-score   support\n",
      "\n",
      "           0       0.93      0.87      0.90      1593\n",
      "           1       0.88      0.93      0.90      1593\n",
      "\n",
      "    accuracy                           0.90      3186\n",
      "   macro avg       0.90      0.90      0.90      3186\n",
      "weighted avg       0.90      0.90      0.90      3186\n",
      "\n"
     ]
    }
   ],
   "source": [
    "print(classification_report(y_test, best_xgb.predict(X_test)))"
   ]
  },
  {
   "cell_type": "code",
   "execution_count": 88,
   "metadata": {},
   "outputs": [
    {
     "name": "stdout",
     "output_type": "stream",
     "text": [
      "              precision    recall  f1-score   support\n",
      "\n",
      "           0       0.70      0.72      0.71      1593\n",
      "           1       0.71      0.69      0.70      1593\n",
      "\n",
      "    accuracy                           0.70      3186\n",
      "   macro avg       0.71      0.70      0.70      3186\n",
      "weighted avg       0.71      0.70      0.70      3186\n",
      "\n"
     ]
    }
   ],
   "source": [
    "print(classification_report(y_test, best_logreg.predict(X_test)))"
   ]
  },
  {
   "cell_type": "markdown",
   "metadata": {},
   "source": [
    "# Model Saving"
   ]
  },
  {
   "cell_type": "code",
   "execution_count": 90,
   "metadata": {},
   "outputs": [],
   "source": [
    "#Save the Files\n",
    "pickle.dump(best_logreg, open('model_logreg.pkl', 'wb'))\n",
    "pickle.dump(best_svc, open('model_svm.pkl', 'wb'))\n",
    "pickle.dump(best_dt, open('model_dt.pkl', 'wb'))\n",
    "pickle.dump(best_knn, open('model_knn.pkl', 'wb'))\n",
    "pickle.dump(best_rf, open('model_rf.pkl', 'wb'))\n",
    "pickle.dump(best_xgb, open('model_xgb.pkl', 'wb'))\n",
    "\n",
    "with open('list_num_cols.txt', 'w') as file_1:\n",
    "  json.dump(num_columns, file_1)\n",
    "\n",
    "with open('list_cat_cols.txt', 'w') as file_2:\n",
    "  json.dump(cat_columns, file_2)\n"
   ]
  },
  {
   "cell_type": "markdown",
   "metadata": {},
   "source": [
    "# Model Inference"
   ]
  },
  {
   "cell_type": "code",
   "execution_count": 121,
   "metadata": {},
   "outputs": [
    {
     "data": {
      "text/html": [
       "<div>\n",
       "<style scoped>\n",
       "    .dataframe tbody tr th:only-of-type {\n",
       "        vertical-align: middle;\n",
       "    }\n",
       "\n",
       "    .dataframe tbody tr th {\n",
       "        vertical-align: top;\n",
       "    }\n",
       "\n",
       "    .dataframe thead th {\n",
       "        text-align: right;\n",
       "    }\n",
       "</style>\n",
       "<table border=\"1\" class=\"dataframe\">\n",
       "  <thead>\n",
       "    <tr style=\"text-align: right;\">\n",
       "      <th></th>\n",
       "      <th>credit_score</th>\n",
       "      <th>Geography</th>\n",
       "      <th>Gender</th>\n",
       "      <th>age</th>\n",
       "      <th>tenure</th>\n",
       "      <th>balance</th>\n",
       "      <th>num_of_products</th>\n",
       "      <th>HasCrCard</th>\n",
       "      <th>is_active_member</th>\n",
       "      <th>estimated_salary</th>\n",
       "      <th>NewTenure</th>\n",
       "    </tr>\n",
       "  </thead>\n",
       "  <tbody>\n",
       "    <tr>\n",
       "      <th>0</th>\n",
       "      <td>850</td>\n",
       "      <td>Spain</td>\n",
       "      <td>Female</td>\n",
       "      <td>18</td>\n",
       "      <td>8</td>\n",
       "      <td>159660.8</td>\n",
       "      <td>1</td>\n",
       "      <td>no</td>\n",
       "      <td>no</td>\n",
       "      <td>93826.63</td>\n",
       "      <td>0.190476</td>\n",
       "    </tr>\n",
       "  </tbody>\n",
       "</table>\n",
       "</div>"
      ],
      "text/plain": [
       "   credit_score Geography  Gender  age  tenure   balance  num_of_products  \\\n",
       "0           850     Spain  Female   18       8  159660.8                1   \n",
       "\n",
       "  HasCrCard is_active_member  estimated_salary  NewTenure  \n",
       "0        no               no          93826.63   0.190476  "
      ]
     },
     "execution_count": 121,
     "metadata": {},
     "output_type": "execute_result"
    }
   ],
   "source": [
    "# Memanggil file yang akan digunakan di dalam model inference\n",
    "with open('list_num_cols.txt', 'r') as f1:\n",
    "  list_num_cols = json.load(f1)\n",
    "\n",
    "with open('list_cat_cols.txt', 'r') as f2:\n",
    "  list_cat_cols = json.load(f2)\n",
    "\n",
    "with open(\"model_knn.pkl\", \"rb\") as f3:\n",
    "  model_knn = pickle.load(f3)\n",
    "\n",
    "# Mendefinisikan data inference dan dibuat kedalam dataframe\n",
    "data_inf = pd.DataFrame({\n",
    "  'credit_score': [850], \n",
    "  'Geography': ['Spain'], \n",
    "  'Gender' : ['Female'], \n",
    "  'age' : [18], \n",
    "  'tenure' : [8], \n",
    "  'balance': [159660.80],\n",
    "  'num_of_products' : [1], \n",
    "  'HasCrCard' : ['no'], \n",
    "  'is_active_member' : ['no'], \n",
    "  'estimated_salary': [93826.63],\n",
    "  'NewTenure' : [0.190476]\n",
    "})\n",
    "\n",
    "# Menampilkan data inference yang telah dibuat\n",
    "data_inf"
   ]
  },
  {
   "cell_type": "code",
   "execution_count": 122,
   "metadata": {},
   "outputs": [
    {
     "name": "stdout",
     "output_type": "stream",
     "text": [
      "Predicted class: [0]\n"
     ]
    },
    {
     "data": {
      "text/html": [
       "<div>\n",
       "<style scoped>\n",
       "    .dataframe tbody tr th:only-of-type {\n",
       "        vertical-align: middle;\n",
       "    }\n",
       "\n",
       "    .dataframe tbody tr th {\n",
       "        vertical-align: top;\n",
       "    }\n",
       "\n",
       "    .dataframe thead th {\n",
       "        text-align: right;\n",
       "    }\n",
       "</style>\n",
       "<table border=\"1\" class=\"dataframe\">\n",
       "  <thead>\n",
       "    <tr style=\"text-align: right;\">\n",
       "      <th></th>\n",
       "      <th>credit_score</th>\n",
       "      <th>Geography</th>\n",
       "      <th>Gender</th>\n",
       "      <th>age</th>\n",
       "      <th>tenure</th>\n",
       "      <th>balance</th>\n",
       "      <th>num_of_products</th>\n",
       "      <th>HasCrCard</th>\n",
       "      <th>is_active_member</th>\n",
       "      <th>estimated_salary</th>\n",
       "      <th>NewTenure</th>\n",
       "      <th>Prediction</th>\n",
       "    </tr>\n",
       "  </thead>\n",
       "  <tbody>\n",
       "    <tr>\n",
       "      <th>0</th>\n",
       "      <td>850</td>\n",
       "      <td>Spain</td>\n",
       "      <td>Female</td>\n",
       "      <td>18</td>\n",
       "      <td>8</td>\n",
       "      <td>159660.8</td>\n",
       "      <td>1</td>\n",
       "      <td>no</td>\n",
       "      <td>no</td>\n",
       "      <td>93826.63</td>\n",
       "      <td>0.190476</td>\n",
       "      <td>0</td>\n",
       "    </tr>\n",
       "  </tbody>\n",
       "</table>\n",
       "</div>"
      ],
      "text/plain": [
       "   credit_score Geography  Gender  age  tenure   balance  num_of_products  \\\n",
       "0           850     Spain  Female   18       8  159660.8                1   \n",
       "\n",
       "  HasCrCard is_active_member  estimated_salary  NewTenure  Prediction  \n",
       "0        no               no          93826.63   0.190476           0  "
      ]
     },
     "execution_count": 122,
     "metadata": {},
     "output_type": "execute_result"
    }
   ],
   "source": [
    "# Make predictions\n",
    "y_pred_inf = model_knn.predict(data_inf)\n",
    "print(\"Predicted class:\", y_pred_inf)\n",
    "\n",
    "data_inf['Prediction'] = y_pred_inf\n",
    "# menampilkan data inference yang telah diprediksi\n",
    "data_inf"
   ]
  }
 ],
 "metadata": {
  "kernelspec": {
   "display_name": "Python 3",
   "language": "python",
   "name": "python3"
  },
  "language_info": {
   "codemirror_mode": {
    "name": "ipython",
    "version": 3
   },
   "file_extension": ".py",
   "mimetype": "text/x-python",
   "name": "python",
   "nbconvert_exporter": "python",
   "pygments_lexer": "ipython3",
   "version": "3.11.7"
  }
 },
 "nbformat": 4,
 "nbformat_minor": 2
}
