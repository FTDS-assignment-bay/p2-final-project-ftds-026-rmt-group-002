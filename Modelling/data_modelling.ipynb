{
 "cells": [
  {
   "cell_type": "markdown",
   "metadata": {},
   "source": [
    "# Import Libraries"
   ]
  },
  {
   "cell_type": "code",
   "execution_count": 1,
   "metadata": {},
   "outputs": [],
   "source": [
    "import pandas as pd\n",
    "import warnings \n",
    "warnings.filterwarnings('ignore')\n",
    "import seaborn as sns\n",
    "import matplotlib.pyplot as plt \n",
    "import numpy as np \n",
    "\n",
    "from sklearn.model_selection import train_test_split\n",
    "from feature_engine.outliers import Winsorizer\n",
    "from sklearn.compose import ColumnTransformer\n",
    "from sklearn.preprocessing import MinMaxScaler, OneHotEncoder\n",
    "from imblearn.over_sampling import RandomOverSampler\n",
    "from scipy.stats import kendalltau, spearmanr\n",
    "from sklearn.pipeline import Pipeline\n",
    "from sklearn.linear_model import LogisticRegression\n",
    "from sklearn.neighbors import KNeighborsClassifier\n",
    "from sklearn.svm import SVC\n",
    "from sklearn.tree import DecisionTreeClassifier\n",
    "from sklearn.ensemble import RandomForestClassifier\n",
    "from xgboost import XGBClassifier\n",
    "from sklearn.metrics import classification_report, f1_score, make_scorer\n",
    "from sklearn.model_selection import GridSearchCV, cross_val_score, StratifiedKFold\n",
    "import pickle\n",
    "import json"
   ]
  },
  {
   "cell_type": "markdown",
   "metadata": {},
   "source": [
    "# Import Bigquery"
   ]
  },
  {
   "cell_type": "code",
   "execution_count": 2,
   "metadata": {},
   "outputs": [],
   "source": [
    "from google.oauth2 import service_account\n",
    "from google.cloud import bigquery\n",
    "\n",
    "# Authenticate using a service account key file\n",
    "credentials = service_account.Credentials.from_service_account_file(\n",
    "    'quixotic-booth-413509-c86c14cca6c7.json',\n",
    "    scopes=[\"https://www.googleapis.com/auth/cloud-platform\"],\n",
    ")\n",
    "\n",
    "# Specify your project ID\n",
    "project_id_akun = \"quixotic-booth-413509\"\n",
    "\n",
    "# Create a BigQuery client object using the credentials and project ID\n",
    "client = bigquery.Client(credentials=credentials, project=project_id_akun)\n",
    "\n",
    "# Your query to fetch data from BigQuery\n",
    "query = '''\n",
    "SELECT * FROM `quixotic-booth-413509.destination.churn_clean`\n",
    "'''\n",
    "\n",
    "# Execute the query and convert the results to a pandas DataFrame\n",
    "df = client.query(query).to_dataframe()"
   ]
  },
  {
   "cell_type": "markdown",
   "metadata": {},
   "source": [
    "# Data Loading"
   ]
  },
  {
   "cell_type": "code",
   "execution_count": 3,
   "metadata": {},
   "outputs": [
    {
     "data": {
      "text/html": [
       "<div>\n",
       "<style scoped>\n",
       "    .dataframe tbody tr th:only-of-type {\n",
       "        vertical-align: middle;\n",
       "    }\n",
       "\n",
       "    .dataframe tbody tr th {\n",
       "        vertical-align: top;\n",
       "    }\n",
       "\n",
       "    .dataframe thead th {\n",
       "        text-align: right;\n",
       "    }\n",
       "</style>\n",
       "<table border=\"1\" class=\"dataframe\">\n",
       "  <thead>\n",
       "    <tr style=\"text-align: right;\">\n",
       "      <th></th>\n",
       "      <th>credit_score</th>\n",
       "      <th>geography</th>\n",
       "      <th>gender</th>\n",
       "      <th>age</th>\n",
       "      <th>tenure</th>\n",
       "      <th>balance</th>\n",
       "      <th>num_of_products</th>\n",
       "      <th>has_credit_card</th>\n",
       "      <th>active_member</th>\n",
       "      <th>estimated_salary</th>\n",
       "      <th>exited</th>\n",
       "    </tr>\n",
       "  </thead>\n",
       "  <tbody>\n",
       "    <tr>\n",
       "      <th>0</th>\n",
       "      <td>594</td>\n",
       "      <td>Spain</td>\n",
       "      <td>Female</td>\n",
       "      <td>24</td>\n",
       "      <td>0</td>\n",
       "      <td>97378.54</td>\n",
       "      <td>1</td>\n",
       "      <td>1</td>\n",
       "      <td>1</td>\n",
       "      <td>71405.17</td>\n",
       "      <td>0</td>\n",
       "    </tr>\n",
       "    <tr>\n",
       "      <th>1</th>\n",
       "      <td>636</td>\n",
       "      <td>Spain</td>\n",
       "      <td>Female</td>\n",
       "      <td>33</td>\n",
       "      <td>0</td>\n",
       "      <td>0.00</td>\n",
       "      <td>1</td>\n",
       "      <td>1</td>\n",
       "      <td>0</td>\n",
       "      <td>92277.47</td>\n",
       "      <td>1</td>\n",
       "    </tr>\n",
       "    <tr>\n",
       "      <th>2</th>\n",
       "      <td>573</td>\n",
       "      <td>Spain</td>\n",
       "      <td>Male</td>\n",
       "      <td>33</td>\n",
       "      <td>1</td>\n",
       "      <td>160777.90</td>\n",
       "      <td>1</td>\n",
       "      <td>1</td>\n",
       "      <td>1</td>\n",
       "      <td>149536.15</td>\n",
       "      <td>0</td>\n",
       "    </tr>\n",
       "    <tr>\n",
       "      <th>3</th>\n",
       "      <td>619</td>\n",
       "      <td>Spain</td>\n",
       "      <td>Female</td>\n",
       "      <td>38</td>\n",
       "      <td>1</td>\n",
       "      <td>0.00</td>\n",
       "      <td>1</td>\n",
       "      <td>1</td>\n",
       "      <td>0</td>\n",
       "      <td>112442.63</td>\n",
       "      <td>1</td>\n",
       "    </tr>\n",
       "    <tr>\n",
       "      <th>4</th>\n",
       "      <td>776</td>\n",
       "      <td>Spain</td>\n",
       "      <td>Male</td>\n",
       "      <td>39</td>\n",
       "      <td>2</td>\n",
       "      <td>104349.45</td>\n",
       "      <td>1</td>\n",
       "      <td>0</td>\n",
       "      <td>0</td>\n",
       "      <td>79503.05</td>\n",
       "      <td>0</td>\n",
       "    </tr>\n",
       "  </tbody>\n",
       "</table>\n",
       "</div>"
      ],
      "text/plain": [
       "   credit_score geography  gender  age  tenure    balance  num_of_products  \\\n",
       "0           594     Spain  Female   24       0   97378.54                1   \n",
       "1           636     Spain  Female   33       0       0.00                1   \n",
       "2           573     Spain    Male   33       1  160777.90                1   \n",
       "3           619     Spain  Female   38       1       0.00                1   \n",
       "4           776     Spain    Male   39       2  104349.45                1   \n",
       "\n",
       "   has_credit_card  active_member  estimated_salary  exited  \n",
       "0                1              1          71405.17       0  \n",
       "1                1              0          92277.47       1  \n",
       "2                1              1         149536.15       0  \n",
       "3                1              0         112442.63       1  \n",
       "4                0              0          79503.05       0  "
      ]
     },
     "execution_count": 3,
     "metadata": {},
     "output_type": "execute_result"
    }
   ],
   "source": [
    "df.head()"
   ]
  },
  {
   "cell_type": "code",
   "execution_count": 4,
   "metadata": {},
   "outputs": [
    {
     "data": {
      "text/html": [
       "<div>\n",
       "<style scoped>\n",
       "    .dataframe tbody tr th:only-of-type {\n",
       "        vertical-align: middle;\n",
       "    }\n",
       "\n",
       "    .dataframe tbody tr th {\n",
       "        vertical-align: top;\n",
       "    }\n",
       "\n",
       "    .dataframe thead th {\n",
       "        text-align: right;\n",
       "    }\n",
       "</style>\n",
       "<table border=\"1\" class=\"dataframe\">\n",
       "  <thead>\n",
       "    <tr style=\"text-align: right;\">\n",
       "      <th></th>\n",
       "      <th>credit_score</th>\n",
       "      <th>geography</th>\n",
       "      <th>gender</th>\n",
       "      <th>age</th>\n",
       "      <th>tenure</th>\n",
       "      <th>balance</th>\n",
       "      <th>num_of_products</th>\n",
       "      <th>has_credit_card</th>\n",
       "      <th>active_member</th>\n",
       "      <th>estimated_salary</th>\n",
       "      <th>exited</th>\n",
       "    </tr>\n",
       "  </thead>\n",
       "  <tbody>\n",
       "    <tr>\n",
       "      <th>9995</th>\n",
       "      <td>630</td>\n",
       "      <td>Germany</td>\n",
       "      <td>Male</td>\n",
       "      <td>50</td>\n",
       "      <td>3</td>\n",
       "      <td>129370.91</td>\n",
       "      <td>4</td>\n",
       "      <td>1</td>\n",
       "      <td>1</td>\n",
       "      <td>47775.34</td>\n",
       "      <td>1</td>\n",
       "    </tr>\n",
       "    <tr>\n",
       "      <th>9996</th>\n",
       "      <td>819</td>\n",
       "      <td>Germany</td>\n",
       "      <td>Female</td>\n",
       "      <td>49</td>\n",
       "      <td>1</td>\n",
       "      <td>120656.86</td>\n",
       "      <td>4</td>\n",
       "      <td>0</td>\n",
       "      <td>0</td>\n",
       "      <td>166164.30</td>\n",
       "      <td>1</td>\n",
       "    </tr>\n",
       "    <tr>\n",
       "      <th>9997</th>\n",
       "      <td>738</td>\n",
       "      <td>Germany</td>\n",
       "      <td>Male</td>\n",
       "      <td>58</td>\n",
       "      <td>2</td>\n",
       "      <td>133745.44</td>\n",
       "      <td>4</td>\n",
       "      <td>1</td>\n",
       "      <td>0</td>\n",
       "      <td>28373.86</td>\n",
       "      <td>1</td>\n",
       "    </tr>\n",
       "    <tr>\n",
       "      <th>9998</th>\n",
       "      <td>665</td>\n",
       "      <td>Germany</td>\n",
       "      <td>Female</td>\n",
       "      <td>43</td>\n",
       "      <td>2</td>\n",
       "      <td>116322.27</td>\n",
       "      <td>4</td>\n",
       "      <td>1</td>\n",
       "      <td>0</td>\n",
       "      <td>35640.12</td>\n",
       "      <td>1</td>\n",
       "    </tr>\n",
       "    <tr>\n",
       "      <th>9999</th>\n",
       "      <td>847</td>\n",
       "      <td>Germany</td>\n",
       "      <td>Female</td>\n",
       "      <td>41</td>\n",
       "      <td>3</td>\n",
       "      <td>101543.51</td>\n",
       "      <td>4</td>\n",
       "      <td>1</td>\n",
       "      <td>0</td>\n",
       "      <td>16025.17</td>\n",
       "      <td>1</td>\n",
       "    </tr>\n",
       "  </tbody>\n",
       "</table>\n",
       "</div>"
      ],
      "text/plain": [
       "      credit_score geography  gender  age  tenure    balance  num_of_products  \\\n",
       "9995           630   Germany    Male   50       3  129370.91                4   \n",
       "9996           819   Germany  Female   49       1  120656.86                4   \n",
       "9997           738   Germany    Male   58       2  133745.44                4   \n",
       "9998           665   Germany  Female   43       2  116322.27                4   \n",
       "9999           847   Germany  Female   41       3  101543.51                4   \n",
       "\n",
       "      has_credit_card  active_member  estimated_salary  exited  \n",
       "9995                1              1          47775.34       1  \n",
       "9996                0              0         166164.30       1  \n",
       "9997                1              0          28373.86       1  \n",
       "9998                1              0          35640.12       1  \n",
       "9999                1              0          16025.17       1  "
      ]
     },
     "execution_count": 4,
     "metadata": {},
     "output_type": "execute_result"
    }
   ],
   "source": [
    "df.tail()"
   ]
  },
  {
   "cell_type": "code",
   "execution_count": 5,
   "metadata": {},
   "outputs": [],
   "source": [
    "# Use pd.cut for \"has_credit_card\" column since values are not continuous\n",
    "df[\"has_credit_card\"] = pd.cut(df[\"has_credit_card\"], bins=2, labels=['no', 'yes']).astype(str)\n",
    "# Use pd.cut for \"active_member\" column since values are not continuous\n",
    "df[\"active_member\"] = pd.cut(df[\"active_member\"], bins=2, labels=['no', 'yes']).astype(str)"
   ]
  },
  {
   "cell_type": "code",
   "execution_count": 6,
   "metadata": {},
   "outputs": [
    {
     "data": {
      "text/plain": [
       "exited\n",
       "0    7963\n",
       "1    2037\n",
       "Name: count, dtype: Int64"
      ]
     },
     "execution_count": 6,
     "metadata": {},
     "output_type": "execute_result"
    }
   ],
   "source": [
    "# Cek apakah target balance atau tidak\n",
    "df['exited'].value_counts()"
   ]
  },
  {
   "cell_type": "code",
   "execution_count": 7,
   "metadata": {},
   "outputs": [],
   "source": [
    "ros = RandomOverSampler(sampling_strategy=1)\n",
    "x = df.drop(['exited'], axis=1)\n",
    "y = df[['exited']]\n",
    "x, y = ros.fit_resample(x, y) \n",
    "df = pd.concat([x, y], axis=1)"
   ]
  },
  {
   "cell_type": "code",
   "execution_count": 8,
   "metadata": {},
   "outputs": [
    {
     "data": {
      "text/html": [
       "<div>\n",
       "<style scoped>\n",
       "    .dataframe tbody tr th:only-of-type {\n",
       "        vertical-align: middle;\n",
       "    }\n",
       "\n",
       "    .dataframe tbody tr th {\n",
       "        vertical-align: top;\n",
       "    }\n",
       "\n",
       "    .dataframe thead th {\n",
       "        text-align: right;\n",
       "    }\n",
       "</style>\n",
       "<table border=\"1\" class=\"dataframe\">\n",
       "  <thead>\n",
       "    <tr style=\"text-align: right;\">\n",
       "      <th></th>\n",
       "      <th>credit_score</th>\n",
       "      <th>geography</th>\n",
       "      <th>gender</th>\n",
       "      <th>age</th>\n",
       "      <th>tenure</th>\n",
       "      <th>balance</th>\n",
       "      <th>num_of_products</th>\n",
       "      <th>has_credit_card</th>\n",
       "      <th>active_member</th>\n",
       "      <th>estimated_salary</th>\n",
       "      <th>exited</th>\n",
       "    </tr>\n",
       "  </thead>\n",
       "  <tbody>\n",
       "    <tr>\n",
       "      <th>0</th>\n",
       "      <td>594</td>\n",
       "      <td>Spain</td>\n",
       "      <td>Female</td>\n",
       "      <td>24</td>\n",
       "      <td>0</td>\n",
       "      <td>97378.54</td>\n",
       "      <td>1</td>\n",
       "      <td>yes</td>\n",
       "      <td>yes</td>\n",
       "      <td>71405.17</td>\n",
       "      <td>0</td>\n",
       "    </tr>\n",
       "    <tr>\n",
       "      <th>1</th>\n",
       "      <td>636</td>\n",
       "      <td>Spain</td>\n",
       "      <td>Female</td>\n",
       "      <td>33</td>\n",
       "      <td>0</td>\n",
       "      <td>0.00</td>\n",
       "      <td>1</td>\n",
       "      <td>yes</td>\n",
       "      <td>no</td>\n",
       "      <td>92277.47</td>\n",
       "      <td>1</td>\n",
       "    </tr>\n",
       "    <tr>\n",
       "      <th>2</th>\n",
       "      <td>573</td>\n",
       "      <td>Spain</td>\n",
       "      <td>Male</td>\n",
       "      <td>33</td>\n",
       "      <td>1</td>\n",
       "      <td>160777.90</td>\n",
       "      <td>1</td>\n",
       "      <td>yes</td>\n",
       "      <td>yes</td>\n",
       "      <td>149536.15</td>\n",
       "      <td>0</td>\n",
       "    </tr>\n",
       "    <tr>\n",
       "      <th>3</th>\n",
       "      <td>619</td>\n",
       "      <td>Spain</td>\n",
       "      <td>Female</td>\n",
       "      <td>38</td>\n",
       "      <td>1</td>\n",
       "      <td>0.00</td>\n",
       "      <td>1</td>\n",
       "      <td>yes</td>\n",
       "      <td>no</td>\n",
       "      <td>112442.63</td>\n",
       "      <td>1</td>\n",
       "    </tr>\n",
       "    <tr>\n",
       "      <th>4</th>\n",
       "      <td>776</td>\n",
       "      <td>Spain</td>\n",
       "      <td>Male</td>\n",
       "      <td>39</td>\n",
       "      <td>2</td>\n",
       "      <td>104349.45</td>\n",
       "      <td>1</td>\n",
       "      <td>no</td>\n",
       "      <td>no</td>\n",
       "      <td>79503.05</td>\n",
       "      <td>0</td>\n",
       "    </tr>\n",
       "  </tbody>\n",
       "</table>\n",
       "</div>"
      ],
      "text/plain": [
       "   credit_score geography  gender  age  tenure    balance  num_of_products  \\\n",
       "0           594     Spain  Female   24       0   97378.54                1   \n",
       "1           636     Spain  Female   33       0       0.00                1   \n",
       "2           573     Spain    Male   33       1  160777.90                1   \n",
       "3           619     Spain  Female   38       1       0.00                1   \n",
       "4           776     Spain    Male   39       2  104349.45                1   \n",
       "\n",
       "  has_credit_card active_member  estimated_salary  exited  \n",
       "0             yes           yes          71405.17       0  \n",
       "1             yes            no          92277.47       1  \n",
       "2             yes           yes         149536.15       0  \n",
       "3             yes            no         112442.63       1  \n",
       "4              no            no          79503.05       0  "
      ]
     },
     "execution_count": 8,
     "metadata": {},
     "output_type": "execute_result"
    }
   ],
   "source": [
    "df.head()"
   ]
  },
  {
   "cell_type": "code",
   "execution_count": 9,
   "metadata": {},
   "outputs": [
    {
     "name": "stdout",
     "output_type": "stream",
     "text": [
      "<class 'pandas.core.frame.DataFrame'>\n",
      "RangeIndex: 15926 entries, 0 to 15925\n",
      "Data columns (total 11 columns):\n",
      " #   Column            Non-Null Count  Dtype  \n",
      "---  ------            --------------  -----  \n",
      " 0   credit_score      15926 non-null  Int64  \n",
      " 1   geography         15926 non-null  object \n",
      " 2   gender            15926 non-null  object \n",
      " 3   age               15926 non-null  Int64  \n",
      " 4   tenure            15926 non-null  Int64  \n",
      " 5   balance           15926 non-null  float64\n",
      " 6   num_of_products   15926 non-null  Int64  \n",
      " 7   has_credit_card   15926 non-null  object \n",
      " 8   active_member     15926 non-null  object \n",
      " 9   estimated_salary  15926 non-null  float64\n",
      " 10  exited            15926 non-null  Int64  \n",
      "dtypes: Int64(5), float64(2), object(4)\n",
      "memory usage: 1.4+ MB\n"
     ]
    }
   ],
   "source": [
    "df.info()"
   ]
  },
  {
   "cell_type": "code",
   "execution_count": 10,
   "metadata": {},
   "outputs": [
    {
     "data": {
      "text/plain": [
       "credit_score        0\n",
       "geography           0\n",
       "gender              0\n",
       "age                 0\n",
       "tenure              0\n",
       "balance             0\n",
       "num_of_products     0\n",
       "has_credit_card     0\n",
       "active_member       0\n",
       "estimated_salary    0\n",
       "exited              0\n",
       "dtype: int64"
      ]
     },
     "execution_count": 10,
     "metadata": {},
     "output_type": "execute_result"
    }
   ],
   "source": [
    "# cek missing value\n",
    "df.isnull().sum()"
   ]
  },
  {
   "cell_type": "markdown",
   "metadata": {},
   "source": [
    "# EDA"
   ]
  },
  {
   "cell_type": "code",
   "execution_count": 11,
   "metadata": {},
   "outputs": [
    {
     "data": {
      "image/png": "[encoded data removed]",
      "text/plain": [
       "<Figure size 640x480 with 2 Axes>"
      ]
     },
     "metadata": {},
     "output_type": "display_data"
    }
   ],
   "source": [
    "# list kolom yang akan diuji korelasinya\n",
    "cols = ['credit_score', 'age', 'tenure', 'balance',\n",
    "       'num_of_products', 'estimated_salary',\n",
    "       'exited' ]\n",
    "# plot korelasi setiap variable menggunakan heatmap\n",
    "sns.heatmap(df[cols].corr(), annot = True, fmt=\".2f\", linewidths=0.5)\n",
    "# Memberikan judul\n",
    "plt.title('Correlation Matrix')\n",
    "# menampilkan correlation matrix\n",
    "plt.show()"
   ]
  },
  {
   "cell_type": "markdown",
   "metadata": {},
   "source": [
    "# Feature Engineering"
   ]
  },
  {
   "cell_type": "code",
   "execution_count": 12,
   "metadata": {},
   "outputs": [],
   "source": [
    "cat_columns = ['geography', 'gender', 'has_credit_card', 'active_member']\n",
    "num_columns = ['credit_score', 'age', 'tenure', 'balance','num_of_products', 'estimated_salary']"
   ]
  },
  {
   "cell_type": "markdown",
   "metadata": {},
   "source": [
    "## Handling Cardinality"
   ]
  },
  {
   "cell_type": "code",
   "execution_count": 13,
   "metadata": {},
   "outputs": [
    {
     "data": {
      "text/html": [
       "<div>\n",
       "<style scoped>\n",
       "    .dataframe tbody tr th:only-of-type {\n",
       "        vertical-align: middle;\n",
       "    }\n",
       "\n",
       "    .dataframe tbody tr th {\n",
       "        vertical-align: top;\n",
       "    }\n",
       "\n",
       "    .dataframe thead th {\n",
       "        text-align: right;\n",
       "    }\n",
       "</style>\n",
       "<table border=\"1\" class=\"dataframe\">\n",
       "  <thead>\n",
       "    <tr style=\"text-align: right;\">\n",
       "      <th></th>\n",
       "      <th>Nama Kolom</th>\n",
       "      <th>Jumlah Nilai Unique</th>\n",
       "      <th>Nilai Unique</th>\n",
       "    </tr>\n",
       "  </thead>\n",
       "  <tbody>\n",
       "    <tr>\n",
       "      <th>0</th>\n",
       "      <td>geography</td>\n",
       "      <td>3</td>\n",
       "      <td>[Spain, France, Germany]</td>\n",
       "    </tr>\n",
       "    <tr>\n",
       "      <th>1</th>\n",
       "      <td>gender</td>\n",
       "      <td>2</td>\n",
       "      <td>[Female, Male]</td>\n",
       "    </tr>\n",
       "    <tr>\n",
       "      <th>2</th>\n",
       "      <td>has_credit_card</td>\n",
       "      <td>2</td>\n",
       "      <td>[yes, no]</td>\n",
       "    </tr>\n",
       "    <tr>\n",
       "      <th>3</th>\n",
       "      <td>active_member</td>\n",
       "      <td>2</td>\n",
       "      <td>[yes, no]</td>\n",
       "    </tr>\n",
       "  </tbody>\n",
       "</table>\n",
       "</div>"
      ],
      "text/plain": [
       "        Nama Kolom  Jumlah Nilai Unique              Nilai Unique\n",
       "0        geography                    3  [Spain, France, Germany]\n",
       "1           gender                    2            [Female, Male]\n",
       "2  has_credit_card                    2                 [yes, no]\n",
       "3    active_member                    2                 [yes, no]"
      ]
     },
     "execution_count": 13,
     "metadata": {},
     "output_type": "execute_result"
    }
   ],
   "source": [
    "# mendefinisikan kolom yang masuk ke tipe data kategorik dan dijadikan sebagai list\n",
    "cat_cols = cat_columns\n",
    "\n",
    "# membuat list kosong listItem\n",
    "listItem = []\n",
    "# membuat forloop untuk kolom yang berada di dalam cat_cols\n",
    "for col in cat_cols:\n",
    "  # memasukkan nama kolom dan jumlah nilai unique pada list\n",
    "  listItem.append([col, df[col].nunique(), df[col].unique()])\n",
    "\n",
    "# membuat dataframe dari listItem\n",
    "pd.DataFrame(columns=['Nama Kolom', 'Jumlah Nilai Unique', 'Nilai Unique'], data=listItem)"
   ]
  },
  {
   "cell_type": "markdown",
   "metadata": {},
   "source": [
    "## Cek Target"
   ]
  },
  {
   "cell_type": "code",
   "execution_count": 14,
   "metadata": {},
   "outputs": [
    {
     "data": {
      "text/plain": [
       "exited\n",
       "0    7963\n",
       "1    7963\n",
       "Name: count, dtype: Int64"
      ]
     },
     "execution_count": 14,
     "metadata": {},
     "output_type": "execute_result"
    }
   ],
   "source": [
    "# Cek apakah target balance atau tidak\n",
    "df['exited'].value_counts()"
   ]
  },
  {
   "cell_type": "markdown",
   "metadata": {},
   "source": [
    "## Splitting Feature X dan y"
   ]
  },
  {
   "cell_type": "code",
   "execution_count": 15,
   "metadata": {},
   "outputs": [],
   "source": [
    "#memisahkan antara fitur x dan y\n",
    "X = df.drop(['exited'], axis = 1)\n",
    "y = df['exited']"
   ]
  },
  {
   "cell_type": "code",
   "execution_count": 16,
   "metadata": {},
   "outputs": [
    {
     "name": "stdout",
     "output_type": "stream",
     "text": [
      "X Train Size:  (12740, 10)\n",
      "X Test Size:  (3186, 10)\n",
      "y Train Size:  (12740,)\n",
      "y Test Size:  (3186,)\n"
     ]
    }
   ],
   "source": [
    "# split data menjadi empat bagian, X_train, X_test, y_train, dan y_test\n",
    "X_train, X_test, y_train, y_test = train_test_split(X, y, test_size = 0.20, # komposisi data test sebesar 20% dari keseluruhan data\n",
    "                                                    stratify=y,\n",
    "                                                    random_state = 42)     # State kerandoman data ada pada state ke 0\n",
    "\n",
    "# Menampilkan ukuran dataframe dari X_train, X_test, y_train, dan y_test\n",
    "print('X Train Size: ', X_train.shape)\n",
    "print('X Test Size: ', X_test.shape)\n",
    "print('y Train Size: ', y_train.shape)\n",
    "print('y Test Size: ', y_test.shape)"
   ]
  },
  {
   "cell_type": "markdown",
   "metadata": {},
   "source": [
    "## Handling Outliers"
   ]
  },
  {
   "cell_type": "code",
   "execution_count": 17,
   "metadata": {},
   "outputs": [
    {
     "data": {
      "text/html": [
       "<div>\n",
       "<style scoped>\n",
       "    .dataframe tbody tr th:only-of-type {\n",
       "        vertical-align: middle;\n",
       "    }\n",
       "\n",
       "    .dataframe tbody tr th {\n",
       "        vertical-align: top;\n",
       "    }\n",
       "\n",
       "    .dataframe thead th {\n",
       "        text-align: right;\n",
       "    }\n",
       "</style>\n",
       "<table border=\"1\" class=\"dataframe\">\n",
       "  <thead>\n",
       "    <tr style=\"text-align: right;\">\n",
       "      <th></th>\n",
       "      <th>Nama Kolom</th>\n",
       "      <th>Nilai Skewness</th>\n",
       "    </tr>\n",
       "  </thead>\n",
       "  <tbody>\n",
       "    <tr>\n",
       "      <th>0</th>\n",
       "      <td>credit_score</td>\n",
       "      <td>-0.094879</td>\n",
       "    </tr>\n",
       "    <tr>\n",
       "      <th>1</th>\n",
       "      <td>age</td>\n",
       "      <td>0.611266</td>\n",
       "    </tr>\n",
       "    <tr>\n",
       "      <th>2</th>\n",
       "      <td>tenure</td>\n",
       "      <td>0.028724</td>\n",
       "    </tr>\n",
       "    <tr>\n",
       "      <th>3</th>\n",
       "      <td>balance</td>\n",
       "      <td>-0.265955</td>\n",
       "    </tr>\n",
       "    <tr>\n",
       "      <th>4</th>\n",
       "      <td>num_of_products</td>\n",
       "      <td>1.283780</td>\n",
       "    </tr>\n",
       "    <tr>\n",
       "      <th>5</th>\n",
       "      <td>estimated_salary</td>\n",
       "      <td>-0.009996</td>\n",
       "    </tr>\n",
       "  </tbody>\n",
       "</table>\n",
       "</div>"
      ],
      "text/plain": [
       "         Nama Kolom  Nilai Skewness\n",
       "0      credit_score       -0.094879\n",
       "1               age        0.611266\n",
       "2            tenure        0.028724\n",
       "3           balance       -0.265955\n",
       "4   num_of_products        1.283780\n",
       "5  estimated_salary       -0.009996"
      ]
     },
     "execution_count": 17,
     "metadata": {},
     "output_type": "execute_result"
    }
   ],
   "source": [
    "# Mendefinisikan kolom numerik \n",
    "num_cols = X_train[num_columns]\n",
    "# Membuat list kosong \n",
    "listItem= []\n",
    "# Membuat forloop untuk kolom di dalam num_cols\n",
    "for col in num_cols:\n",
    "  # Memasukkan kolom yang merupakan kolom numerik dan menghitung nilai skew nya\n",
    "  listItem.append([col, X_train[col].skew()])\n",
    "\n",
    "# membuat dataframe dari nilai skew yang telah dihitung\n",
    "pd.DataFrame(columns=['Nama Kolom', 'Nilai Skewness'], data= listItem)"
   ]
  },
  {
   "cell_type": "code",
   "execution_count": 18,
   "metadata": {},
   "outputs": [],
   "source": [
    "# capping data untuk data yang mengalami skewed\n",
    "winsoriser2 = Winsorizer(capping_method='iqr', # menggunakan metode IQR\n",
    "                            tail='both', # capping dilakukan pada outlier batas atas dan batas bawah\n",
    "                            fold=3, # menetapkan nilai fold\n",
    "                            #mendefinisikan kolom yang data nya terdistribusi secara skewed\n",
    "                            variables=[ 'age', 'num_of_products'],\n",
    "                            missing_values='ignore')\n",
    "\n",
    "# mendefinisikan dataset X_train yang telah di capping  dengan melakukan fit_transform\n",
    "X_train = winsoriser2.fit_transform(X_train)\n",
    "# mendefinisikan dataset X_test yang telah di capping  dengan melakukan transform\n",
    "X_test = winsoriser2.transform(X_test)"
   ]
  },
  {
   "cell_type": "code",
   "execution_count": 19,
   "metadata": {},
   "outputs": [],
   "source": [
    "variables = ['credit_score', 'tenure', 'balance', 'estimated_salary']\n",
    "# Convert the dtype of the variables to float64\n",
    "X_train[variables] = X_train[variables].astype(np.float64)\n",
    "X_test[variables] = X_test[variables].astype(np.float64)\n",
    "\n",
    "# Capping data untuk data terdistribusi normal\n",
    "winsoriser1 = Winsorizer(capping_method='gaussian', # Metode capping yang digunakan adalah gaussian untuk data terdistribusi normal\n",
    "                            tail='both', # capping dilakukan pada outlier batas atas dan batas bawah\n",
    "                            fold=1.5,\n",
    "                            # mendefinisikan kolom yang data nya terdistribusi secara normal\n",
    "                            variables= variables,\n",
    "                            # ignore missing value\n",
    "                            missing_values='ignore')\n",
    "\n",
    "# mendefinisikan dataset X_train yang telah di capping  dengan melakukan fit_transform\n",
    "X_train = winsoriser1.fit_transform(X_train)\n",
    "# mendefinisikan dataset X_test yang telah di capping  dengan melakukan transform\n",
    "X_test = winsoriser1.transform(X_test)"
   ]
  },
  {
   "cell_type": "markdown",
   "metadata": {},
   "source": [
    "## Handling Missing Value"
   ]
  },
  {
   "cell_type": "code",
   "execution_count": 20,
   "metadata": {},
   "outputs": [
    {
     "data": {
      "text/plain": [
       "credit_score        0\n",
       "geography           0\n",
       "gender              0\n",
       "age                 0\n",
       "tenure              0\n",
       "balance             0\n",
       "num_of_products     0\n",
       "has_credit_card     0\n",
       "active_member       0\n",
       "estimated_salary    0\n",
       "dtype: int64"
      ]
     },
     "execution_count": 20,
     "metadata": {},
     "output_type": "execute_result"
    }
   ],
   "source": [
    "X_train.isnull().sum()"
   ]
  },
  {
   "cell_type": "code",
   "execution_count": 21,
   "metadata": {},
   "outputs": [
    {
     "data": {
      "text/plain": [
       "credit_score        0\n",
       "geography           0\n",
       "gender              0\n",
       "age                 0\n",
       "tenure              0\n",
       "balance             0\n",
       "num_of_products     0\n",
       "has_credit_card     0\n",
       "active_member       0\n",
       "estimated_salary    0\n",
       "dtype: int64"
      ]
     },
     "execution_count": 21,
     "metadata": {},
     "output_type": "execute_result"
    }
   ],
   "source": [
    "X_test.isnull().sum()"
   ]
  },
  {
   "cell_type": "code",
   "execution_count": 22,
   "metadata": {},
   "outputs": [
    {
     "data": {
      "text/plain": [
       "0"
      ]
     },
     "execution_count": 22,
     "metadata": {},
     "output_type": "execute_result"
    }
   ],
   "source": [
    "y_train.isnull().sum()"
   ]
  },
  {
   "cell_type": "code",
   "execution_count": 23,
   "metadata": {},
   "outputs": [
    {
     "data": {
      "text/plain": [
       "0"
      ]
     },
     "execution_count": 23,
     "metadata": {},
     "output_type": "execute_result"
    }
   ],
   "source": [
    "y_test.isnull().sum()"
   ]
  },
  {
   "cell_type": "markdown",
   "metadata": {},
   "source": [
    "## Feature Selection"
   ]
  },
  {
   "cell_type": "code",
   "execution_count": 24,
   "metadata": {},
   "outputs": [
    {
     "data": {
      "text/html": [
       "<div>\n",
       "<style scoped>\n",
       "    .dataframe tbody tr th:only-of-type {\n",
       "        vertical-align: middle;\n",
       "    }\n",
       "\n",
       "    .dataframe tbody tr th {\n",
       "        vertical-align: top;\n",
       "    }\n",
       "\n",
       "    .dataframe thead th {\n",
       "        text-align: right;\n",
       "    }\n",
       "</style>\n",
       "<table border=\"1\" class=\"dataframe\">\n",
       "  <thead>\n",
       "    <tr style=\"text-align: right;\">\n",
       "      <th></th>\n",
       "      <th>credit_score</th>\n",
       "      <th>geography</th>\n",
       "      <th>gender</th>\n",
       "      <th>age</th>\n",
       "      <th>tenure</th>\n",
       "      <th>balance</th>\n",
       "      <th>num_of_products</th>\n",
       "      <th>has_credit_card</th>\n",
       "      <th>active_member</th>\n",
       "      <th>estimated_salary</th>\n",
       "    </tr>\n",
       "  </thead>\n",
       "  <tbody>\n",
       "    <tr>\n",
       "      <th>931</th>\n",
       "      <td>712.000000</td>\n",
       "      <td>Spain</td>\n",
       "      <td>Male</td>\n",
       "      <td>47</td>\n",
       "      <td>1.0</td>\n",
       "      <td>139887.01</td>\n",
       "      <td>1</td>\n",
       "      <td>yes</td>\n",
       "      <td>yes</td>\n",
       "      <td>95719.73</td>\n",
       "    </tr>\n",
       "    <tr>\n",
       "      <th>3388</th>\n",
       "      <td>722.000000</td>\n",
       "      <td>France</td>\n",
       "      <td>Female</td>\n",
       "      <td>49</td>\n",
       "      <td>3.0</td>\n",
       "      <td>168197.66</td>\n",
       "      <td>1</td>\n",
       "      <td>yes</td>\n",
       "      <td>no</td>\n",
       "      <td>140765.57</td>\n",
       "    </tr>\n",
       "    <tr>\n",
       "      <th>3548</th>\n",
       "      <td>678.000000</td>\n",
       "      <td>France</td>\n",
       "      <td>Male</td>\n",
       "      <td>43</td>\n",
       "      <td>5.0</td>\n",
       "      <td>102338.19</td>\n",
       "      <td>1</td>\n",
       "      <td>yes</td>\n",
       "      <td>yes</td>\n",
       "      <td>79649.62</td>\n",
       "    </tr>\n",
       "    <tr>\n",
       "      <th>6058</th>\n",
       "      <td>730.000000</td>\n",
       "      <td>France</td>\n",
       "      <td>Male</td>\n",
       "      <td>34</td>\n",
       "      <td>1.0</td>\n",
       "      <td>0.00</td>\n",
       "      <td>2</td>\n",
       "      <td>yes</td>\n",
       "      <td>yes</td>\n",
       "      <td>126592.01</td>\n",
       "    </tr>\n",
       "    <tr>\n",
       "      <th>14282</th>\n",
       "      <td>502.340891</td>\n",
       "      <td>France</td>\n",
       "      <td>Female</td>\n",
       "      <td>39</td>\n",
       "      <td>9.0</td>\n",
       "      <td>117103.26</td>\n",
       "      <td>2</td>\n",
       "      <td>yes</td>\n",
       "      <td>yes</td>\n",
       "      <td>85937.52</td>\n",
       "    </tr>\n",
       "  </tbody>\n",
       "</table>\n",
       "</div>"
      ],
      "text/plain": [
       "       credit_score geography  gender  age  tenure    balance  \\\n",
       "931      712.000000     Spain    Male   47     1.0  139887.01   \n",
       "3388     722.000000    France  Female   49     3.0  168197.66   \n",
       "3548     678.000000    France    Male   43     5.0  102338.19   \n",
       "6058     730.000000    France    Male   34     1.0       0.00   \n",
       "14282    502.340891    France  Female   39     9.0  117103.26   \n",
       "\n",
       "       num_of_products has_credit_card active_member  estimated_salary  \n",
       "931                  1             yes           yes          95719.73  \n",
       "3388                 1             yes            no         140765.57  \n",
       "3548                 1             yes           yes          79649.62  \n",
       "6058                 2             yes           yes         126592.01  \n",
       "14282                2             yes           yes          85937.52  "
      ]
     },
     "execution_count": 24,
     "metadata": {},
     "output_type": "execute_result"
    }
   ],
   "source": [
    "X_train.head()"
   ]
  },
  {
   "cell_type": "code",
   "execution_count": 25,
   "metadata": {},
   "outputs": [
    {
     "name": "stdout",
     "output_type": "stream",
     "text": [
      "Numeric Columns:  ['credit_score', 'age', 'tenure', 'balance', 'num_of_products', 'estimated_salary']\n",
      "Categorical Columns:  ['geography', 'gender', 'has_credit_card', 'active_member']\n"
     ]
    }
   ],
   "source": [
    "# menampilkan list kolom numerik dan kolom kategorik\n",
    "print('Numeric Columns: ', num_columns)\n",
    "print('Categorical Columns: ', cat_columns)"
   ]
  },
  {
   "cell_type": "code",
   "execution_count": 26,
   "metadata": {},
   "outputs": [
    {
     "name": "stdout",
     "output_type": "stream",
     "text": [
      "X_train_num: (12740, 6)\n",
      "X_test_num: (3186, 6)\n",
      "\n",
      "X_train_cat: (12740, 4)\n",
      "X_test_cat: (3186, 4)\n"
     ]
    }
   ],
   "source": [
    "# Split kolom numerik dan kolom kategorik pada dataset train dan test\n",
    "X_train_num = X_train[num_columns]\n",
    "X_train_cat = X_train[cat_columns]\n",
    "\n",
    "X_test_num = X_test[num_columns]\n",
    "X_test_cat = X_test[cat_columns]\n",
    "\n",
    "# menampilkan dataset train numerik\n",
    "print('X_train_num:', X_train_num.shape)\n",
    "print('X_test_num:', X_test_num.shape)\n",
    "print('')\n",
    "print('X_train_cat:', X_train_cat.shape)\n",
    "print('X_test_cat:', X_test_cat.shape)"
   ]
  },
  {
   "cell_type": "markdown",
   "metadata": {},
   "source": [
    "## Uji Korelasi"
   ]
  },
  {
   "cell_type": "code",
   "execution_count": 27,
   "metadata": {},
   "outputs": [
    {
     "data": {
      "text/html": [
       "<div>\n",
       "<style scoped>\n",
       "    .dataframe tbody tr th:only-of-type {\n",
       "        vertical-align: middle;\n",
       "    }\n",
       "\n",
       "    .dataframe tbody tr th {\n",
       "        vertical-align: top;\n",
       "    }\n",
       "\n",
       "    .dataframe thead th {\n",
       "        text-align: right;\n",
       "    }\n",
       "</style>\n",
       "<table border=\"1\" class=\"dataframe\">\n",
       "  <thead>\n",
       "    <tr style=\"text-align: right;\">\n",
       "      <th></th>\n",
       "      <th>nama kolom</th>\n",
       "      <th>hasil</th>\n",
       "    </tr>\n",
       "  </thead>\n",
       "  <tbody>\n",
       "    <tr>\n",
       "      <th>0</th>\n",
       "      <td>geography</td>\n",
       "      <td>Terdapat Korelasi</td>\n",
       "    </tr>\n",
       "    <tr>\n",
       "      <th>1</th>\n",
       "      <td>gender</td>\n",
       "      <td>Terdapat Korelasi</td>\n",
       "    </tr>\n",
       "    <tr>\n",
       "      <th>2</th>\n",
       "      <td>has_credit_card</td>\n",
       "      <td>Tidak terdapat korelasi</td>\n",
       "    </tr>\n",
       "    <tr>\n",
       "      <th>3</th>\n",
       "      <td>active_member</td>\n",
       "      <td>Terdapat Korelasi</td>\n",
       "    </tr>\n",
       "  </tbody>\n",
       "</table>\n",
       "</div>"
      ],
      "text/plain": [
       "        nama kolom                    hasil\n",
       "0        geography        Terdapat Korelasi\n",
       "1           gender        Terdapat Korelasi\n",
       "2  has_credit_card  Tidak terdapat korelasi\n",
       "3    active_member        Terdapat Korelasi"
      ]
     },
     "execution_count": 27,
     "metadata": {},
     "output_type": "execute_result"
    }
   ],
   "source": [
    "# Mendefinisikan list kosong untuk p_values, interpretasi, dan cols\n",
    "p_values = []\n",
    "interpretasi = []\n",
    "cols = []\n",
    "\n",
    "# melakukan forloop untuk kolom yang terdapat didalam dataset kategorik\n",
    "for col in X_train_cat.columns:\n",
    "  # melakukan uji korelasi dengan menggunakan kendaltau pada setiap kolom dataset kategorik\n",
    "  corr_coef, p_value = kendalltau(X_train_cat[col], y_train)\n",
    "\n",
    "  #input p_values ke dalam list p_values\n",
    "  p_values.append(p_value)\n",
    "  # input nama kolom ke list cols\n",
    "  cols.append(col)\n",
    "\n",
    "  # dilakukan pengecekan, jika p_value di bawah nilai 0.05, maka terdapat korelasi\n",
    "  if p_value < 0.05:\n",
    "    interpretasi.append('Terdapat Korelasi')\n",
    "  # jika p_value berada di atas nilai 0.05, maka tidak terdapat korelasi\n",
    "  else :\n",
    "    interpretasi.append('Tidak terdapat korelasi')\n",
    "\n",
    "# membuat dataframe untuk nama kolom dan hasil dari interpretasi\n",
    "pd.DataFrame({'nama kolom':cols,\n",
    "              'hasil': interpretasi})"
   ]
  },
  {
   "cell_type": "code",
   "execution_count": 28,
   "metadata": {},
   "outputs": [],
   "source": [
    "# Drop kolom yang tidak memiliki korelasi pada dataset train dan test\n",
    "X_train_cat = X_train_cat.copy()  \n",
    "X_test_cat = X_test_cat.copy()\n",
    "X_train_cat.drop(['has_credit_card'], axis=1, inplace=True)\n",
    "X_test_cat.drop(['has_credit_card'], axis=1, inplace=True)"
   ]
  },
  {
   "cell_type": "code",
   "execution_count": 29,
   "metadata": {},
   "outputs": [
    {
     "data": {
      "text/html": [
       "<div>\n",
       "<style scoped>\n",
       "    .dataframe tbody tr th:only-of-type {\n",
       "        vertical-align: middle;\n",
       "    }\n",
       "\n",
       "    .dataframe tbody tr th {\n",
       "        vertical-align: top;\n",
       "    }\n",
       "\n",
       "    .dataframe thead th {\n",
       "        text-align: right;\n",
       "    }\n",
       "</style>\n",
       "<table border=\"1\" class=\"dataframe\">\n",
       "  <thead>\n",
       "    <tr style=\"text-align: right;\">\n",
       "      <th></th>\n",
       "      <th>nama kolom</th>\n",
       "      <th>hasil</th>\n",
       "    </tr>\n",
       "  </thead>\n",
       "  <tbody>\n",
       "    <tr>\n",
       "      <th>0</th>\n",
       "      <td>credit_score</td>\n",
       "      <td>Terdapat korelasi</td>\n",
       "    </tr>\n",
       "    <tr>\n",
       "      <th>1</th>\n",
       "      <td>age</td>\n",
       "      <td>Terdapat korelasi</td>\n",
       "    </tr>\n",
       "    <tr>\n",
       "      <th>2</th>\n",
       "      <td>tenure</td>\n",
       "      <td>Tidak terdapat korelasi</td>\n",
       "    </tr>\n",
       "    <tr>\n",
       "      <th>3</th>\n",
       "      <td>balance</td>\n",
       "      <td>Terdapat korelasi</td>\n",
       "    </tr>\n",
       "    <tr>\n",
       "      <th>4</th>\n",
       "      <td>num_of_products</td>\n",
       "      <td>Terdapat korelasi</td>\n",
       "    </tr>\n",
       "    <tr>\n",
       "      <th>5</th>\n",
       "      <td>estimated_salary</td>\n",
       "      <td>Terdapat korelasi</td>\n",
       "    </tr>\n",
       "  </tbody>\n",
       "</table>\n",
       "</div>"
      ],
      "text/plain": [
       "         nama kolom                    hasil\n",
       "0      credit_score        Terdapat korelasi\n",
       "1               age        Terdapat korelasi\n",
       "2            tenure  Tidak terdapat korelasi\n",
       "3           balance        Terdapat korelasi\n",
       "4   num_of_products        Terdapat korelasi\n",
       "5  estimated_salary        Terdapat korelasi"
      ]
     },
     "execution_count": 29,
     "metadata": {},
     "output_type": "execute_result"
    }
   ],
   "source": [
    "# Mendefinisikan list kosong untuk p_values, interpretasi, dan cols\n",
    "p_values = []\n",
    "interpretasi = []\n",
    "cols = []\n",
    "\n",
    "# forloop untuk kolom yang berada di dataset numerik\n",
    "for col in X_train_num.columns:\n",
    "  # melakukan perhitungan uji korelasi dengan menggunakan pearsonr untuk data numerik\n",
    "  corr_coef, p_value = spearmanr(X_train_num[col], y_train)\n",
    "\n",
    "  # p_value yang didapat kemudian dimasukkan ke dalam list p_value\n",
    "  p_values.append(p_value)\n",
    "  # memasukkan nama dari setiap kolom numerik\n",
    "  cols.append(col)\n",
    "\n",
    "  # cek jika p_value di bawah 0.05, maka terdapat korelasi\n",
    "  if p_value < 0.05:\n",
    "    interpretasi.append('Terdapat korelasi')\n",
    "  # jika p_value di atas nilai 0.05, maka tidak terdapat korelasi\n",
    "  else :\n",
    "    interpretasi.append('Tidak terdapat korelasi')\n",
    "\n",
    "# membuat dataframe untuk kolom han hasil interpretasi\n",
    "pd.DataFrame({'nama kolom':cols,\n",
    "              'hasil': interpretasi})"
   ]
  },
  {
   "cell_type": "code",
   "execution_count": 30,
   "metadata": {},
   "outputs": [],
   "source": [
    "# copy dataset train dan test dari data numerik\n",
    "X_train_num = X_train_num.copy()\n",
    "X_test_num= X_test_num.copy()\n",
    "\n",
    "# remove kolom yang tidak berkorelasi di X_train_num dan X_test_num\n",
    "X_train_num.drop(['tenure'], axis=1, inplace=True)\n",
    "X_test_num.drop(['tenure'], axis=1, inplace=True)"
   ]
  },
  {
   "cell_type": "markdown",
   "metadata": {},
   "source": [
    "## Concate kolom numerik dan kategorik"
   ]
  },
  {
   "cell_type": "code",
   "execution_count": 31,
   "metadata": {},
   "outputs": [
    {
     "data": {
      "text/plain": [
       "array([[712.0, 47, 139887.01, ..., 'Spain', 'Male', 'yes'],\n",
       "       [722.0, 49, 168197.66, ..., 'France', 'Female', 'no'],\n",
       "       [678.0, 43, 102338.19, ..., 'France', 'Male', 'yes'],\n",
       "       ...,\n",
       "       [533.0, 39, 0.0, ..., 'France', 'Female', 'yes'],\n",
       "       [753.0, 40, 3768.69, ..., 'France', 'Female', 'no'],\n",
       "       [745.0, 21, 137910.45, ..., 'France', 'Male', 'yes']], dtype=object)"
      ]
     },
     "execution_count": 31,
     "metadata": {},
     "output_type": "execute_result"
    }
   ],
   "source": [
    "#Concate kolom train dan test\n",
    "X_train = np.concatenate([X_train_num, X_train_cat], axis = 1)\n",
    "X_test = np.concatenate([X_test_num, X_test_cat], axis = 1)\n",
    "\n",
    "# menunjukkan dataset array final yang telah di concate\n",
    "X_train"
   ]
  },
  {
   "cell_type": "code",
   "execution_count": 32,
   "metadata": {},
   "outputs": [
    {
     "data": {
      "text/plain": [
       "(12740, 8)"
      ]
     },
     "execution_count": 32,
     "metadata": {},
     "output_type": "execute_result"
    }
   ],
   "source": [
    "# Cek dimensi dataset final\n",
    "X_train.shape"
   ]
  },
  {
   "cell_type": "code",
   "execution_count": 33,
   "metadata": {},
   "outputs": [
    {
     "data": {
      "text/html": [
       "<div>\n",
       "<style scoped>\n",
       "    .dataframe tbody tr th:only-of-type {\n",
       "        vertical-align: middle;\n",
       "    }\n",
       "\n",
       "    .dataframe tbody tr th {\n",
       "        vertical-align: top;\n",
       "    }\n",
       "\n",
       "    .dataframe thead th {\n",
       "        text-align: right;\n",
       "    }\n",
       "</style>\n",
       "<table border=\"1\" class=\"dataframe\">\n",
       "  <thead>\n",
       "    <tr style=\"text-align: right;\">\n",
       "      <th></th>\n",
       "      <th>credit_score</th>\n",
       "      <th>age</th>\n",
       "      <th>balance</th>\n",
       "      <th>num_of_products</th>\n",
       "      <th>estimated_salary</th>\n",
       "      <th>geography</th>\n",
       "      <th>gender</th>\n",
       "      <th>active_member</th>\n",
       "    </tr>\n",
       "  </thead>\n",
       "  <tbody>\n",
       "    <tr>\n",
       "      <th>0</th>\n",
       "      <td>712.0</td>\n",
       "      <td>47</td>\n",
       "      <td>139887.01</td>\n",
       "      <td>1</td>\n",
       "      <td>95719.73</td>\n",
       "      <td>Spain</td>\n",
       "      <td>Male</td>\n",
       "      <td>yes</td>\n",
       "    </tr>\n",
       "    <tr>\n",
       "      <th>1</th>\n",
       "      <td>722.0</td>\n",
       "      <td>49</td>\n",
       "      <td>168197.66</td>\n",
       "      <td>1</td>\n",
       "      <td>140765.57</td>\n",
       "      <td>France</td>\n",
       "      <td>Female</td>\n",
       "      <td>no</td>\n",
       "    </tr>\n",
       "    <tr>\n",
       "      <th>2</th>\n",
       "      <td>678.0</td>\n",
       "      <td>43</td>\n",
       "      <td>102338.19</td>\n",
       "      <td>1</td>\n",
       "      <td>79649.62</td>\n",
       "      <td>France</td>\n",
       "      <td>Male</td>\n",
       "      <td>yes</td>\n",
       "    </tr>\n",
       "  </tbody>\n",
       "</table>\n",
       "</div>"
      ],
      "text/plain": [
       "  credit_score age    balance num_of_products estimated_salary geography  \\\n",
       "0        712.0  47  139887.01               1         95719.73     Spain   \n",
       "1        722.0  49  168197.66               1        140765.57    France   \n",
       "2        678.0  43  102338.19               1         79649.62    France   \n",
       "\n",
       "   gender active_member  \n",
       "0    Male           yes  \n",
       "1  Female            no  \n",
       "2    Male           yes  "
      ]
     },
     "execution_count": 33,
     "metadata": {},
     "output_type": "execute_result"
    }
   ],
   "source": [
    "# Membuat dataframe untuk X_train\n",
    "X_train = pd.DataFrame(X_train, columns=np.concatenate([X_train_num.columns, X_train_cat.columns]))\n",
    "# Menampilkan dataframe X_train\n",
    "X_train.head(3)"
   ]
  },
  {
   "cell_type": "code",
   "execution_count": 34,
   "metadata": {},
   "outputs": [
    {
     "data": {
      "text/html": [
       "<div>\n",
       "<style scoped>\n",
       "    .dataframe tbody tr th:only-of-type {\n",
       "        vertical-align: middle;\n",
       "    }\n",
       "\n",
       "    .dataframe tbody tr th {\n",
       "        vertical-align: top;\n",
       "    }\n",
       "\n",
       "    .dataframe thead th {\n",
       "        text-align: right;\n",
       "    }\n",
       "</style>\n",
       "<table border=\"1\" class=\"dataframe\">\n",
       "  <thead>\n",
       "    <tr style=\"text-align: right;\">\n",
       "      <th></th>\n",
       "      <th>credit_score</th>\n",
       "      <th>age</th>\n",
       "      <th>balance</th>\n",
       "      <th>num_of_products</th>\n",
       "      <th>estimated_salary</th>\n",
       "      <th>geography</th>\n",
       "      <th>gender</th>\n",
       "      <th>active_member</th>\n",
       "    </tr>\n",
       "  </thead>\n",
       "  <tbody>\n",
       "    <tr>\n",
       "      <th>0</th>\n",
       "      <td>643.0</td>\n",
       "      <td>34</td>\n",
       "      <td>117451.47</td>\n",
       "      <td>1</td>\n",
       "      <td>65374.86</td>\n",
       "      <td>Spain</td>\n",
       "      <td>Female</td>\n",
       "      <td>no</td>\n",
       "    </tr>\n",
       "    <tr>\n",
       "      <th>1</th>\n",
       "      <td>600.0</td>\n",
       "      <td>37</td>\n",
       "      <td>0.0</td>\n",
       "      <td>3</td>\n",
       "      <td>13547.736588</td>\n",
       "      <td>France</td>\n",
       "      <td>Female</td>\n",
       "      <td>no</td>\n",
       "    </tr>\n",
       "    <tr>\n",
       "      <th>2</th>\n",
       "      <td>701.0</td>\n",
       "      <td>42</td>\n",
       "      <td>0.0</td>\n",
       "      <td>2</td>\n",
       "      <td>24210.56</td>\n",
       "      <td>Spain</td>\n",
       "      <td>Female</td>\n",
       "      <td>no</td>\n",
       "    </tr>\n",
       "  </tbody>\n",
       "</table>\n",
       "</div>"
      ],
      "text/plain": [
       "  credit_score age    balance num_of_products estimated_salary geography  \\\n",
       "0        643.0  34  117451.47               1         65374.86     Spain   \n",
       "1        600.0  37        0.0               3     13547.736588    France   \n",
       "2        701.0  42        0.0               2         24210.56     Spain   \n",
       "\n",
       "   gender active_member  \n",
       "0  Female            no  \n",
       "1  Female            no  \n",
       "2  Female            no  "
      ]
     },
     "execution_count": 34,
     "metadata": {},
     "output_type": "execute_result"
    }
   ],
   "source": [
    "# Membuat dataframe untuk X_test\n",
    "X_test = pd.DataFrame(X_test, columns=np.concatenate([X_test_num.columns, X_test_cat.columns]))\n",
    "# Menampilkan dataframe X_test\n",
    "X_test.head(3)"
   ]
  },
  {
   "cell_type": "markdown",
   "metadata": {},
   "source": [
    "# Modelling"
   ]
  },
  {
   "cell_type": "code",
   "execution_count": 35,
   "metadata": {},
   "outputs": [],
   "source": [
    "num_columns = X_train_num.columns.to_list()\n",
    "cat_columns= X_train_cat.columns.to_list()\n",
    "\n",
    "# Membuat kolom tranformer untuk preprocessing\n",
    "transformer = ColumnTransformer([\n",
    "    ('scaler', MinMaxScaler(), num_columns),\n",
    "    ('ohe', OneHotEncoder(handle_unknown='ignore'), cat_columns)       \n",
    "])\n",
    "\n",
    "#Membuat pipeline untuk Logreg\n",
    "model_logreg = Pipeline([\n",
    "('transformer', transformer),\n",
    "('classifier', LogisticRegression())\n",
    "])\n",
    "\n",
    "#Membuat pipeline untuk SVM\n",
    "model_svm = Pipeline([\n",
    "('transformer', transformer),\n",
    "('classifier', SVC())\n",
    "])\n",
    "\n",
    "#Membuat pipeline untuk KNN\n",
    "model_knn = Pipeline([\n",
    "('transformer', transformer),\n",
    "('classifier', KNeighborsClassifier())\n",
    "])\n",
    "\n",
    "#Membuat pipeline untuk Decision Tree\n",
    "model_dt = Pipeline([\n",
    "('transformer', transformer),\n",
    "('classifier', DecisionTreeClassifier())\n",
    "])\n",
    "\n",
    "#Membuat pipeline untuk Random Forest   \n",
    "model_rf = Pipeline([\n",
    "('transformer', transformer),\n",
    "('classifier', RandomForestClassifier())\n",
    "])\n",
    "\n",
    "#Membuat pipeline untuk XGBoost\n",
    "model_xgb = Pipeline([\n",
    "('transformer', transformer),\n",
    "('classifier', XGBClassifier())\n",
    "])"
   ]
  },
  {
   "cell_type": "markdown",
   "metadata": {},
   "source": [
    "## Logistic Regression"
   ]
  },
  {
   "cell_type": "code",
   "execution_count": 36,
   "metadata": {},
   "outputs": [
    {
     "name": "stdout",
     "output_type": "stream",
     "text": [
      "Training Score:  0.7024\n",
      "Testing Score:  0.7125\n"
     ]
    }
   ],
   "source": [
    "# fit model pada train set\n",
    "model_logreg.fit(X_train, y_train)\n",
    "# predict model pada test set\n",
    "y_logreg_pred = model_logreg.predict(X_test)\n",
    "# Menampilkan nilai akurasi training dan testing\n",
    "print('Training Score: ',round(model_logreg.score(X_train, y_train),4))\n",
    "print('Testing Score: ', round(model_logreg.score(X_test, y_test),4))"
   ]
  },
  {
   "cell_type": "code",
   "execution_count": 37,
   "metadata": {},
   "outputs": [
    {
     "name": "stdout",
     "output_type": "stream",
     "text": [
      "              precision    recall  f1-score   support\n",
      "\n",
      "          No       0.71      0.71      0.71      1593\n",
      "         Yes       0.71      0.71      0.71      1593\n",
      "\n",
      "    accuracy                           0.71      3186\n",
      "   macro avg       0.71      0.71      0.71      3186\n",
      "weighted avg       0.71      0.71      0.71      3186\n",
      "\n"
     ]
    }
   ],
   "source": [
    "# Mendefinisikan target\n",
    "target = ['No', 'Yes']\n",
    "# menampilkan classification report\n",
    "print(classification_report(y_test, y_logreg_pred, target_names=target))"
   ]
  },
  {
   "cell_type": "code",
   "execution_count": 38,
   "metadata": {},
   "outputs": [
    {
     "name": "stdout",
     "output_type": "stream",
     "text": [
      "F1 Score - All - Cross Validation  :  [0.70574163 0.69069212 0.69689058]\n",
      "F1 Score - Mean - Cross Validation :  0.6977747758951361\n",
      "F1 Score - Std - Cross Validation  :  0.006175664004605689\n",
      "F1 Score - Range of Test-Set       :  0.6915991118905305 - 0.7039504398997418\n"
     ]
    }
   ],
   "source": [
    "# menggunakan StratifiedKFold untuk cross-validation\n",
    "stratified_kfold = StratifiedKFold(n_splits=3, shuffle=True, random_state=42)\n",
    "\n",
    "# mendefinisikan F1 scorer untuk cross validation\n",
    "f1_scorer = make_scorer(f1_score)\n",
    "\n",
    "# menghitung cross validation\n",
    "f1_train_cross_val = cross_val_score(model_logreg, X_train, y_train, cv=stratified_kfold, scoring=f1_scorer)\n",
    "\n",
    "# menampilkan hasil\n",
    "print('F1 Score - All - Cross Validation  : ', f1_train_cross_val)\n",
    "print('F1 Score - Mean - Cross Validation : ', f1_train_cross_val.mean())\n",
    "print('F1 Score - Std - Cross Validation  : ', f1_train_cross_val.std())\n",
    "print('F1 Score - Range of Test-Set       : ', (f1_train_cross_val.mean() - f1_train_cross_val.std()), '-', (f1_train_cross_val.mean() + f1_train_cross_val.std()))"
   ]
  },
  {
   "cell_type": "markdown",
   "metadata": {},
   "source": [
    "## Support Vector Machine (SVM)"
   ]
  },
  {
   "cell_type": "code",
   "execution_count": 39,
   "metadata": {},
   "outputs": [
    {
     "name": "stdout",
     "output_type": "stream",
     "text": [
      "Training Score:  0.7686\n",
      "Testing Score:  0.7724\n"
     ]
    }
   ],
   "source": [
    "# fit model pada train set\n",
    "model_svm.fit(X_train, y_train)\n",
    "# predict model pada test set\n",
    "y_svm_pred = model_svm.predict(X_test)\n",
    "# Menampilkan nilai akurasi training dan testing\n",
    "print('Training Score: ',round(model_svm.score(X_train, y_train),4))\n",
    "print('Testing Score: ', round(model_svm.score(X_test, y_test),4))"
   ]
  },
  {
   "cell_type": "code",
   "execution_count": 40,
   "metadata": {},
   "outputs": [
    {
     "name": "stdout",
     "output_type": "stream",
     "text": [
      "              precision    recall  f1-score   support\n",
      "\n",
      "          No       0.75      0.82      0.78      1593\n",
      "         Yes       0.80      0.73      0.76      1593\n",
      "\n",
      "    accuracy                           0.77      3186\n",
      "   macro avg       0.77      0.77      0.77      3186\n",
      "weighted avg       0.77      0.77      0.77      3186\n",
      "\n"
     ]
    }
   ],
   "source": [
    "# Mendefinisikan target\n",
    "target = ['No', 'Yes']\n",
    "# menampilkan classification report\n",
    "print(classification_report(y_test, y_svm_pred, target_names=target))"
   ]
  },
  {
   "cell_type": "code",
   "execution_count": 42,
   "metadata": {},
   "outputs": [
    {
     "name": "stdout",
     "output_type": "stream",
     "text": [
      "F1 Score - All - Cross Validation  :  [0.74876115 0.74871795 0.73800738]\n",
      "F1 Score - Mean - Cross Validation :  0.7451621594816237\n",
      "F1 Score - Std - Cross Validation  :  0.005059223778483371\n",
      "F1 Score - Range of Test-Set       :  0.7401029357031403 - 0.750221383260107\n"
     ]
    }
   ],
   "source": [
    "# menggunakan StratifiedKFold untuk cross-validation\n",
    "stratified_kfold = StratifiedKFold(n_splits=3, shuffle=True, random_state=42)\n",
    "\n",
    "# mendefinisikan F1 scorer untuk cross validation\n",
    "f1_scorer = make_scorer(f1_score)\n",
    "\n",
    "# menghitung cross validation\n",
    "f1_train_cross_val = cross_val_score(model_svm, X_train, y_train, cv=stratified_kfold, scoring=f1_scorer)\n",
    "\n",
    "# menampilkan hasil\n",
    "print('F1 Score - All - Cross Validation  : ', f1_train_cross_val)\n",
    "print('F1 Score - Mean - Cross Validation : ', f1_train_cross_val.mean())\n",
    "print('F1 Score - Std - Cross Validation  : ', f1_train_cross_val.std())\n",
    "print('F1 Score - Range of Test-Set       : ', (f1_train_cross_val.mean() - f1_train_cross_val.std()), '-', (f1_train_cross_val.mean() + f1_train_cross_val.std()))"
   ]
  },
  {
   "cell_type": "markdown",
   "metadata": {},
   "source": [
    "## KNN"
   ]
  },
  {
   "cell_type": "code",
   "execution_count": 43,
   "metadata": {},
   "outputs": [
    {
     "name": "stdout",
     "output_type": "stream",
     "text": [
      "Training Score:  0.8847\n",
      "Testing Score:  0.8104\n"
     ]
    }
   ],
   "source": [
    "# fit model pada train set\n",
    "model_knn.fit(X_train, y_train)\n",
    "# predict model pada test set\n",
    "y_knn_pred = model_knn.predict(X_test)\n",
    "# Menampilkan nilai akurasi training dan testing\n",
    "print('Training Score: ',round(model_knn.score(X_train, y_train),4))\n",
    "print('Testing Score: ', round(model_knn.score(X_test, y_test),4))"
   ]
  },
  {
   "cell_type": "code",
   "execution_count": 44,
   "metadata": {},
   "outputs": [
    {
     "name": "stdout",
     "output_type": "stream",
     "text": [
      "              precision    recall  f1-score   support\n",
      "\n",
      "         0.0       0.87      0.73      0.79      1593\n",
      "         1.0       0.77      0.89      0.82      1593\n",
      "\n",
      "    accuracy                           0.81      3186\n",
      "   macro avg       0.82      0.81      0.81      3186\n",
      "weighted avg       0.82      0.81      0.81      3186\n",
      "\n"
     ]
    }
   ],
   "source": [
    "# menampilkan classification report\n",
    "print(classification_report(y_test, y_knn_pred))"
   ]
  },
  {
   "cell_type": "code",
   "execution_count": 45,
   "metadata": {},
   "outputs": [
    {
     "name": "stdout",
     "output_type": "stream",
     "text": [
      "F1 Score - All - Cross Validation  :  [0.79891916 0.80763116 0.78641644]\n",
      "F1 Score - Mean - Cross Validation :  0.7976555887253544\n",
      "F1 Score - Std - Cross Validation  :  0.008706837216275964\n",
      "F1 Score - Range of Test-Set       :  0.7889487515090784 - 0.8063624259416303\n"
     ]
    }
   ],
   "source": [
    "# menggunakan StratifiedKFold untuk cross-validation\n",
    "stratified_kfold = StratifiedKFold(n_splits=3, shuffle=True, random_state=42)\n",
    "\n",
    "# mendefinisikan F1 scorer untuk cross validation\n",
    "f1_scorer = make_scorer(f1_score)\n",
    "\n",
    "# menghitung cross validation\n",
    "f1_train_cross_val = cross_val_score(model_knn, X_train, y_train, cv=stratified_kfold, scoring=f1_scorer)\n",
    "\n",
    "# menampilkan hasil\n",
    "print('F1 Score - All - Cross Validation  : ', f1_train_cross_val)\n",
    "print('F1 Score - Mean - Cross Validation : ', f1_train_cross_val.mean())\n",
    "print('F1 Score - Std - Cross Validation  : ', f1_train_cross_val.std())\n",
    "print('F1 Score - Range of Test-Set       : ', (f1_train_cross_val.mean() - f1_train_cross_val.std()), '-', (f1_train_cross_val.mean() + f1_train_cross_val.std()))"
   ]
  },
  {
   "cell_type": "markdown",
   "metadata": {},
   "source": [
    "## Random Forest"
   ]
  },
  {
   "cell_type": "code",
   "execution_count": 46,
   "metadata": {},
   "outputs": [
    {
     "name": "stdout",
     "output_type": "stream",
     "text": [
      "Training Score:  1.0\n",
      "Testing Score:  0.9463\n"
     ]
    }
   ],
   "source": [
    "# fit model pada train set\n",
    "model_rf.fit(X_train, y_train)\n",
    "# predict model pada test set\n",
    "y_rf_pred = model_rf.predict(X_test)\n",
    "# Menampilkan nilai akurasi training dan testing\n",
    "print('Training Score: ',round(model_rf.score(X_train, y_train),4))\n",
    "print('Testing Score: ', round(model_rf.score(X_test, y_test),4))"
   ]
  },
  {
   "cell_type": "code",
   "execution_count": 47,
   "metadata": {},
   "outputs": [
    {
     "name": "stdout",
     "output_type": "stream",
     "text": [
      "              precision    recall  f1-score   support\n",
      "\n",
      "         0.0       0.98      0.91      0.94      1593\n",
      "         1.0       0.92      0.98      0.95      1593\n",
      "\n",
      "    accuracy                           0.95      3186\n",
      "   macro avg       0.95      0.95      0.95      3186\n",
      "weighted avg       0.95      0.95      0.95      3186\n",
      "\n"
     ]
    }
   ],
   "source": [
    "# menampilkan classification report\n",
    "print(classification_report(y_test, y_rf_pred))"
   ]
  },
  {
   "cell_type": "code",
   "execution_count": 48,
   "metadata": {},
   "outputs": [
    {
     "name": "stdout",
     "output_type": "stream",
     "text": [
      "F1 Score - All - Cross Validation  :  [0.91780822 0.92457531 0.91989076]\n",
      "F1 Score - Mean - Cross Validation :  0.9207580969146024\n",
      "F1 Score - Std - Cross Validation  :  0.002829910392134723\n",
      "F1 Score - Range of Test-Set       :  0.9179281865224677 - 0.9235880073067372\n"
     ]
    }
   ],
   "source": [
    "# menggunakan StratifiedKFold untuk cross-validation\n",
    "stratified_kfold = StratifiedKFold(n_splits=3, shuffle=True, random_state=42)\n",
    "\n",
    "# mendefinisikan F1 scorer untuk cross validation\n",
    "f1_scorer = make_scorer(f1_score)\n",
    "\n",
    "# menghitung cross validation\n",
    "f1_train_cross_val = cross_val_score(model_rf, X_train, y_train, cv=stratified_kfold, scoring=f1_scorer)\n",
    "\n",
    "# menampilkan hasil\n",
    "print('F1 Score - All - Cross Validation  : ', f1_train_cross_val)\n",
    "print('F1 Score - Mean - Cross Validation : ', f1_train_cross_val.mean())\n",
    "print('F1 Score - Std - Cross Validation  : ', f1_train_cross_val.std())\n",
    "print('F1 Score - Range of Test-Set       : ', (f1_train_cross_val.mean() - f1_train_cross_val.std()), '-', (f1_train_cross_val.mean() + f1_train_cross_val.std()))"
   ]
  },
  {
   "cell_type": "markdown",
   "metadata": {},
   "source": [
    "## Decision Tree"
   ]
  },
  {
   "cell_type": "code",
   "execution_count": 49,
   "metadata": {},
   "outputs": [
    {
     "name": "stdout",
     "output_type": "stream",
     "text": [
      "Training Score:  1.0\n",
      "Testing Score:  0.9127\n"
     ]
    }
   ],
   "source": [
    "# fit model pada train set\n",
    "model_dt.fit(X_train, y_train)\n",
    "# predict model pada test set\n",
    "y_dt_pred = model_dt.predict(X_test)\n",
    "# Menampilkan nilai akurasi training dan testing\n",
    "print('Training Score: ',round(model_dt.score(X_train, y_train),4))\n",
    "print('Testing Score: ', round(model_dt.score(X_test, y_test),4))"
   ]
  },
  {
   "cell_type": "code",
   "execution_count": 50,
   "metadata": {},
   "outputs": [
    {
     "name": "stdout",
     "output_type": "stream",
     "text": [
      "              precision    recall  f1-score   support\n",
      "\n",
      "         0.0       0.97      0.85      0.91      1593\n",
      "         1.0       0.87      0.98      0.92      1593\n",
      "\n",
      "    accuracy                           0.91      3186\n",
      "   macro avg       0.92      0.91      0.91      3186\n",
      "weighted avg       0.92      0.91      0.91      3186\n",
      "\n"
     ]
    }
   ],
   "source": [
    "# menampilkan classification report\n",
    "print(classification_report(y_test, y_dt_pred))"
   ]
  },
  {
   "cell_type": "code",
   "execution_count": 51,
   "metadata": {},
   "outputs": [
    {
     "name": "stdout",
     "output_type": "stream",
     "text": [
      "F1 Score - All - Cross Validation  :  [0.89242324 0.90233172 0.88913476]\n",
      "F1 Score - Mean - Cross Validation :  0.8946299076232199\n",
      "F1 Score - Std - Cross Validation  :  0.005609037528583276\n",
      "F1 Score - Range of Test-Set       :  0.8890208700946366 - 0.9002389451518032\n"
     ]
    }
   ],
   "source": [
    "# menggunakan StratifiedKFold untuk cross-validation\n",
    "stratified_kfold = StratifiedKFold(n_splits=3, shuffle=True, random_state=42)\n",
    "\n",
    "# mendefinisikan F1 scorer untuk cross validation\n",
    "f1_scorer = make_scorer(f1_score)\n",
    "\n",
    "# menghitung cross validation\n",
    "f1_train_cross_val = cross_val_score(model_dt, X_train, y_train, cv=stratified_kfold, scoring=f1_scorer)\n",
    "\n",
    "# menampilkan hasil\n",
    "print('F1 Score - All - Cross Validation  : ', f1_train_cross_val)\n",
    "print('F1 Score - Mean - Cross Validation : ', f1_train_cross_val.mean())\n",
    "print('F1 Score - Std - Cross Validation  : ', f1_train_cross_val.std())\n",
    "print('F1 Score - Range of Test-Set       : ', (f1_train_cross_val.mean() - f1_train_cross_val.std()), '-', (f1_train_cross_val.mean() + f1_train_cross_val.std()))"
   ]
  },
  {
   "cell_type": "markdown",
   "metadata": {},
   "source": [
    "## XGBoost"
   ]
  },
  {
   "cell_type": "code",
   "execution_count": 52,
   "metadata": {},
   "outputs": [
    {
     "name": "stdout",
     "output_type": "stream",
     "text": [
      "Training Score:  0.9622\n",
      "Testing Score:  0.9052\n"
     ]
    }
   ],
   "source": [
    "# fit model pada train set\n",
    "model_xgb.fit(X_train, y_train)\n",
    "# predict model pada test set\n",
    "y_xgb_pred = model_xgb.predict(X_test)\n",
    "# Menampilkan nilai akurasi training dan testing\n",
    "print('Training Score: ',round(model_xgb.score(X_train, y_train),4))\n",
    "print('Testing Score: ', round(model_xgb.score(X_test, y_test),4))"
   ]
  },
  {
   "cell_type": "code",
   "execution_count": 53,
   "metadata": {},
   "outputs": [
    {
     "name": "stdout",
     "output_type": "stream",
     "text": [
      "              precision    recall  f1-score   support\n",
      "\n",
      "         0.0       0.94      0.87      0.90      1593\n",
      "         1.0       0.88      0.94      0.91      1593\n",
      "\n",
      "    accuracy                           0.91      3186\n",
      "   macro avg       0.91      0.91      0.91      3186\n",
      "weighted avg       0.91      0.91      0.91      3186\n",
      "\n"
     ]
    }
   ],
   "source": [
    "# menampilkan classification report\n",
    "print(classification_report(y_test, y_xgb_pred))"
   ]
  },
  {
   "cell_type": "code",
   "execution_count": 54,
   "metadata": {},
   "outputs": [
    {
     "name": "stdout",
     "output_type": "stream",
     "text": [
      "F1 Score - All - Cross Validation  :  [0.88666818 0.87577213 0.88700435]\n",
      "F1 Score - Mean - Cross Validation :  0.8831482233701874\n",
      "F1 Score - Std - Cross Validation  :  0.005217487789701657\n",
      "F1 Score - Range of Test-Set       :  0.8779307355804857 - 0.888365711159889\n"
     ]
    }
   ],
   "source": [
    "# menggunakan StratifiedKFold untuk cross-validation\n",
    "stratified_kfold = StratifiedKFold(n_splits=3, shuffle=True, random_state=42)\n",
    "\n",
    "# mendefinisikan F1 scorer untuk cross validation\n",
    "f1_scorer = make_scorer(f1_score)\n",
    "\n",
    "# menghitung cross validation\n",
    "f1_train_cross_val = cross_val_score(model_xgb, X_train, y_train, cv=stratified_kfold, scoring=f1_scorer)\n",
    "\n",
    "# menampilkan hasil\n",
    "print('F1 Score - All - Cross Validation  : ', f1_train_cross_val)\n",
    "print('F1 Score - Mean - Cross Validation : ', f1_train_cross_val.mean())\n",
    "print('F1 Score - Std - Cross Validation  : ', f1_train_cross_val.std())\n",
    "print('F1 Score - Range of Test-Set       : ', (f1_train_cross_val.mean() - f1_train_cross_val.std()), '-', (f1_train_cross_val.mean() + f1_train_cross_val.std()))"
   ]
  },
  {
   "cell_type": "markdown",
   "metadata": {},
   "source": [
    "# Model Optimization"
   ]
  },
  {
   "cell_type": "code",
   "execution_count": 55,
   "metadata": {},
   "outputs": [],
   "source": [
    "param_logreg = {\n",
    "    'classifier__penalty': ['l1', 'l2', 'elasticnet', 'none'],\n",
    "    'classifier__C': [0.001, 0.01, 0.1, 1, 10, 100],\n",
    "}\n",
    "\n",
    "param_knn = {\n",
    "    'classifier__n_neighbors': np.arange(2, 30, 1), \n",
    "    'classifier__weights': ['uniform', 'distance'], \n",
    "}\n",
    "param_dt = {\n",
    "    'classifier__criterion': ['gini', 'entropy'],\n",
    "    'classifier__max_depth': [5, 10, 15, 20],\n",
    "    'classifier__min_samples_leaf': [1, 2, 4],\n",
    "    'classifier__ccp_alpha': [0.0, 0.1, 0.2],\n",
    "}\n",
    "\n",
    "param_rf = {\n",
    "    'classifier__n_estimators': np.arange(200, 401, 30),\n",
    "    'classifier__max_depth': np.arange(4, 8, 2), \n",
    "    'classifier__min_samples_split': [2, 5, 10],\n",
    "}\n",
    "\n",
    "param_svm = {\n",
    "    'classifier__C': [0.1, 1, 10, 100],  \n",
    "    'classifier__gamma': [1, 0.1, 0.01, 0.001, 0.0001]  \n",
    "}\n",
    "\n",
    "param_xgb = {\n",
    "    'classifier__max_depth': [3, 5, 7],\n",
    "    'classifier__n_estimators': [50, 100, 150],\n",
    "    'classifier__learning_rate': [0.1, 0.01, 0.001],\n",
    "    'transformer__verbose': [0],\n",
    "}"
   ]
  },
  {
   "cell_type": "markdown",
   "metadata": {},
   "source": [
    "## GridSearchCV (All Models)"
   ]
  },
  {
   "cell_type": "code",
   "execution_count": 57,
   "metadata": {},
   "outputs": [],
   "source": [
    "# proses grid search untuk tuning hyperparameter secara paralel (Logistic Regression)\n",
    "grid_logreg = GridSearchCV(model_logreg, param_grid=param_logreg, cv=stratified_kfold, n_jobs=-1).fit(X_train, y_train)"
   ]
  },
  {
   "cell_type": "code",
   "execution_count": 58,
   "metadata": {},
   "outputs": [],
   "source": [
    "# proses grid search untuk tuning hyperparameter secara paralel (KNN)\n",
    "grid_knn = GridSearchCV(model_knn, param_grid=param_knn, cv=stratified_kfold, n_jobs=-1).fit(X_train, y_train)"
   ]
  },
  {
   "cell_type": "code",
   "execution_count": 59,
   "metadata": {},
   "outputs": [],
   "source": [
    "# proses grid search untuk tuning hyperparameter secara paralel (Random Forest)\n",
    "grid_rf = GridSearchCV(model_rf, param_grid=param_rf, cv=stratified_kfold, n_jobs=-1).fit(X_train, y_train)"
   ]
  },
  {
   "cell_type": "code",
   "execution_count": 60,
   "metadata": {},
   "outputs": [],
   "source": [
    "# proses grid search untuk tuning hyperparameter secara paralel (Decision Tree)\n",
    "grid_dt = GridSearchCV(model_dt, param_grid=param_dt, cv=stratified_kfold, n_jobs=-1).fit(X_train, y_train)"
   ]
  },
  {
   "cell_type": "code",
   "execution_count": 61,
   "metadata": {},
   "outputs": [],
   "source": [
    "# proses grid search untuk tuning hyperparameter secara paralel (SVM)\n",
    "grid_svc = GridSearchCV(model_svm, param_grid=param_svm, cv=stratified_kfold, n_jobs=-1).fit(X_train, y_train)"
   ]
  },
  {
   "cell_type": "code",
   "execution_count": 62,
   "metadata": {},
   "outputs": [],
   "source": [
    "# proses grid search untuk tuning hyperparameter secara paralel (XGBoost)\n",
    "grid_xgb = GridSearchCV(model_xgb, param_grid=param_xgb, cv=stratified_kfold, n_jobs=-1).fit(X_train, y_train)"
   ]
  },
  {
   "cell_type": "markdown",
   "metadata": {},
   "source": [
    "## Optimized Model Score"
   ]
  },
  {
   "cell_type": "code",
   "execution_count": 63,
   "metadata": {},
   "outputs": [
    {
     "name": "stdout",
     "output_type": "stream",
     "text": [
      "Train Set Score :  0.7023547880690738\n",
      "Test Set Score :  0.7124921531701193\n"
     ]
    }
   ],
   "source": [
    "# Menampilkan hasil train dan test setelah dilakukan tuning (Logistic Regression)\n",
    "print('Train Set Score : ', grid_logreg.score(X_train, y_train))\n",
    "print('Test Set Score : ', grid_logreg.score(X_test, y_test))"
   ]
  },
  {
   "cell_type": "code",
   "execution_count": 64,
   "metadata": {},
   "outputs": [
    {
     "name": "stdout",
     "output_type": "stream",
     "text": [
      "Train Set Score :  1.0\n",
      "Test Set Score :  0.9262397991211551\n"
     ]
    }
   ],
   "source": [
    "# Menampilkan hasil train dan test setelah dilakukan tuning (KNN)\n",
    "print('Train Set Score : ', grid_knn.score(X_train, y_train))\n",
    "print('Test Set Score : ', grid_knn.score(X_test, y_test))"
   ]
  },
  {
   "cell_type": "code",
   "execution_count": 65,
   "metadata": {},
   "outputs": [
    {
     "name": "stdout",
     "output_type": "stream",
     "text": [
      "Train Set Score :  0.7898744113029827\n",
      "Test Set Score :  0.7940991839296924\n"
     ]
    }
   ],
   "source": [
    "# Menampilkan hasil train dan test setelah dilakukan tuning (Random Forest)\n",
    "print('Train Set Score : ', grid_rf.score(X_train, y_train))\n",
    "print('Test Set Score : ', grid_rf.score(X_test, y_test))"
   ]
  },
  {
   "cell_type": "code",
   "execution_count": 66,
   "metadata": {},
   "outputs": [
    {
     "name": "stdout",
     "output_type": "stream",
     "text": [
      "Train Set Score :  0.9987441130298274\n",
      "Test Set Score :  0.9136848713119899\n"
     ]
    }
   ],
   "source": [
    "# Menampilkan hasil train dan test setelah dilakukan tuning (Decision Tree)\n",
    "print('Train Set Score : ', grid_dt.score(X_train, y_train))\n",
    "print('Test Set Score : ', grid_dt.score(X_test, y_test))"
   ]
  },
  {
   "cell_type": "code",
   "execution_count": 67,
   "metadata": {},
   "outputs": [
    {
     "name": "stdout",
     "output_type": "stream",
     "text": [
      "Train Set Score :  0.8434065934065934\n",
      "Test Set Score :  0.8236032642812304\n"
     ]
    }
   ],
   "source": [
    "# Menampilkan hasil train dan test setelah dilakukan tuning (SVM)\n",
    "print('Train Set Score : ', grid_svc.score(X_train, y_train))\n",
    "print('Test Set Score : ', grid_svc.score(X_test, y_test))"
   ]
  },
  {
   "cell_type": "code",
   "execution_count": 68,
   "metadata": {},
   "outputs": [
    {
     "name": "stdout",
     "output_type": "stream",
     "text": [
      "Train Set Score :  0.9474097331240189\n",
      "Test Set Score :  0.8907721280602636\n"
     ]
    }
   ],
   "source": [
    "# Menampilkan hasil train dan test setelah dilakukan tuning (XGBoost)\n",
    "print('Train Set Score : ', grid_xgb.score(X_train, y_train))\n",
    "print('Test Set Score : ', grid_xgb.score(X_test, y_test))"
   ]
  },
  {
   "cell_type": "markdown",
   "metadata": {},
   "source": [
    "## Best Params (All Models)"
   ]
  },
  {
   "cell_type": "code",
   "execution_count": 69,
   "metadata": {},
   "outputs": [
    {
     "name": "stdout",
     "output_type": "stream",
     "text": [
      "{'classifier__n_neighbors': 2, 'classifier__weights': 'distance'}\n",
      "\n",
      "\n",
      "Pipeline(steps=[('transformer',\n",
      "                 ColumnTransformer(transformers=[('scaler', MinMaxScaler(),\n",
      "                                                  ['credit_score', 'age',\n",
      "                                                   'balance', 'num_of_products',\n",
      "                                                   'estimated_salary']),\n",
      "                                                 ('ohe',\n",
      "                                                  OneHotEncoder(handle_unknown='ignore'),\n",
      "                                                  ['geography', 'gender',\n",
      "                                                   'active_member'])])),\n",
      "                ('classifier',\n",
      "                 KNeighborsClassifier(n_neighbors=2, weights='distance'))])\n",
      "\n",
      "\n",
      "Index(['mean_fit_time', 'std_fit_time', 'mean_score_time', 'std_score_time',\n",
      "       'param_classifier__n_neighbors', 'param_classifier__weights', 'params',\n",
      "       'split0_test_score', 'split1_test_score', 'split2_test_score',\n",
      "       'mean_test_score', 'std_test_score', 'rank_test_score'],\n",
      "      dtype='object')\n"
     ]
    }
   ],
   "source": [
    "# Mendefinisikan parameter yang terbaik\n",
    "best_param_knn = grid_knn.best_params_\n",
    "# Menampilkan best parameter\n",
    "print(best_param_knn)\n",
    "print('\\n')\n",
    "# mendefinsiikan estimator yang terbaik\n",
    "best_knn = grid_knn.best_estimator_\n",
    "# menampilkan estimator yang terbaik\n",
    "print(best_knn)\n",
    "print('\\n')\n",
    "# Membuat dataframe untuk result_df_knn\n",
    "result_df_knn = pd.DataFrame.from_dict(grid_knn.cv_results_, orient='columns')\n",
    "# menampilkan kolom result_df_knn\n",
    "print(result_df_knn.columns)"
   ]
  },
  {
   "cell_type": "code",
   "execution_count": 70,
   "metadata": {},
   "outputs": [
    {
     "name": "stdout",
     "output_type": "stream",
     "text": [
      "{'classifier__max_depth': 6, 'classifier__min_samples_split': 2, 'classifier__n_estimators': 230}\n",
      "\n",
      "\n",
      "Pipeline(steps=[('transformer',\n",
      "                 ColumnTransformer(transformers=[('scaler', MinMaxScaler(),\n",
      "                                                  ['credit_score', 'age',\n",
      "                                                   'balance', 'num_of_products',\n",
      "                                                   'estimated_salary']),\n",
      "                                                 ('ohe',\n",
      "                                                  OneHotEncoder(handle_unknown='ignore'),\n",
      "                                                  ['geography', 'gender',\n",
      "                                                   'active_member'])])),\n",
      "                ('classifier',\n",
      "                 RandomForestClassifier(max_depth=6, n_estimators=230))])\n",
      "\n",
      "\n",
      "Index(['mean_fit_time', 'std_fit_time', 'mean_score_time', 'std_score_time',\n",
      "       'param_classifier__max_depth', 'param_classifier__min_samples_split',\n",
      "       'param_classifier__n_estimators', 'params', 'split0_test_score',\n",
      "       'split1_test_score', 'split2_test_score', 'mean_test_score',\n",
      "       'std_test_score', 'rank_test_score'],\n",
      "      dtype='object')\n"
     ]
    }
   ],
   "source": [
    "# Mendefinisikan parameter yang terbaik\n",
    "best_param_rf = grid_rf.best_params_\n",
    "# Menampilkan best parameter\n",
    "print(best_param_rf)\n",
    "print('\\n')\n",
    "# mendefinsiikan estimator yang terbaik\n",
    "best_rf = grid_rf.best_estimator_\n",
    "# menampilkan estimator yang terbaik\n",
    "print(best_rf)\n",
    "print('\\n')\n",
    "# Membuat dataframe untuk result_df_rf\n",
    "result_df_rf = pd.DataFrame.from_dict(grid_rf.cv_results_, orient='columns')\n",
    "# menampilkan kolom result_df_rf\n",
    "print(result_df_rf.columns)"
   ]
  },
  {
   "cell_type": "code",
   "execution_count": 71,
   "metadata": {},
   "outputs": [
    {
     "name": "stdout",
     "output_type": "stream",
     "text": [
      "{'classifier__ccp_alpha': 0.0, 'classifier__criterion': 'gini', 'classifier__max_depth': 20, 'classifier__min_samples_leaf': 1}\n",
      "\n",
      "\n",
      "Pipeline(steps=[('transformer',\n",
      "                 ColumnTransformer(transformers=[('scaler', MinMaxScaler(),\n",
      "                                                  ['credit_score', 'age',\n",
      "                                                   'balance', 'num_of_products',\n",
      "                                                   'estimated_salary']),\n",
      "                                                 ('ohe',\n",
      "                                                  OneHotEncoder(handle_unknown='ignore'),\n",
      "                                                  ['geography', 'gender',\n",
      "                                                   'active_member'])])),\n",
      "                ('classifier', DecisionTreeClassifier(max_depth=20))])\n",
      "\n",
      "\n",
      "Index(['mean_fit_time', 'std_fit_time', 'mean_score_time', 'std_score_time',\n",
      "       'param_classifier__ccp_alpha', 'param_classifier__criterion',\n",
      "       'param_classifier__max_depth', 'param_classifier__min_samples_leaf',\n",
      "       'params', 'split0_test_score', 'split1_test_score', 'split2_test_score',\n",
      "       'mean_test_score', 'std_test_score', 'rank_test_score'],\n",
      "      dtype='object')\n"
     ]
    }
   ],
   "source": [
    "# Mendefinisikan parameter yang terbaik\n",
    "best_param_dt = grid_dt.best_params_\n",
    "# Menampilkan best parameter\n",
    "print(best_param_dt)\n",
    "print('\\n')\n",
    "# mendefinsiikan estimator yang terbaik\n",
    "best_dt = grid_dt.best_estimator_\n",
    "# menampilkan estimator yang terbaik\n",
    "print(best_dt)\n",
    "print('\\n')\n",
    "# Membuat dataframe untuk result_df_dt\n",
    "result_df_dt = pd.DataFrame.from_dict(grid_dt.cv_results_, orient='columns')\n",
    "# menampilkan kolom result_df_dt\n",
    "print(result_df_dt.columns)"
   ]
  },
  {
   "cell_type": "code",
   "execution_count": 72,
   "metadata": {},
   "outputs": [
    {
     "name": "stdout",
     "output_type": "stream",
     "text": [
      "{'classifier__C': 100, 'classifier__gamma': 1}\n",
      "\n",
      "\n",
      "Pipeline(steps=[('transformer',\n",
      "                 ColumnTransformer(transformers=[('scaler', MinMaxScaler(),\n",
      "                                                  ['credit_score', 'age',\n",
      "                                                   'balance', 'num_of_products',\n",
      "                                                   'estimated_salary']),\n",
      "                                                 ('ohe',\n",
      "                                                  OneHotEncoder(handle_unknown='ignore'),\n",
      "                                                  ['geography', 'gender',\n",
      "                                                   'active_member'])])),\n",
      "                ('classifier', SVC(C=100, gamma=1))])\n",
      "\n",
      "\n",
      "Index(['mean_fit_time', 'std_fit_time', 'mean_score_time', 'std_score_time',\n",
      "       'param_classifier__C', 'param_classifier__gamma', 'params',\n",
      "       'split0_test_score', 'split1_test_score', 'split2_test_score',\n",
      "       'mean_test_score', 'std_test_score', 'rank_test_score'],\n",
      "      dtype='object')\n"
     ]
    }
   ],
   "source": [
    "# Mendefinisikan parameter yang terbaik\n",
    "best_param_svc = grid_svc.best_params_\n",
    "# Menampilkan best parameter\n",
    "print(best_param_svc)\n",
    "print('\\n')\n",
    "# mendefinsiikan estimator yang terbaik\n",
    "best_svc = grid_svc.best_estimator_\n",
    "# menampilkan estimator yang terbaik\n",
    "print(best_svc)\n",
    "print('\\n')\n",
    "# Membuat dataframe untuk result_df_svc\n",
    "result_df_svc = pd.DataFrame.from_dict(grid_svc.cv_results_, orient='columns')\n",
    "# menampilkan kolom result_df_svc\n",
    "print(result_df_svc.columns)"
   ]
  },
  {
   "cell_type": "code",
   "execution_count": 73,
   "metadata": {},
   "outputs": [
    {
     "name": "stdout",
     "output_type": "stream",
     "text": [
      "{'classifier__learning_rate': 0.1, 'classifier__max_depth': 7, 'classifier__n_estimators': 150, 'transformer__verbose': 0}\n",
      "\n",
      "\n",
      "Pipeline(steps=[('transformer',\n",
      "                 ColumnTransformer(transformers=[('scaler', MinMaxScaler(),\n",
      "                                                  ['credit_score', 'age',\n",
      "                                                   'balance', 'num_of_products',\n",
      "                                                   'estimated_salary']),\n",
      "                                                 ('ohe',\n",
      "                                                  OneHotEncoder(handle_unknown='ignore'),\n",
      "                                                  ['geography', 'gender',\n",
      "                                                   'active_member'])],\n",
      "                                   verbose=0)),\n",
      "                ('classifier',\n",
      "                 XGBClassifier(base_score=None, booster=None, callbacks=None,\n",
      "                               colsample_bylevel=No...\n",
      "                               feature_types=None, gamma=None, grow_policy=None,\n",
      "                               importance_type=None,\n",
      "                               interaction_constraints=None, learning_rate=0.1,\n",
      "                               max_bin=None, max_cat_threshold=None,\n",
      "                               max_cat_to_onehot=None, max_delta_step=None,\n",
      "                               max_depth=7, max_leaves=None,\n",
      "                               min_child_weight=None, missing=nan,\n",
      "                               monotone_constraints=None, multi_strategy=None,\n",
      "                               n_estimators=150, n_jobs=None,\n",
      "                               num_parallel_tree=None, random_state=None, ...))])\n",
      "\n",
      "\n",
      "Index(['mean_fit_time', 'std_fit_time', 'mean_score_time', 'std_score_time',\n",
      "       'param_classifier__learning_rate', 'param_classifier__max_depth',\n",
      "       'param_classifier__n_estimators', 'param_transformer__verbose',\n",
      "       'params', 'split0_test_score', 'split1_test_score', 'split2_test_score',\n",
      "       'mean_test_score', 'std_test_score', 'rank_test_score'],\n",
      "      dtype='object')\n"
     ]
    }
   ],
   "source": [
    "# Mendefinisikan parameter yang terbaik\n",
    "best_param_xgb = grid_xgb.best_params_\n",
    "# Menampilkan best parameter\n",
    "print(best_param_xgb)\n",
    "print('\\n')\n",
    "# mendefinsiikan estimator yang terbaik\n",
    "best_xgb = grid_xgb.best_estimator_\n",
    "# menampilkan estimator yang terbaik\n",
    "print(best_xgb)\n",
    "print('\\n')\n",
    "# Membuat dataframe untuk result_df_xgb\n",
    "result_df_xgb = pd.DataFrame.from_dict(grid_xgb.cv_results_, orient='columns')\n",
    "# menampilkan kolom result_df_xgb\n",
    "print(result_df_xgb.columns)"
   ]
  },
  {
   "cell_type": "code",
   "execution_count": 74,
   "metadata": {},
   "outputs": [
    {
     "name": "stdout",
     "output_type": "stream",
     "text": [
      "{'classifier__C': 1, 'classifier__penalty': 'l2'}\n",
      "\n",
      "\n",
      "Pipeline(steps=[('transformer',\n",
      "                 ColumnTransformer(transformers=[('scaler', MinMaxScaler(),\n",
      "                                                  ['credit_score', 'age',\n",
      "                                                   'balance', 'num_of_products',\n",
      "                                                   'estimated_salary']),\n",
      "                                                 ('ohe',\n",
      "                                                  OneHotEncoder(handle_unknown='ignore'),\n",
      "                                                  ['geography', 'gender',\n",
      "                                                   'active_member'])])),\n",
      "                ('classifier', LogisticRegression(C=1))])\n",
      "\n",
      "\n",
      "Index(['mean_fit_time', 'std_fit_time', 'mean_score_time', 'std_score_time',\n",
      "       'param_classifier__C', 'param_classifier__penalty', 'params',\n",
      "       'split0_test_score', 'split1_test_score', 'split2_test_score',\n",
      "       'mean_test_score', 'std_test_score', 'rank_test_score'],\n",
      "      dtype='object')\n"
     ]
    }
   ],
   "source": [
    "# Mendefinisikan parameter yang terbaik\n",
    "best_param_logreg = grid_logreg.best_params_\n",
    "# Menampilkan best parameter\n",
    "print(best_param_logreg)\n",
    "print('\\n')\n",
    "# mendefinsiikan estimator yang terbaik\n",
    "best_logreg = grid_logreg.best_estimator_\n",
    "# menampilkan estimator yang terbaik\n",
    "print(best_logreg)\n",
    "print('\\n')\n",
    "# Membuat dataframe untuk result_df_logreg\n",
    "result_df_logreg = pd.DataFrame.from_dict(grid_logreg.cv_results_, orient='columns')\n",
    "# menampilkan kolom result_df_logreg\n",
    "print(result_df_logreg.columns)"
   ]
  },
  {
   "cell_type": "markdown",
   "metadata": {},
   "source": [
    "## Classification Report (All Models)"
   ]
  },
  {
   "cell_type": "markdown",
   "metadata": {},
   "source": [
    "### KNN"
   ]
  },
  {
   "cell_type": "markdown",
   "metadata": {},
   "source": [
    "**Train Score Report**"
   ]
  },
  {
   "cell_type": "code",
   "execution_count": 83,
   "metadata": {},
   "outputs": [
    {
     "name": "stdout",
     "output_type": "stream",
     "text": [
      "              precision    recall  f1-score   support\n",
      "\n",
      "          No       1.00      1.00      1.00      6370\n",
      "         Yes       1.00      1.00      1.00      6370\n",
      "\n",
      "    accuracy                           1.00     12740\n",
      "   macro avg       1.00      1.00      1.00     12740\n",
      "weighted avg       1.00      1.00      1.00     12740\n",
      "\n"
     ]
    }
   ],
   "source": [
    "Target = ['No', 'Yes']\n",
    "print(classification_report(y_train, best_knn.predict(X_train), target_names=Target))"
   ]
  },
  {
   "cell_type": "markdown",
   "metadata": {},
   "source": [
    "**Test Score Report**"
   ]
  },
  {
   "cell_type": "code",
   "execution_count": 84,
   "metadata": {},
   "outputs": [
    {
     "name": "stdout",
     "output_type": "stream",
     "text": [
      "              precision    recall  f1-score   support\n",
      "\n",
      "          No       0.98      0.87      0.92      1593\n",
      "         Yes       0.88      0.99      0.93      1593\n",
      "\n",
      "    accuracy                           0.93      3186\n",
      "   macro avg       0.93      0.93      0.93      3186\n",
      "weighted avg       0.93      0.93      0.93      3186\n",
      "\n"
     ]
    }
   ],
   "source": [
    "Target = ['No', 'Yes']\n",
    "print(classification_report(y_test, best_knn.predict(X_test), target_names=Target))"
   ]
  },
  {
   "cell_type": "markdown",
   "metadata": {},
   "source": [
    "### Random Forest "
   ]
  },
  {
   "cell_type": "markdown",
   "metadata": {},
   "source": [
    "**Train Score Report**"
   ]
  },
  {
   "cell_type": "code",
   "execution_count": 85,
   "metadata": {},
   "outputs": [
    {
     "name": "stdout",
     "output_type": "stream",
     "text": [
      "              precision    recall  f1-score   support\n",
      "\n",
      "          No       0.77      0.83      0.80      6370\n",
      "         Yes       0.81      0.75      0.78      6370\n",
      "\n",
      "    accuracy                           0.79     12740\n",
      "   macro avg       0.79      0.79      0.79     12740\n",
      "weighted avg       0.79      0.79      0.79     12740\n",
      "\n"
     ]
    }
   ],
   "source": [
    "Target = ['No', 'Yes']\n",
    "print(classification_report(y_train, best_rf.predict(X_train), target_names=Target))"
   ]
  },
  {
   "cell_type": "markdown",
   "metadata": {},
   "source": [
    "**Test Score Report**"
   ]
  },
  {
   "cell_type": "code",
   "execution_count": 86,
   "metadata": {},
   "outputs": [
    {
     "name": "stdout",
     "output_type": "stream",
     "text": [
      "              precision    recall  f1-score   support\n",
      "\n",
      "          No       0.78      0.83      0.80      1593\n",
      "         Yes       0.81      0.76      0.79      1593\n",
      "\n",
      "    accuracy                           0.79      3186\n",
      "   macro avg       0.80      0.79      0.79      3186\n",
      "weighted avg       0.80      0.79      0.79      3186\n",
      "\n"
     ]
    }
   ],
   "source": [
    "Target = ['No', 'Yes']\n",
    "print(classification_report(y_test, best_rf.predict(X_test), target_names=Target))"
   ]
  },
  {
   "cell_type": "markdown",
   "metadata": {},
   "source": [
    "### Decision Tree"
   ]
  },
  {
   "cell_type": "markdown",
   "metadata": {},
   "source": [
    "**Train Score Report**"
   ]
  },
  {
   "cell_type": "code",
   "execution_count": 87,
   "metadata": {},
   "outputs": [
    {
     "name": "stdout",
     "output_type": "stream",
     "text": [
      "              precision    recall  f1-score   support\n",
      "\n",
      "          No       1.00      1.00      1.00      6370\n",
      "         Yes       1.00      1.00      1.00      6370\n",
      "\n",
      "    accuracy                           1.00     12740\n",
      "   macro avg       1.00      1.00      1.00     12740\n",
      "weighted avg       1.00      1.00      1.00     12740\n",
      "\n"
     ]
    }
   ],
   "source": [
    "Target = ['No', 'Yes']\n",
    "print(classification_report(y_train, best_dt.predict(X_train), target_names=Target))"
   ]
  },
  {
   "cell_type": "markdown",
   "metadata": {},
   "source": [
    "**Test Score Report**"
   ]
  },
  {
   "cell_type": "code",
   "execution_count": 88,
   "metadata": {},
   "outputs": [
    {
     "name": "stdout",
     "output_type": "stream",
     "text": [
      "              precision    recall  f1-score   support\n",
      "\n",
      "          No       0.98      0.85      0.91      1593\n",
      "         Yes       0.87      0.98      0.92      1593\n",
      "\n",
      "    accuracy                           0.91      3186\n",
      "   macro avg       0.92      0.91      0.91      3186\n",
      "weighted avg       0.92      0.91      0.91      3186\n",
      "\n"
     ]
    }
   ],
   "source": [
    "Target = ['No', 'Yes']\n",
    "print(classification_report(y_test, best_dt.predict(X_test), target_names=Target))"
   ]
  },
  {
   "cell_type": "markdown",
   "metadata": {},
   "source": [
    "### Support Vector Machine (SVM)"
   ]
  },
  {
   "cell_type": "markdown",
   "metadata": {},
   "source": [
    "**Train Score Report**"
   ]
  },
  {
   "cell_type": "code",
   "execution_count": 89,
   "metadata": {},
   "outputs": [
    {
     "name": "stdout",
     "output_type": "stream",
     "text": [
      "              precision    recall  f1-score   support\n",
      "\n",
      "          No       0.84      0.84      0.84      6370\n",
      "         Yes       0.84      0.84      0.84      6370\n",
      "\n",
      "    accuracy                           0.84     12740\n",
      "   macro avg       0.84      0.84      0.84     12740\n",
      "weighted avg       0.84      0.84      0.84     12740\n",
      "\n"
     ]
    }
   ],
   "source": [
    "Target = ['No', 'Yes']\n",
    "print(classification_report(y_train, best_svc.predict(X_train), target_names=Target))"
   ]
  },
  {
   "cell_type": "markdown",
   "metadata": {},
   "source": [
    "**Test Score Report**"
   ]
  },
  {
   "cell_type": "code",
   "execution_count": 90,
   "metadata": {},
   "outputs": [
    {
     "name": "stdout",
     "output_type": "stream",
     "text": [
      "              precision    recall  f1-score   support\n",
      "\n",
      "          No       0.83      0.81      0.82      1593\n",
      "         Yes       0.82      0.83      0.83      1593\n",
      "\n",
      "    accuracy                           0.82      3186\n",
      "   macro avg       0.82      0.82      0.82      3186\n",
      "weighted avg       0.82      0.82      0.82      3186\n",
      "\n"
     ]
    }
   ],
   "source": [
    "Target = ['No', 'Yes']\n",
    "print(classification_report(y_test, best_svc.predict(X_test), target_names=Target))"
   ]
  },
  {
   "cell_type": "markdown",
   "metadata": {},
   "source": [
    "### XGBoost"
   ]
  },
  {
   "cell_type": "markdown",
   "metadata": {},
   "source": [
    "**Train Score Report**"
   ]
  },
  {
   "cell_type": "code",
   "execution_count": 92,
   "metadata": {},
   "outputs": [
    {
     "name": "stdout",
     "output_type": "stream",
     "text": [
      "              precision    recall  f1-score   support\n",
      "\n",
      "          No       0.96      0.94      0.95      6370\n",
      "         Yes       0.94      0.96      0.95      6370\n",
      "\n",
      "    accuracy                           0.95     12740\n",
      "   macro avg       0.95      0.95      0.95     12740\n",
      "weighted avg       0.95      0.95      0.95     12740\n",
      "\n"
     ]
    }
   ],
   "source": [
    "Target = ['No', 'Yes']\n",
    "print(classification_report(y_train, best_xgb.predict(X_train), target_names=Target))"
   ]
  },
  {
   "cell_type": "markdown",
   "metadata": {},
   "source": [
    "**Test Score Report**"
   ]
  },
  {
   "cell_type": "code",
   "execution_count": 93,
   "metadata": {},
   "outputs": [
    {
     "name": "stdout",
     "output_type": "stream",
     "text": [
      "              precision    recall  f1-score   support\n",
      "\n",
      "          No       0.91      0.86      0.89      1593\n",
      "         Yes       0.87      0.92      0.89      1593\n",
      "\n",
      "    accuracy                           0.89      3186\n",
      "   macro avg       0.89      0.89      0.89      3186\n",
      "weighted avg       0.89      0.89      0.89      3186\n",
      "\n"
     ]
    }
   ],
   "source": [
    "Target = ['No', 'Yes']\n",
    "print(classification_report(y_test, best_xgb.predict(X_test), target_names=Target))"
   ]
  },
  {
   "cell_type": "markdown",
   "metadata": {},
   "source": [
    "### Logistic Regression"
   ]
  },
  {
   "cell_type": "markdown",
   "metadata": {},
   "source": [
    "**Train Score Report**"
   ]
  },
  {
   "cell_type": "code",
   "execution_count": 94,
   "metadata": {},
   "outputs": [
    {
     "name": "stdout",
     "output_type": "stream",
     "text": [
      "              precision    recall  f1-score   support\n",
      "\n",
      "          No       0.70      0.72      0.71      6370\n",
      "         Yes       0.71      0.69      0.70      6370\n",
      "\n",
      "    accuracy                           0.70     12740\n",
      "   macro avg       0.70      0.70      0.70     12740\n",
      "weighted avg       0.70      0.70      0.70     12740\n",
      "\n"
     ]
    }
   ],
   "source": [
    "Target = ['No', 'Yes']\n",
    "print(classification_report(y_train, best_logreg.predict(X_train), target_names=Target))"
   ]
  },
  {
   "cell_type": "markdown",
   "metadata": {},
   "source": [
    "**Test Score Report**"
   ]
  },
  {
   "cell_type": "code",
   "execution_count": 95,
   "metadata": {},
   "outputs": [
    {
     "name": "stdout",
     "output_type": "stream",
     "text": [
      "              precision    recall  f1-score   support\n",
      "\n",
      "          No       0.71      0.71      0.71      1593\n",
      "         Yes       0.71      0.71      0.71      1593\n",
      "\n",
      "    accuracy                           0.71      3186\n",
      "   macro avg       0.71      0.71      0.71      3186\n",
      "weighted avg       0.71      0.71      0.71      3186\n",
      "\n"
     ]
    }
   ],
   "source": [
    "Target = ['No', 'Yes']\n",
    "print(classification_report(y_test, best_logreg.predict(X_test), target_names=Target))"
   ]
  },
  {
   "cell_type": "markdown",
   "metadata": {},
   "source": [
    "# Model Saving"
   ]
  },
  {
   "cell_type": "code",
   "execution_count": 96,
   "metadata": {},
   "outputs": [],
   "source": [
    "#Save the Files\n",
    "pickle.dump(best_logreg, open('model_logreg.pkl', 'wb'))\n",
    "pickle.dump(best_svc, open('model_svm.pkl', 'wb'))\n",
    "pickle.dump(best_dt, open('model_dt.pkl', 'wb'))\n",
    "pickle.dump(best_knn, open('model_knn.pkl', 'wb'))\n",
    "pickle.dump(best_rf, open('model_rf.pkl', 'wb'))\n",
    "pickle.dump(best_xgb, open('model_xgb.pkl', 'wb'))\n",
    "\n",
    "with open('list_num_cols.txt', 'w') as file_1:\n",
    "  json.dump(num_columns, file_1)\n",
    "\n",
    "with open('list_cat_cols.txt', 'w') as file_2:\n",
    "  json.dump(cat_columns, file_2)\n"
   ]
  },
  {
   "cell_type": "markdown",
   "metadata": {},
   "source": [
    "# Model Inference"
   ]
  },
  {
   "cell_type": "code",
   "execution_count": 102,
   "metadata": {},
   "outputs": [
    {
     "data": {
      "text/html": [
       "<div>\n",
       "<style scoped>\n",
       "    .dataframe tbody tr th:only-of-type {\n",
       "        vertical-align: middle;\n",
       "    }\n",
       "\n",
       "    .dataframe tbody tr th {\n",
       "        vertical-align: top;\n",
       "    }\n",
       "\n",
       "    .dataframe thead th {\n",
       "        text-align: right;\n",
       "    }\n",
       "</style>\n",
       "<table border=\"1\" class=\"dataframe\">\n",
       "  <thead>\n",
       "    <tr style=\"text-align: right;\">\n",
       "      <th></th>\n",
       "      <th>credit_score</th>\n",
       "      <th>geography</th>\n",
       "      <th>gender</th>\n",
       "      <th>age</th>\n",
       "      <th>tenure</th>\n",
       "      <th>balance</th>\n",
       "      <th>num_of_products</th>\n",
       "      <th>has_credit_card</th>\n",
       "      <th>active_member</th>\n",
       "      <th>estimated_salary</th>\n",
       "    </tr>\n",
       "  </thead>\n",
       "  <tbody>\n",
       "    <tr>\n",
       "      <th>0</th>\n",
       "      <td>850</td>\n",
       "      <td>Spain</td>\n",
       "      <td>Female</td>\n",
       "      <td>18</td>\n",
       "      <td>8</td>\n",
       "      <td>159660.8</td>\n",
       "      <td>1</td>\n",
       "      <td>no</td>\n",
       "      <td>no</td>\n",
       "      <td>93826.63</td>\n",
       "    </tr>\n",
       "  </tbody>\n",
       "</table>\n",
       "</div>"
      ],
      "text/plain": [
       "   credit_score geography  gender  age  tenure   balance  num_of_products  \\\n",
       "0           850     Spain  Female   18       8  159660.8                1   \n",
       "\n",
       "  has_credit_card active_member  estimated_salary  \n",
       "0              no            no          93826.63  "
      ]
     },
     "execution_count": 102,
     "metadata": {},
     "output_type": "execute_result"
    }
   ],
   "source": [
    "# Memanggil file yang akan digunakan di dalam model inference\n",
    "with open('list_num_cols.txt', 'r') as f1:\n",
    "  list_num_cols = json.load(f1)\n",
    "\n",
    "with open('list_cat_cols.txt', 'r') as f2:\n",
    "  list_cat_cols = json.load(f2)\n",
    "\n",
    "with open(\"model_knn.pkl\", \"rb\") as f3:\n",
    "  model_knn = pickle.load(f3)\n",
    "\n",
    "# Mendefinisikan data inference dan dibuat kedalam dataframe\n",
    "data_inf = pd.DataFrame({\n",
    "  'credit_score': [850], \n",
    "  'geography': ['Spain'], \n",
    "  'gender' : ['Female'], \n",
    "  'age' : [18], \n",
    "  'tenure' : [8], \n",
    "  'balance': [159660.80],\n",
    "  'num_of_products' : [1], \n",
    "  'has_credit_card' : ['no'], \n",
    "  'active_member' : ['no'], \n",
    "  'estimated_salary': [93826.63]\n",
    "})\n",
    "\n",
    "# Menampilkan data inference yang telah dibuat\n",
    "data_inf"
   ]
  },
  {
   "cell_type": "code",
   "execution_count": 104,
   "metadata": {},
   "outputs": [
    {
     "name": "stdout",
     "output_type": "stream",
     "text": [
      "Predicted class: [0]\n"
     ]
    },
    {
     "data": {
      "text/html": [
       "<div>\n",
       "<style scoped>\n",
       "    .dataframe tbody tr th:only-of-type {\n",
       "        vertical-align: middle;\n",
       "    }\n",
       "\n",
       "    .dataframe tbody tr th {\n",
       "        vertical-align: top;\n",
       "    }\n",
       "\n",
       "    .dataframe thead th {\n",
       "        text-align: right;\n",
       "    }\n",
       "</style>\n",
       "<table border=\"1\" class=\"dataframe\">\n",
       "  <thead>\n",
       "    <tr style=\"text-align: right;\">\n",
       "      <th></th>\n",
       "      <th>credit_score</th>\n",
       "      <th>geography</th>\n",
       "      <th>gender</th>\n",
       "      <th>age</th>\n",
       "      <th>tenure</th>\n",
       "      <th>balance</th>\n",
       "      <th>num_of_products</th>\n",
       "      <th>has_credit_card</th>\n",
       "      <th>active_member</th>\n",
       "      <th>estimated_salary</th>\n",
       "      <th>Prediction</th>\n",
       "    </tr>\n",
       "  </thead>\n",
       "  <tbody>\n",
       "    <tr>\n",
       "      <th>0</th>\n",
       "      <td>850</td>\n",
       "      <td>Spain</td>\n",
       "      <td>Female</td>\n",
       "      <td>18</td>\n",
       "      <td>8</td>\n",
       "      <td>159660.8</td>\n",
       "      <td>1</td>\n",
       "      <td>no</td>\n",
       "      <td>no</td>\n",
       "      <td>93826.63</td>\n",
       "      <td>0</td>\n",
       "    </tr>\n",
       "  </tbody>\n",
       "</table>\n",
       "</div>"
      ],
      "text/plain": [
       "   credit_score geography  gender  age  tenure   balance  num_of_products  \\\n",
       "0           850     Spain  Female   18       8  159660.8                1   \n",
       "\n",
       "  has_credit_card active_member  estimated_salary  Prediction  \n",
       "0              no            no          93826.63           0  "
      ]
     },
     "execution_count": 104,
     "metadata": {},
     "output_type": "execute_result"
    }
   ],
   "source": [
    "# Make predictions\n",
    "y_pred_inf = model_knn.predict(data_inf).astype(int)\n",
    "print(\"Predicted class:\", y_pred_inf)\n",
    "\n",
    "data_inf['Prediction'] = y_pred_inf\n",
    "# menampilkan data inference yang telah diprediksi\n",
    "data_inf"
   ]
  }
 ],
 "metadata": {
  "kernelspec": {
   "display_name": "Python 3",
   "language": "python",
   "name": "python3"
  },
  "language_info": {
   "codemirror_mode": {
    "name": "ipython",
    "version": 3
   },
   "file_extension": ".py",
   "mimetype": "text/x-python",
   "name": "python",
   "nbconvert_exporter": "python",
   "pygments_lexer": "ipython3",
   "version": "3.11.7"
  }
 },
 "nbformat": 4,
 "nbformat_minor": 2
}
