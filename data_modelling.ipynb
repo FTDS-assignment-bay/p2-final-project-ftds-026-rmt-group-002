{
 "cells": [
  {
   "cell_type": "code",
   "execution_count": 53,
   "metadata": {},
   "outputs": [],
   "source": [
    "import pandas as pd\n",
    "import warnings \n",
    "warnings.filterwarnings('ignore')\n",
    "import seaborn as sns\n",
    "import matplotlib.pyplot as plt \n",
    "import numpy as np \n",
    "\n",
    "from sklearn.model_selection import train_test_split\n",
    "from feature_engine.outliers import Winsorizer\n",
    "from sklearn.pipeline import make_pipeline\n",
    "from sklearn.compose import ColumnTransformer\n",
    "from sklearn.impute import SimpleImputer\n",
    "from sklearn.preprocessing import StandardScaler, OneHotEncoder\n",
    "from scipy.stats import kendalltau, pearsonr, spearmanr\n",
    "from sklearn.pipeline import Pipeline\n",
    "from sklearn.linear_model import LogisticRegression\n",
    "from sklearn.neighbors import KNeighborsClassifier\n",
    "from sklearn.svm import SVC\n",
    "from sklearn.tree import DecisionTreeClassifier\n",
    "from sklearn.ensemble import RandomForestClassifier\n",
    "from sklearn.metrics import classification_report, accuracy_score, f1_score, make_scorer\n",
    "from sklearn.model_selection import GridSearchCV, cross_val_score, StratifiedKFold\n",
    "from sklearn.linear_model import LinearRegression\n",
    "from sklearn.preprocessing import RobustScaler\n",
    "from sklearn.metrics import mean_absolute_error, mean_squared_error, r2_score\n",
    "import pickle\n",
    "import json"
   ]
  },
  {
   "cell_type": "code",
   "execution_count": 2,
   "metadata": {},
   "outputs": [
    {
     "data": {
      "text/html": [
       "<div>\n",
       "<style scoped>\n",
       "    .dataframe tbody tr th:only-of-type {\n",
       "        vertical-align: middle;\n",
       "    }\n",
       "\n",
       "    .dataframe tbody tr th {\n",
       "        vertical-align: top;\n",
       "    }\n",
       "\n",
       "    .dataframe thead th {\n",
       "        text-align: right;\n",
       "    }\n",
       "</style>\n",
       "<table border=\"1\" class=\"dataframe\">\n",
       "  <thead>\n",
       "    <tr style=\"text-align: right;\">\n",
       "      <th></th>\n",
       "      <th>customer_id</th>\n",
       "      <th>product_category</th>\n",
       "      <th>product_price</th>\n",
       "      <th>quantity</th>\n",
       "      <th>total_purchase_amount</th>\n",
       "      <th>payment_method</th>\n",
       "      <th>customer_age</th>\n",
       "      <th>returns</th>\n",
       "      <th>customer_name</th>\n",
       "      <th>age</th>\n",
       "      <th>gender</th>\n",
       "      <th>churn</th>\n",
       "      <th>date_of_purchase</th>\n",
       "      <th>time_of_purchase</th>\n",
       "    </tr>\n",
       "  </thead>\n",
       "  <tbody>\n",
       "    <tr>\n",
       "      <th>0</th>\n",
       "      <td>30426</td>\n",
       "      <td>Books</td>\n",
       "      <td>399</td>\n",
       "      <td>1</td>\n",
       "      <td>4068</td>\n",
       "      <td>Credit Card</td>\n",
       "      <td>61</td>\n",
       "      <td>1.0</td>\n",
       "      <td>Aaron Alexander</td>\n",
       "      <td>61</td>\n",
       "      <td>Female</td>\n",
       "      <td>1</td>\n",
       "      <td>2020-10-12</td>\n",
       "      <td>22:26:27</td>\n",
       "    </tr>\n",
       "    <tr>\n",
       "      <th>1</th>\n",
       "      <td>10025</td>\n",
       "      <td>Home</td>\n",
       "      <td>66</td>\n",
       "      <td>1</td>\n",
       "      <td>1550</td>\n",
       "      <td>Credit Card</td>\n",
       "      <td>69</td>\n",
       "      <td>0.0</td>\n",
       "      <td>Aaron Bradley</td>\n",
       "      <td>69</td>\n",
       "      <td>Male</td>\n",
       "      <td>1</td>\n",
       "      <td>2021-03-17</td>\n",
       "      <td>16:36:31</td>\n",
       "    </tr>\n",
       "    <tr>\n",
       "      <th>2</th>\n",
       "      <td>4951</td>\n",
       "      <td>Clothing</td>\n",
       "      <td>210</td>\n",
       "      <td>4</td>\n",
       "      <td>4876</td>\n",
       "      <td>Cash</td>\n",
       "      <td>24</td>\n",
       "      <td>0.0</td>\n",
       "      <td>Aaron Carroll</td>\n",
       "      <td>24</td>\n",
       "      <td>Female</td>\n",
       "      <td>1</td>\n",
       "      <td>2021-06-30</td>\n",
       "      <td>02:56:03</td>\n",
       "    </tr>\n",
       "    <tr>\n",
       "      <th>3</th>\n",
       "      <td>41135</td>\n",
       "      <td>Clothing</td>\n",
       "      <td>54</td>\n",
       "      <td>4</td>\n",
       "      <td>2044</td>\n",
       "      <td>Cash</td>\n",
       "      <td>44</td>\n",
       "      <td>1.0</td>\n",
       "      <td>Aaron David</td>\n",
       "      <td>44</td>\n",
       "      <td>Female</td>\n",
       "      <td>1</td>\n",
       "      <td>2022-01-06</td>\n",
       "      <td>04:24:26</td>\n",
       "    </tr>\n",
       "    <tr>\n",
       "      <th>4</th>\n",
       "      <td>17580</td>\n",
       "      <td>Home</td>\n",
       "      <td>470</td>\n",
       "      <td>3</td>\n",
       "      <td>4705</td>\n",
       "      <td>Cash</td>\n",
       "      <td>67</td>\n",
       "      <td>1.0</td>\n",
       "      <td>Aaron Drake</td>\n",
       "      <td>67</td>\n",
       "      <td>Male</td>\n",
       "      <td>1</td>\n",
       "      <td>2022-05-18</td>\n",
       "      <td>21:46:44</td>\n",
       "    </tr>\n",
       "  </tbody>\n",
       "</table>\n",
       "</div>"
      ],
      "text/plain": [
       "   customer_id product_category  product_price  quantity  \\\n",
       "0        30426            Books            399         1   \n",
       "1        10025             Home             66         1   \n",
       "2         4951         Clothing            210         4   \n",
       "3        41135         Clothing             54         4   \n",
       "4        17580             Home            470         3   \n",
       "\n",
       "   total_purchase_amount payment_method  customer_age  returns  \\\n",
       "0                   4068    Credit Card            61      1.0   \n",
       "1                   1550    Credit Card            69      0.0   \n",
       "2                   4876           Cash            24      0.0   \n",
       "3                   2044           Cash            44      1.0   \n",
       "4                   4705           Cash            67      1.0   \n",
       "\n",
       "     customer_name  age  gender  churn date_of_purchase time_of_purchase  \n",
       "0  Aaron Alexander   61  Female      1       2020-10-12         22:26:27  \n",
       "1    Aaron Bradley   69    Male      1       2021-03-17         16:36:31  \n",
       "2    Aaron Carroll   24  Female      1       2021-06-30         02:56:03  \n",
       "3      Aaron David   44  Female      1       2022-01-06         04:24:26  \n",
       "4      Aaron Drake   67    Male      1       2022-05-18         21:46:44  "
      ]
     },
     "execution_count": 2,
     "metadata": {},
     "output_type": "execute_result"
    }
   ],
   "source": [
    "df = pd.read_csv('data_clean_final.csv')\n",
    "df.head()"
   ]
  },
  {
   "cell_type": "code",
   "execution_count": 3,
   "metadata": {},
   "outputs": [
    {
     "data": {
      "text/html": [
       "<div>\n",
       "<style scoped>\n",
       "    .dataframe tbody tr th:only-of-type {\n",
       "        vertical-align: middle;\n",
       "    }\n",
       "\n",
       "    .dataframe tbody tr th {\n",
       "        vertical-align: top;\n",
       "    }\n",
       "\n",
       "    .dataframe thead th {\n",
       "        text-align: right;\n",
       "    }\n",
       "</style>\n",
       "<table border=\"1\" class=\"dataframe\">\n",
       "  <thead>\n",
       "    <tr style=\"text-align: right;\">\n",
       "      <th></th>\n",
       "      <th>customer_id</th>\n",
       "      <th>product_category</th>\n",
       "      <th>product_price</th>\n",
       "      <th>quantity</th>\n",
       "      <th>total_purchase_amount</th>\n",
       "      <th>payment_method</th>\n",
       "      <th>customer_age</th>\n",
       "      <th>returns</th>\n",
       "      <th>customer_name</th>\n",
       "      <th>age</th>\n",
       "      <th>gender</th>\n",
       "      <th>churn</th>\n",
       "      <th>date_of_purchase</th>\n",
       "      <th>time_of_purchase</th>\n",
       "    </tr>\n",
       "  </thead>\n",
       "  <tbody>\n",
       "    <tr>\n",
       "      <th>12917</th>\n",
       "      <td>31353</td>\n",
       "      <td>Books</td>\n",
       "      <td>389</td>\n",
       "      <td>1</td>\n",
       "      <td>5064</td>\n",
       "      <td>Crypto</td>\n",
       "      <td>19</td>\n",
       "      <td>0.0</td>\n",
       "      <td>Melanie Herrera</td>\n",
       "      <td>19</td>\n",
       "      <td>Male</td>\n",
       "      <td>0</td>\n",
       "      <td>2022-12-22</td>\n",
       "      <td>14:31:05</td>\n",
       "    </tr>\n",
       "    <tr>\n",
       "      <th>12918</th>\n",
       "      <td>29945</td>\n",
       "      <td>Clothing</td>\n",
       "      <td>324</td>\n",
       "      <td>2</td>\n",
       "      <td>2016</td>\n",
       "      <td>Credit Card</td>\n",
       "      <td>41</td>\n",
       "      <td>0.0</td>\n",
       "      <td>Anita Fowler</td>\n",
       "      <td>41</td>\n",
       "      <td>Female</td>\n",
       "      <td>0</td>\n",
       "      <td>2020-10-13</td>\n",
       "      <td>18:58:45</td>\n",
       "    </tr>\n",
       "    <tr>\n",
       "      <th>12919</th>\n",
       "      <td>16656</td>\n",
       "      <td>Clothing</td>\n",
       "      <td>417</td>\n",
       "      <td>3</td>\n",
       "      <td>981</td>\n",
       "      <td>PayPal</td>\n",
       "      <td>47</td>\n",
       "      <td>0.0</td>\n",
       "      <td>Margaret Cunningham</td>\n",
       "      <td>47</td>\n",
       "      <td>Female</td>\n",
       "      <td>0</td>\n",
       "      <td>2020-05-10</td>\n",
       "      <td>07:47:06</td>\n",
       "    </tr>\n",
       "    <tr>\n",
       "      <th>12920</th>\n",
       "      <td>8804</td>\n",
       "      <td>Books</td>\n",
       "      <td>220</td>\n",
       "      <td>1</td>\n",
       "      <td>195</td>\n",
       "      <td>Cash</td>\n",
       "      <td>23</td>\n",
       "      <td>0.0</td>\n",
       "      <td>Gregory Small</td>\n",
       "      <td>23</td>\n",
       "      <td>Male</td>\n",
       "      <td>0</td>\n",
       "      <td>2023-01-09</td>\n",
       "      <td>12:00:52</td>\n",
       "    </tr>\n",
       "    <tr>\n",
       "      <th>12921</th>\n",
       "      <td>23414</td>\n",
       "      <td>Home</td>\n",
       "      <td>172</td>\n",
       "      <td>4</td>\n",
       "      <td>2655</td>\n",
       "      <td>Credit Card</td>\n",
       "      <td>29</td>\n",
       "      <td>1.0</td>\n",
       "      <td>Sharon Reyes</td>\n",
       "      <td>29</td>\n",
       "      <td>Female</td>\n",
       "      <td>0</td>\n",
       "      <td>2023-08-10</td>\n",
       "      <td>11:36:37</td>\n",
       "    </tr>\n",
       "  </tbody>\n",
       "</table>\n",
       "</div>"
      ],
      "text/plain": [
       "       customer_id product_category  product_price  quantity  \\\n",
       "12917        31353            Books            389         1   \n",
       "12918        29945         Clothing            324         2   \n",
       "12919        16656         Clothing            417         3   \n",
       "12920         8804            Books            220         1   \n",
       "12921        23414             Home            172         4   \n",
       "\n",
       "       total_purchase_amount payment_method  customer_age  returns  \\\n",
       "12917                   5064         Crypto            19      0.0   \n",
       "12918                   2016    Credit Card            41      0.0   \n",
       "12919                    981         PayPal            47      0.0   \n",
       "12920                    195           Cash            23      0.0   \n",
       "12921                   2655    Credit Card            29      1.0   \n",
       "\n",
       "             customer_name  age  gender  churn date_of_purchase  \\\n",
       "12917      Melanie Herrera   19    Male      0       2022-12-22   \n",
       "12918         Anita Fowler   41  Female      0       2020-10-13   \n",
       "12919  Margaret Cunningham   47  Female      0       2020-05-10   \n",
       "12920        Gregory Small   23    Male      0       2023-01-09   \n",
       "12921         Sharon Reyes   29  Female      0       2023-08-10   \n",
       "\n",
       "      time_of_purchase  \n",
       "12917         14:31:05  \n",
       "12918         18:58:45  \n",
       "12919         07:47:06  \n",
       "12920         12:00:52  \n",
       "12921         11:36:37  "
      ]
     },
     "execution_count": 3,
     "metadata": {},
     "output_type": "execute_result"
    }
   ],
   "source": [
    "df.tail()"
   ]
  },
  {
   "cell_type": "code",
   "execution_count": 4,
   "metadata": {},
   "outputs": [
    {
     "name": "stdout",
     "output_type": "stream",
     "text": [
      "<class 'pandas.core.frame.DataFrame'>\n",
      "RangeIndex: 12922 entries, 0 to 12921\n",
      "Data columns (total 14 columns):\n",
      " #   Column                 Non-Null Count  Dtype  \n",
      "---  ------                 --------------  -----  \n",
      " 0   customer_id            12922 non-null  int64  \n",
      " 1   product_category       12922 non-null  object \n",
      " 2   product_price          12922 non-null  int64  \n",
      " 3   quantity               12922 non-null  int64  \n",
      " 4   total_purchase_amount  12922 non-null  int64  \n",
      " 5   payment_method         12922 non-null  object \n",
      " 6   customer_age           12922 non-null  int64  \n",
      " 7   returns                12922 non-null  float64\n",
      " 8   customer_name          12922 non-null  object \n",
      " 9   age                    12922 non-null  int64  \n",
      " 10  gender                 12922 non-null  object \n",
      " 11  churn                  12922 non-null  int64  \n",
      " 12  date_of_purchase       12922 non-null  object \n",
      " 13  time_of_purchase       12922 non-null  object \n",
      "dtypes: float64(1), int64(7), object(6)\n",
      "memory usage: 1.4+ MB\n"
     ]
    }
   ],
   "source": [
    "df.info()"
   ]
  },
  {
   "cell_type": "code",
   "execution_count": 5,
   "metadata": {},
   "outputs": [],
   "source": [
    "df[['date_of_purchase', 'time_of_purchase']] = df[['date_of_purchase', 'time_of_purchase']].apply(pd.to_datetime)"
   ]
  },
  {
   "cell_type": "code",
   "execution_count": 6,
   "metadata": {},
   "outputs": [
    {
     "name": "stdout",
     "output_type": "stream",
     "text": [
      "<class 'pandas.core.frame.DataFrame'>\n",
      "RangeIndex: 12922 entries, 0 to 12921\n",
      "Data columns (total 14 columns):\n",
      " #   Column                 Non-Null Count  Dtype         \n",
      "---  ------                 --------------  -----         \n",
      " 0   customer_id            12922 non-null  int64         \n",
      " 1   product_category       12922 non-null  object        \n",
      " 2   product_price          12922 non-null  int64         \n",
      " 3   quantity               12922 non-null  int64         \n",
      " 4   total_purchase_amount  12922 non-null  int64         \n",
      " 5   payment_method         12922 non-null  object        \n",
      " 6   customer_age           12922 non-null  int64         \n",
      " 7   returns                12922 non-null  float64       \n",
      " 8   customer_name          12922 non-null  object        \n",
      " 9   age                    12922 non-null  int64         \n",
      " 10  gender                 12922 non-null  object        \n",
      " 11  churn                  12922 non-null  int64         \n",
      " 12  date_of_purchase       12922 non-null  datetime64[ns]\n",
      " 13  time_of_purchase       12922 non-null  datetime64[ns]\n",
      "dtypes: datetime64[ns](2), float64(1), int64(7), object(4)\n",
      "memory usage: 1.4+ MB\n"
     ]
    }
   ],
   "source": [
    "df.info()"
   ]
  },
  {
   "cell_type": "code",
   "execution_count": 7,
   "metadata": {},
   "outputs": [
    {
     "name": "stdout",
     "output_type": "stream",
     "text": [
      "Jumlah data yang terduplikat: 770\n"
     ]
    }
   ],
   "source": [
    "# cek duplikat data\n",
    "print('Jumlah data yang terduplikat:', df.duplicated().sum())"
   ]
  },
  {
   "cell_type": "code",
   "execution_count": 8,
   "metadata": {},
   "outputs": [],
   "source": [
    "# remove data duplikat\n",
    "df.drop_duplicates(inplace = True)"
   ]
  },
  {
   "cell_type": "code",
   "execution_count": 9,
   "metadata": {},
   "outputs": [
    {
     "name": "stdout",
     "output_type": "stream",
     "text": [
      "Jumlah duplikat data setelah di remove: 0\n",
      "Jumlah data setelah remove duplikat: 12152\n"
     ]
    }
   ],
   "source": [
    "# cek duplikat data setelah di remove\n",
    "print('Jumlah duplikat data setelah di remove:', df.duplicated().sum())\n",
    "print('Jumlah data setelah remove duplikat:', len(df))"
   ]
  },
  {
   "cell_type": "code",
   "execution_count": 10,
   "metadata": {},
   "outputs": [
    {
     "data": {
      "text/plain": [
       "customer_id              0\n",
       "product_category         0\n",
       "product_price            0\n",
       "quantity                 0\n",
       "total_purchase_amount    0\n",
       "payment_method           0\n",
       "customer_age             0\n",
       "returns                  0\n",
       "customer_name            0\n",
       "age                      0\n",
       "gender                   0\n",
       "churn                    0\n",
       "date_of_purchase         0\n",
       "time_of_purchase         0\n",
       "dtype: int64"
      ]
     },
     "execution_count": 10,
     "metadata": {},
     "output_type": "execute_result"
    }
   ],
   "source": [
    "# cek missing value\n",
    "df.isnull().sum()"
   ]
  },
  {
   "cell_type": "code",
   "execution_count": 11,
   "metadata": {},
   "outputs": [
    {
     "data": {
      "image/png": "[encoded data removed]",
      "text/plain": [
       "<Figure size 640x480 with 2 Axes>"
      ]
     },
     "metadata": {},
     "output_type": "display_data"
    }
   ],
   "source": [
    "# list kolom yang akan diuji korelasinya\n",
    "cols = ['product_price', 'quantity','total_purchase_amount', 'customer_age', 'age','date_of_purchase','time_of_purchase','churn']\n",
    "# plot korelasi setiap variable menggunakan heatmap\n",
    "sns.heatmap(df[cols].corr(), annot = True, fmt=\".2f\", linewidths=0.5)\n",
    "# Memberikan judul\n",
    "plt.title('Correlation Matrix')\n",
    "# menampilkan correlation matrix\n",
    "plt.show()"
   ]
  },
  {
   "cell_type": "markdown",
   "metadata": {},
   "source": [
    "# Feature Engineering"
   ]
  },
  {
   "cell_type": "code",
   "execution_count": 12,
   "metadata": {},
   "outputs": [
    {
     "data": {
      "text/html": [
       "<div>\n",
       "<style scoped>\n",
       "    .dataframe tbody tr th:only-of-type {\n",
       "        vertical-align: middle;\n",
       "    }\n",
       "\n",
       "    .dataframe tbody tr th {\n",
       "        vertical-align: top;\n",
       "    }\n",
       "\n",
       "    .dataframe thead th {\n",
       "        text-align: right;\n",
       "    }\n",
       "</style>\n",
       "<table border=\"1\" class=\"dataframe\">\n",
       "  <thead>\n",
       "    <tr style=\"text-align: right;\">\n",
       "      <th></th>\n",
       "      <th>Nama Kolom</th>\n",
       "      <th>Jumlah Nilai Unique</th>\n",
       "      <th>Nilai Unique</th>\n",
       "    </tr>\n",
       "  </thead>\n",
       "  <tbody>\n",
       "    <tr>\n",
       "      <th>0</th>\n",
       "      <td>product_category</td>\n",
       "      <td>4</td>\n",
       "      <td>[Books, Home, Clothing, Electronics]</td>\n",
       "    </tr>\n",
       "    <tr>\n",
       "      <th>1</th>\n",
       "      <td>payment_method</td>\n",
       "      <td>4</td>\n",
       "      <td>[Credit Card, Cash, Crypto, PayPal]</td>\n",
       "    </tr>\n",
       "    <tr>\n",
       "      <th>2</th>\n",
       "      <td>customer_name</td>\n",
       "      <td>12152</td>\n",
       "      <td>[Aaron Alexander, Aaron Bradley, Aaron Carroll...</td>\n",
       "    </tr>\n",
       "    <tr>\n",
       "      <th>3</th>\n",
       "      <td>gender</td>\n",
       "      <td>2</td>\n",
       "      <td>[Female, Male]</td>\n",
       "    </tr>\n",
       "  </tbody>\n",
       "</table>\n",
       "</div>"
      ],
      "text/plain": [
       "         Nama Kolom  Jumlah Nilai Unique  \\\n",
       "0  product_category                    4   \n",
       "1    payment_method                    4   \n",
       "2     customer_name                12152   \n",
       "3            gender                    2   \n",
       "\n",
       "                                        Nilai Unique  \n",
       "0               [Books, Home, Clothing, Electronics]  \n",
       "1                [Credit Card, Cash, Crypto, PayPal]  \n",
       "2  [Aaron Alexander, Aaron Bradley, Aaron Carroll...  \n",
       "3                                     [Female, Male]  "
      ]
     },
     "execution_count": 12,
     "metadata": {},
     "output_type": "execute_result"
    }
   ],
   "source": [
    "# mendefinisikan kolom yang masuk ke tipe data kategorik dan dijadikan sebagai list\n",
    "cat_cols = list(df.select_dtypes(include='object').columns)\n",
    "\n",
    "# membuat list kosong listItem\n",
    "listItem = []\n",
    "# membuat forloop untuk kolom yang berada di dalam cat_cols\n",
    "for col in cat_cols:\n",
    "  # memasukkan nama kolom dan jumlah nilai unique pada list\n",
    "  listItem.append([col, df[col].nunique(), df[col].unique()])\n",
    "\n",
    "# membuat dataframe dari listItem\n",
    "pd.DataFrame(columns=['Nama Kolom', 'Jumlah Nilai Unique', 'Nilai Unique'], data=listItem)"
   ]
  },
  {
   "cell_type": "markdown",
   "metadata": {},
   "source": [
    "customer_name perlu di drop"
   ]
  },
  {
   "cell_type": "code",
   "execution_count": 13,
   "metadata": {},
   "outputs": [
    {
     "data": {
      "text/plain": [
       "churn\n",
       "1    6461\n",
       "0    5691\n",
       "Name: count, dtype: int64"
      ]
     },
     "execution_count": 13,
     "metadata": {},
     "output_type": "execute_result"
    }
   ],
   "source": [
    "# Cek apakah target balance atau tidak\n",
    "df['churn'].value_counts()"
   ]
  },
  {
   "cell_type": "code",
   "execution_count": 14,
   "metadata": {},
   "outputs": [],
   "source": [
    "#memisahkan antara fitur x dan y\n",
    "X = df.drop(['churn'], axis = 1)\n",
    "y = df['churn']"
   ]
  },
  {
   "cell_type": "code",
   "execution_count": 15,
   "metadata": {},
   "outputs": [
    {
     "name": "stdout",
     "output_type": "stream",
     "text": [
      "X_train:(8506, 13)\n",
      "X_test:(1823, 13)\n",
      "X_val:(1823, 13)\n",
      "\n",
      "y_train:(8506,)\n",
      "y_test:(1823,)\n",
      "y_val:(1823,)\n"
     ]
    }
   ],
   "source": [
    "# split data menjadi train set, val set, dan test set\n",
    "X_train,X_test1,y_train,y_test1 = train_test_split(X,y,test_size=0.3,shuffle=True,random_state=64,stratify=y)\n",
    "X_val, X_test, y_val, y_test  = train_test_split(X_test1,y_test1,test_size=0.5,shuffle=True,random_state=64)\n",
    "\n",
    "print(f'X_train:{X_train.shape}')\n",
    "print(f'X_test:{X_test.shape}')\n",
    "print(f'X_val:{X_val.shape}')\n",
    "print('')\n",
    "print(f'y_train:{y_train.shape}')\n",
    "print(f'y_test:{y_test.shape}')\n",
    "print(f'y_val:{y_val.shape}')"
   ]
  },
  {
   "cell_type": "markdown",
   "metadata": {},
   "source": [
    "# Handling Outliers"
   ]
  },
  {
   "cell_type": "code",
   "execution_count": 16,
   "metadata": {},
   "outputs": [
    {
     "name": "stdout",
     "output_type": "stream",
     "text": [
      "Column customer_id outliers = 0.00%\n",
      "Column product_price outliers = 0.00%\n",
      "Column quantity outliers = 0.00%\n",
      "Column total_purchase_amount outliers = 0.00%\n",
      "Column customer_age outliers = 0.00%\n",
      "Column returns outliers = 0.00%\n",
      "Column age outliers = 0.00%\n"
     ]
    }
   ],
   "source": [
    "# Mendefinisikan kolom numerik dari X_train\n",
    "num_train = X_train._get_numeric_data()\n",
    "# Looping key dataframe k nama kolom dan v data numerik dari kolom\n",
    "for k, v in num_train.items():\n",
    "  # kuantil ke-1\n",
    "  q1 = v.quantile(0.25)\n",
    "  # kuantil ke-3\n",
    "  q3 = v.quantile(0.75)\n",
    "  # Rentang interkuantil dari kolom v\n",
    "  iqr = q3 - q1\n",
    "  # Mendefinisikan kolom v untuk nilai di luar batas atas dan batas bawah\n",
    "  v_col = v[(v <= q1 - 1.5 * iqr) | (v >= q3 + 1.5 * iqr)]\n",
    "  # Persentase jumlah outlier dalam kolom v terhadap jumlah total baris dalam DataFrame\n",
    "  perc = np.shape(v_col)[0] * 100.0 / np.shape(num_train)[0]\n",
    "  # Menampilkan nilai outliers\n",
    "  print(\"Column %s outliers = %.2f%%\" % (k, perc))"
   ]
  },
  {
   "cell_type": "markdown",
   "metadata": {},
   "source": [
    "# Handling Missing Value"
   ]
  },
  {
   "cell_type": "code",
   "execution_count": 17,
   "metadata": {},
   "outputs": [
    {
     "data": {
      "text/plain": [
       "customer_id              0\n",
       "product_category         0\n",
       "product_price            0\n",
       "quantity                 0\n",
       "total_purchase_amount    0\n",
       "payment_method           0\n",
       "customer_age             0\n",
       "returns                  0\n",
       "customer_name            0\n",
       "age                      0\n",
       "gender                   0\n",
       "date_of_purchase         0\n",
       "time_of_purchase         0\n",
       "dtype: int64"
      ]
     },
     "execution_count": 17,
     "metadata": {},
     "output_type": "execute_result"
    }
   ],
   "source": [
    "X_train.isnull().sum()"
   ]
  },
  {
   "cell_type": "code",
   "execution_count": 18,
   "metadata": {},
   "outputs": [
    {
     "data": {
      "text/plain": [
       "customer_id              0\n",
       "product_category         0\n",
       "product_price            0\n",
       "quantity                 0\n",
       "total_purchase_amount    0\n",
       "payment_method           0\n",
       "customer_age             0\n",
       "returns                  0\n",
       "customer_name            0\n",
       "age                      0\n",
       "gender                   0\n",
       "date_of_purchase         0\n",
       "time_of_purchase         0\n",
       "dtype: int64"
      ]
     },
     "execution_count": 18,
     "metadata": {},
     "output_type": "execute_result"
    }
   ],
   "source": [
    "X_val.isnull().sum()"
   ]
  },
  {
   "cell_type": "code",
   "execution_count": 19,
   "metadata": {},
   "outputs": [
    {
     "data": {
      "text/plain": [
       "customer_id              0\n",
       "product_category         0\n",
       "product_price            0\n",
       "quantity                 0\n",
       "total_purchase_amount    0\n",
       "payment_method           0\n",
       "customer_age             0\n",
       "returns                  0\n",
       "customer_name            0\n",
       "age                      0\n",
       "gender                   0\n",
       "date_of_purchase         0\n",
       "time_of_purchase         0\n",
       "dtype: int64"
      ]
     },
     "execution_count": 19,
     "metadata": {},
     "output_type": "execute_result"
    }
   ],
   "source": [
    "X_test.isnull().sum()"
   ]
  },
  {
   "cell_type": "markdown",
   "metadata": {},
   "source": [
    "# Feature Selection"
   ]
  },
  {
   "cell_type": "code",
   "execution_count": 20,
   "metadata": {},
   "outputs": [],
   "source": [
    "# Drop Columns\n",
    "X_train.drop(['customer_id', 'customer_name', 'age'], axis=1, inplace=True)\n",
    "X_val.drop(['customer_id', 'customer_name', 'age'], axis=1, inplace=True)\n",
    "X_test.drop(['customer_id', 'customer_name', 'age'], axis=1, inplace=True)"
   ]
  },
  {
   "cell_type": "code",
   "execution_count": 21,
   "metadata": {},
   "outputs": [
    {
     "data": {
      "text/html": [
       "<div>\n",
       "<style scoped>\n",
       "    .dataframe tbody tr th:only-of-type {\n",
       "        vertical-align: middle;\n",
       "    }\n",
       "\n",
       "    .dataframe tbody tr th {\n",
       "        vertical-align: top;\n",
       "    }\n",
       "\n",
       "    .dataframe thead th {\n",
       "        text-align: right;\n",
       "    }\n",
       "</style>\n",
       "<table border=\"1\" class=\"dataframe\">\n",
       "  <thead>\n",
       "    <tr style=\"text-align: right;\">\n",
       "      <th></th>\n",
       "      <th>product_category</th>\n",
       "      <th>product_price</th>\n",
       "      <th>quantity</th>\n",
       "      <th>total_purchase_amount</th>\n",
       "      <th>payment_method</th>\n",
       "      <th>customer_age</th>\n",
       "      <th>returns</th>\n",
       "      <th>gender</th>\n",
       "      <th>date_of_purchase</th>\n",
       "      <th>time_of_purchase</th>\n",
       "    </tr>\n",
       "  </thead>\n",
       "  <tbody>\n",
       "    <tr>\n",
       "      <th>9950</th>\n",
       "      <td>Clothing</td>\n",
       "      <td>316</td>\n",
       "      <td>2</td>\n",
       "      <td>3315</td>\n",
       "      <td>Cash</td>\n",
       "      <td>34</td>\n",
       "      <td>1.0</td>\n",
       "      <td>Female</td>\n",
       "      <td>2023-02-11</td>\n",
       "      <td>2024-02-04 18:39:13</td>\n",
       "    </tr>\n",
       "    <tr>\n",
       "      <th>11156</th>\n",
       "      <td>Electronics</td>\n",
       "      <td>46</td>\n",
       "      <td>2</td>\n",
       "      <td>4067</td>\n",
       "      <td>Credit Card</td>\n",
       "      <td>66</td>\n",
       "      <td>1.0</td>\n",
       "      <td>Male</td>\n",
       "      <td>2021-08-05</td>\n",
       "      <td>2024-02-04 03:31:30</td>\n",
       "    </tr>\n",
       "    <tr>\n",
       "      <th>5727</th>\n",
       "      <td>Clothing</td>\n",
       "      <td>173</td>\n",
       "      <td>3</td>\n",
       "      <td>1742</td>\n",
       "      <td>PayPal</td>\n",
       "      <td>67</td>\n",
       "      <td>0.0</td>\n",
       "      <td>Female</td>\n",
       "      <td>2021-09-26</td>\n",
       "      <td>2024-02-04 21:53:48</td>\n",
       "    </tr>\n",
       "    <tr>\n",
       "      <th>4966</th>\n",
       "      <td>Clothing</td>\n",
       "      <td>257</td>\n",
       "      <td>4</td>\n",
       "      <td>4629</td>\n",
       "      <td>Credit Card</td>\n",
       "      <td>18</td>\n",
       "      <td>0.0</td>\n",
       "      <td>Female</td>\n",
       "      <td>2021-05-31</td>\n",
       "      <td>2024-02-04 00:03:40</td>\n",
       "    </tr>\n",
       "    <tr>\n",
       "      <th>1391</th>\n",
       "      <td>Electronics</td>\n",
       "      <td>54</td>\n",
       "      <td>1</td>\n",
       "      <td>4269</td>\n",
       "      <td>Credit Card</td>\n",
       "      <td>36</td>\n",
       "      <td>0.0</td>\n",
       "      <td>Male</td>\n",
       "      <td>2020-11-13</td>\n",
       "      <td>2024-02-04 13:20:34</td>\n",
       "    </tr>\n",
       "  </tbody>\n",
       "</table>\n",
       "</div>"
      ],
      "text/plain": [
       "      product_category  product_price  quantity  total_purchase_amount  \\\n",
       "9950          Clothing            316         2                   3315   \n",
       "11156      Electronics             46         2                   4067   \n",
       "5727          Clothing            173         3                   1742   \n",
       "4966          Clothing            257         4                   4629   \n",
       "1391       Electronics             54         1                   4269   \n",
       "\n",
       "      payment_method  customer_age  returns  gender date_of_purchase  \\\n",
       "9950            Cash            34      1.0  Female       2023-02-11   \n",
       "11156    Credit Card            66      1.0    Male       2021-08-05   \n",
       "5727          PayPal            67      0.0  Female       2021-09-26   \n",
       "4966     Credit Card            18      0.0  Female       2021-05-31   \n",
       "1391     Credit Card            36      0.0    Male       2020-11-13   \n",
       "\n",
       "         time_of_purchase  \n",
       "9950  2024-02-04 18:39:13  \n",
       "11156 2024-02-04 03:31:30  \n",
       "5727  2024-02-04 21:53:48  \n",
       "4966  2024-02-04 00:03:40  \n",
       "1391  2024-02-04 13:20:34  "
      ]
     },
     "execution_count": 21,
     "metadata": {},
     "output_type": "execute_result"
    }
   ],
   "source": [
    "X_train.head()"
   ]
  },
  {
   "cell_type": "code",
   "execution_count": 22,
   "metadata": {},
   "outputs": [
    {
     "name": "stdout",
     "output_type": "stream",
     "text": [
      "<class 'pandas.core.frame.DataFrame'>\n",
      "Index: 8506 entries, 9950 to 2399\n",
      "Data columns (total 10 columns):\n",
      " #   Column                 Non-Null Count  Dtype         \n",
      "---  ------                 --------------  -----         \n",
      " 0   product_category       8506 non-null   object        \n",
      " 1   product_price          8506 non-null   int64         \n",
      " 2   quantity               8506 non-null   int64         \n",
      " 3   total_purchase_amount  8506 non-null   int64         \n",
      " 4   payment_method         8506 non-null   object        \n",
      " 5   customer_age           8506 non-null   int64         \n",
      " 6   returns                8506 non-null   float64       \n",
      " 7   gender                 8506 non-null   object        \n",
      " 8   date_of_purchase       8506 non-null   datetime64[ns]\n",
      " 9   time_of_purchase       8506 non-null   datetime64[ns]\n",
      "dtypes: datetime64[ns](2), float64(1), int64(4), object(3)\n",
      "memory usage: 731.0+ KB\n"
     ]
    }
   ],
   "source": [
    "X_train.info()"
   ]
  },
  {
   "cell_type": "code",
   "execution_count": 23,
   "metadata": {},
   "outputs": [
    {
     "name": "stdout",
     "output_type": "stream",
     "text": [
      "Numeric Columns:  ['product_price', 'quantity', 'total_purchase_amount', 'customer_age', 'returns']\n",
      "Categorical Columns:  ['product_category', 'payment_method', 'gender']\n"
     ]
    }
   ],
   "source": [
    "# Mendefinisikan kolom data numerik dan data kategorik \n",
    "num_columns = X_train.select_dtypes(include=np.number).columns.tolist()\n",
    "# num_columns = ['product_price', 'quantity', 'total_purchase_amount', 'customer_age', 'returns', 'date_of_purchase', 'time_of_purchase']\n",
    "cat_columns = list(X_train.select_dtypes(include='object').columns)\n",
    "# cat_columns = ['product_category', 'payment_method', 'gender', 'date_of_purchase', 'time_of_purchase']\n",
    "\n",
    "# menampilkan list kolom numerik dan kolom kategorik\n",
    "print('Numeric Columns: ', num_columns)\n",
    "print('Categorical Columns: ', cat_columns)"
   ]
  },
  {
   "cell_type": "code",
   "execution_count": 24,
   "metadata": {},
   "outputs": [
    {
     "name": "stdout",
     "output_type": "stream",
     "text": [
      "X_train_num: (8506, 5)\n",
      "X_test_num: (1823, 5)\n",
      "X_val_num: (1823, 5)\n",
      "\n",
      "X_train_cat: (8506, 3)\n",
      "X_test_cat: (1823, 3)\n",
      "X_val_cat: (1823, 3)\n"
     ]
    }
   ],
   "source": [
    "# Split kolom numerik dan kolom kategorik pada dataset train dan test\n",
    "X_train_num = X_train[num_columns]\n",
    "X_train_cat = X_train[cat_columns]\n",
    "\n",
    "X_test_num = X_test[num_columns]\n",
    "X_test_cat = X_test[cat_columns]\n",
    "\n",
    "X_val_num = X_val[num_columns]\n",
    "X_val_cat = X_val[cat_columns]\n",
    "\n",
    "# menampilkan dataset train numerik\n",
    "print('X_train_num:', X_train_num.shape)\n",
    "print('X_test_num:', X_test_num.shape)\n",
    "print('X_val_num:', X_val_num.shape)\n",
    "print('')\n",
    "print('X_train_cat:', X_train_cat.shape)\n",
    "print('X_test_cat:', X_test_cat.shape)\n",
    "print('X_val_cat:', X_val_cat.shape)"
   ]
  },
  {
   "cell_type": "markdown",
   "metadata": {},
   "source": [
    "# Uji Korelasi"
   ]
  },
  {
   "cell_type": "code",
   "execution_count": 25,
   "metadata": {},
   "outputs": [
    {
     "data": {
      "text/html": [
       "<div>\n",
       "<style scoped>\n",
       "    .dataframe tbody tr th:only-of-type {\n",
       "        vertical-align: middle;\n",
       "    }\n",
       "\n",
       "    .dataframe tbody tr th {\n",
       "        vertical-align: top;\n",
       "    }\n",
       "\n",
       "    .dataframe thead th {\n",
       "        text-align: right;\n",
       "    }\n",
       "</style>\n",
       "<table border=\"1\" class=\"dataframe\">\n",
       "  <thead>\n",
       "    <tr style=\"text-align: right;\">\n",
       "      <th></th>\n",
       "      <th>nama kolom</th>\n",
       "      <th>hasil</th>\n",
       "    </tr>\n",
       "  </thead>\n",
       "  <tbody>\n",
       "    <tr>\n",
       "      <th>0</th>\n",
       "      <td>product_category</td>\n",
       "      <td>Tidak terdapat korelasi</td>\n",
       "    </tr>\n",
       "    <tr>\n",
       "      <th>1</th>\n",
       "      <td>payment_method</td>\n",
       "      <td>Tidak terdapat korelasi</td>\n",
       "    </tr>\n",
       "    <tr>\n",
       "      <th>2</th>\n",
       "      <td>gender</td>\n",
       "      <td>Tidak terdapat korelasi</td>\n",
       "    </tr>\n",
       "  </tbody>\n",
       "</table>\n",
       "</div>"
      ],
      "text/plain": [
       "         nama kolom                    hasil\n",
       "0  product_category  Tidak terdapat korelasi\n",
       "1    payment_method  Tidak terdapat korelasi\n",
       "2            gender  Tidak terdapat korelasi"
      ]
     },
     "execution_count": 25,
     "metadata": {},
     "output_type": "execute_result"
    }
   ],
   "source": [
    "# Mendefinisikan list kosong untuk p_values, interpretasi, dan cols\n",
    "p_values = []\n",
    "interpretasi = []\n",
    "cols = []\n",
    "\n",
    "# melakukan forloop untuk kolom yang terdapat didalam dataset kategorik\n",
    "for col in X_train_cat.columns:\n",
    "  # melakukan uji korelasi dengan menggunakan kendaltau pada setiap kolom dataset kategorik\n",
    "  corr_coef, p_value = kendalltau(X_train_cat[col], y_train)\n",
    "\n",
    "  #input p_values ke dalam list p_values\n",
    "  p_values.append(p_value)\n",
    "  # input nama kolom ke list cols\n",
    "  cols.append(col)\n",
    "\n",
    "  # dilakukan pengecekan, jika p_value di bawah nilai 0.05, maka terdapat korelasi\n",
    "  if p_value < 0.05:\n",
    "    interpretasi.append('Terdapat Korelasi')\n",
    "  # jika p_value berada di atas nilai 0.05, maka tidak terdapat korelasi\n",
    "  else :\n",
    "    interpretasi.append('Tidak terdapat korelasi')\n",
    "\n",
    "# membuat dataframe untuk nama kolom dan hasil dari interpretasi\n",
    "pd.DataFrame({'nama kolom':cols,\n",
    "              'hasil': interpretasi})"
   ]
  },
  {
   "cell_type": "code",
   "execution_count": 26,
   "metadata": {},
   "outputs": [
    {
     "data": {
      "text/html": [
       "<div>\n",
       "<style scoped>\n",
       "    .dataframe tbody tr th:only-of-type {\n",
       "        vertical-align: middle;\n",
       "    }\n",
       "\n",
       "    .dataframe tbody tr th {\n",
       "        vertical-align: top;\n",
       "    }\n",
       "\n",
       "    .dataframe thead th {\n",
       "        text-align: right;\n",
       "    }\n",
       "</style>\n",
       "<table border=\"1\" class=\"dataframe\">\n",
       "  <thead>\n",
       "    <tr style=\"text-align: right;\">\n",
       "      <th></th>\n",
       "      <th>nama kolom</th>\n",
       "      <th>hasil</th>\n",
       "    </tr>\n",
       "  </thead>\n",
       "  <tbody>\n",
       "    <tr>\n",
       "      <th>0</th>\n",
       "      <td>product_price</td>\n",
       "      <td>Tidak terdapat korelasi</td>\n",
       "    </tr>\n",
       "    <tr>\n",
       "      <th>1</th>\n",
       "      <td>quantity</td>\n",
       "      <td>Tidak terdapat korelasi</td>\n",
       "    </tr>\n",
       "    <tr>\n",
       "      <th>2</th>\n",
       "      <td>total_purchase_amount</td>\n",
       "      <td>Tidak terdapat korelasi</td>\n",
       "    </tr>\n",
       "    <tr>\n",
       "      <th>3</th>\n",
       "      <td>customer_age</td>\n",
       "      <td>Tidak terdapat korelasi</td>\n",
       "    </tr>\n",
       "    <tr>\n",
       "      <th>4</th>\n",
       "      <td>returns</td>\n",
       "      <td>Tidak terdapat korelasi</td>\n",
       "    </tr>\n",
       "  </tbody>\n",
       "</table>\n",
       "</div>"
      ],
      "text/plain": [
       "              nama kolom                    hasil\n",
       "0          product_price  Tidak terdapat korelasi\n",
       "1               quantity  Tidak terdapat korelasi\n",
       "2  total_purchase_amount  Tidak terdapat korelasi\n",
       "3           customer_age  Tidak terdapat korelasi\n",
       "4                returns  Tidak terdapat korelasi"
      ]
     },
     "execution_count": 26,
     "metadata": {},
     "output_type": "execute_result"
    }
   ],
   "source": [
    "# Mendefinisikan list kosong untuk p_values, interpretasi, dan cols\n",
    "p_values = []\n",
    "interpretasi = []\n",
    "cols = []\n",
    "\n",
    "# forloop untuk kolom yang berada di dataset numerik\n",
    "for col in X_train_num.columns:\n",
    "  # melakukan perhitungan uji korelasi dengan menggunakan pearsonr untuk data numerik\n",
    "  corr_coef, p_value = spearmanr(X_train_num[col], y_train)\n",
    "\n",
    "  # p_value yang didapat kemudian dimasukkan ke dalam list p_value\n",
    "  p_values.append(p_value)\n",
    "  # memasukkan nama dari setiap kolom numerik\n",
    "  cols.append(col)\n",
    "\n",
    "  # cek jika p_value di bawah 0.05, maka terdapat korelasi\n",
    "  if p_value < 0.05:\n",
    "    interpretasi.append('Terdapat korelasi')\n",
    "  # jika p_value di atas nilai 0.05, maka tidak terdapat korelasi\n",
    "  else :\n",
    "    interpretasi.append('Tidak terdapat korelasi')\n",
    "\n",
    "# membuat dataframe untuk kolom han hasil interpretasi\n",
    "pd.DataFrame({'nama kolom':cols,\n",
    "              'hasil': interpretasi})"
   ]
  },
  {
   "cell_type": "code",
   "execution_count": 27,
   "metadata": {},
   "outputs": [],
   "source": [
    "# Create A Pipeline\n",
    "\n",
    "num_pipeline = make_pipeline(StandardScaler())\n",
    "\n",
    "cat_pipeline = make_pipeline(OneHotEncoder())\n",
    "\n",
    "final_pipeline = ColumnTransformer([\n",
    "    ('pipe_num', num_pipeline, num_columns),\n",
    "    ('pipe_cat', cat_pipeline, cat_columns)\n",
    "])"
   ]
  },
  {
   "cell_type": "code",
   "execution_count": 28,
   "metadata": {},
   "outputs": [],
   "source": [
    "# Fit and Transform\n",
    "\n",
    "X_train = final_pipeline.fit_transform(X_train)\n",
    "X_val = final_pipeline.transform(X_val)\n",
    "X_test = final_pipeline.transform(X_test)"
   ]
  },
  {
   "cell_type": "code",
   "execution_count": 33,
   "metadata": {},
   "outputs": [
    {
     "data": {
      "text/html": [
       "<div>\n",
       "<style scoped>\n",
       "    .dataframe tbody tr th:only-of-type {\n",
       "        vertical-align: middle;\n",
       "    }\n",
       "\n",
       "    .dataframe tbody tr th {\n",
       "        vertical-align: top;\n",
       "    }\n",
       "\n",
       "    .dataframe thead th {\n",
       "        text-align: right;\n",
       "    }\n",
       "</style>\n",
       "<table border=\"1\" class=\"dataframe\">\n",
       "  <thead>\n",
       "    <tr style=\"text-align: right;\">\n",
       "      <th></th>\n",
       "      <th>0</th>\n",
       "      <th>1</th>\n",
       "      <th>2</th>\n",
       "      <th>3</th>\n",
       "      <th>4</th>\n",
       "      <th>5</th>\n",
       "      <th>6</th>\n",
       "      <th>7</th>\n",
       "      <th>8</th>\n",
       "      <th>9</th>\n",
       "      <th>10</th>\n",
       "      <th>11</th>\n",
       "      <th>12</th>\n",
       "      <th>13</th>\n",
       "      <th>14</th>\n",
       "    </tr>\n",
       "  </thead>\n",
       "  <tbody>\n",
       "    <tr>\n",
       "      <th>0</th>\n",
       "      <td>0.420179</td>\n",
       "      <td>-0.698001</td>\n",
       "      <td>0.410466</td>\n",
       "      <td>-0.624241</td>\n",
       "      <td>0.986918</td>\n",
       "      <td>0.0</td>\n",
       "      <td>1.0</td>\n",
       "      <td>0.0</td>\n",
       "      <td>0.0</td>\n",
       "      <td>1.0</td>\n",
       "      <td>0.0</td>\n",
       "      <td>0.0</td>\n",
       "      <td>0.0</td>\n",
       "      <td>1.0</td>\n",
       "      <td>0.0</td>\n",
       "    </tr>\n",
       "    <tr>\n",
       "      <th>1</th>\n",
       "      <td>-1.502529</td>\n",
       "      <td>-0.698001</td>\n",
       "      <td>0.933600</td>\n",
       "      <td>1.438640</td>\n",
       "      <td>0.986918</td>\n",
       "      <td>0.0</td>\n",
       "      <td>0.0</td>\n",
       "      <td>1.0</td>\n",
       "      <td>0.0</td>\n",
       "      <td>0.0</td>\n",
       "      <td>1.0</td>\n",
       "      <td>0.0</td>\n",
       "      <td>0.0</td>\n",
       "      <td>0.0</td>\n",
       "      <td>1.0</td>\n",
       "    </tr>\n",
       "    <tr>\n",
       "      <th>2</th>\n",
       "      <td>-0.598144</td>\n",
       "      <td>0.004626</td>\n",
       "      <td>-0.683802</td>\n",
       "      <td>1.503105</td>\n",
       "      <td>-1.013255</td>\n",
       "      <td>0.0</td>\n",
       "      <td>1.0</td>\n",
       "      <td>0.0</td>\n",
       "      <td>0.0</td>\n",
       "      <td>0.0</td>\n",
       "      <td>0.0</td>\n",
       "      <td>0.0</td>\n",
       "      <td>1.0</td>\n",
       "      <td>1.0</td>\n",
       "      <td>0.0</td>\n",
       "    </tr>\n",
       "    <tr>\n",
       "      <th>3</th>\n",
       "      <td>0.000032</td>\n",
       "      <td>0.707253</td>\n",
       "      <td>1.324559</td>\n",
       "      <td>-1.655681</td>\n",
       "      <td>-1.013255</td>\n",
       "      <td>0.0</td>\n",
       "      <td>1.0</td>\n",
       "      <td>0.0</td>\n",
       "      <td>0.0</td>\n",
       "      <td>0.0</td>\n",
       "      <td>1.0</td>\n",
       "      <td>0.0</td>\n",
       "      <td>0.0</td>\n",
       "      <td>1.0</td>\n",
       "      <td>0.0</td>\n",
       "    </tr>\n",
       "    <tr>\n",
       "      <th>4</th>\n",
       "      <td>-1.445559</td>\n",
       "      <td>-1.400628</td>\n",
       "      <td>1.074122</td>\n",
       "      <td>-0.495311</td>\n",
       "      <td>-1.013255</td>\n",
       "      <td>0.0</td>\n",
       "      <td>0.0</td>\n",
       "      <td>1.0</td>\n",
       "      <td>0.0</td>\n",
       "      <td>0.0</td>\n",
       "      <td>1.0</td>\n",
       "      <td>0.0</td>\n",
       "      <td>0.0</td>\n",
       "      <td>0.0</td>\n",
       "      <td>1.0</td>\n",
       "    </tr>\n",
       "  </tbody>\n",
       "</table>\n",
       "</div>"
      ],
      "text/plain": [
       "         0         1         2         3         4    5    6    7    8    9   \\\n",
       "0  0.420179 -0.698001  0.410466 -0.624241  0.986918  0.0  1.0  0.0  0.0  1.0   \n",
       "1 -1.502529 -0.698001  0.933600  1.438640  0.986918  0.0  0.0  1.0  0.0  0.0   \n",
       "2 -0.598144  0.004626 -0.683802  1.503105 -1.013255  0.0  1.0  0.0  0.0  0.0   \n",
       "3  0.000032  0.707253  1.324559 -1.655681 -1.013255  0.0  1.0  0.0  0.0  0.0   \n",
       "4 -1.445559 -1.400628  1.074122 -0.495311 -1.013255  0.0  0.0  1.0  0.0  0.0   \n",
       "\n",
       "    10   11   12   13   14  \n",
       "0  0.0  0.0  0.0  1.0  0.0  \n",
       "1  1.0  0.0  0.0  0.0  1.0  \n",
       "2  0.0  0.0  1.0  1.0  0.0  \n",
       "3  1.0  0.0  0.0  1.0  0.0  \n",
       "4  1.0  0.0  0.0  0.0  1.0  "
      ]
     },
     "execution_count": 33,
     "metadata": {},
     "output_type": "execute_result"
    }
   ],
   "source": [
    "X_train = pd.DataFrame(X_train)\n",
    "X_test = pd.DataFrame(X_test)\n",
    "X_val = pd.DataFrame(X_val)\n",
    "X_train.head()"
   ]
  },
  {
   "cell_type": "code",
   "execution_count": 47,
   "metadata": {},
   "outputs": [],
   "source": [
    "# Membuat pipeline untuk logistic regression\n",
    "pipe_logreg = Pipeline([\n",
    "    ('classifier', LogisticRegression())\n",
    "])\n",
    "\n",
    "#Membuat pipeline untuk SVM\n",
    "pipe_svc = Pipeline([\n",
    "('classifier', SVC())\n",
    "])\n",
    "\n",
    "#Membuat pipeline untuk KNN\n",
    "pipe_knn = Pipeline([\n",
    "('classifier', KNeighborsClassifier())\n",
    "])\n",
    "\n",
    "#Membuat pipeline untuk Random Forest   \n",
    "pipe_rf = Pipeline([\n",
    "('classifier', RandomForestClassifier())\n",
    "])\n",
    "\n",
    "#Membuat pipeline untuk Decision Tree\n",
    "pipe_dt = Pipeline([\n",
    "('classifier', DecisionTreeClassifier())\n",
    "])"
   ]
  },
  {
   "cell_type": "code",
   "execution_count": 38,
   "metadata": {},
   "outputs": [
    {
     "name": "stdout",
     "output_type": "stream",
     "text": [
      "Training Score:  0.5334\n",
      "Val Score:  0.5376\n",
      "Testing Score:  0.5277\n"
     ]
    }
   ],
   "source": [
    "# fit model pada train set\n",
    "pipe_logreg.fit(X_train, y_train)\n",
    "# predict model pada val set\n",
    "y_logreg_pred = pipe_logreg.predict(X_val)\n",
    "# predict model pada test set\n",
    "y_logreg_pred = pipe_logreg.predict(X_test)\n",
    "# Menampilkan nilai akurasi training dan testing\n",
    "print('Training Score: ',round(pipe_logreg.score(X_train, y_train),4))\n",
    "print('Val Score: ', round(pipe_logreg.score(X_val, y_val),4))\n",
    "print('Testing Score: ', round(pipe_logreg.score(X_test, y_test),4))"
   ]
  },
  {
   "cell_type": "code",
   "execution_count": 40,
   "metadata": {},
   "outputs": [
    {
     "name": "stdout",
     "output_type": "stream",
     "text": [
      "              precision    recall  f1-score   support\n",
      "\n",
      "           0       0.58      0.03      0.05       868\n",
      "           1       0.53      0.98      0.69       955\n",
      "\n",
      "    accuracy                           0.53      1823\n",
      "   macro avg       0.55      0.50      0.37      1823\n",
      "weighted avg       0.55      0.53      0.39      1823\n",
      "\n"
     ]
    }
   ],
   "source": [
    "# # Mendefinisikan target\n",
    "# target = ['No', 'Yes']\n",
    "# menampilkan classification report\n",
    "print(classification_report(y_test, y_logreg_pred))"
   ]
  },
  {
   "cell_type": "code",
   "execution_count": 41,
   "metadata": {},
   "outputs": [
    {
     "name": "stdout",
     "output_type": "stream",
     "text": [
      "Training Score:  0.5896\n",
      "Val Score:  0.5272\n",
      "Testing Score:  0.5288\n"
     ]
    }
   ],
   "source": [
    "# fit model pada train set\n",
    "pipe_svc.fit(X_train, y_train)\n",
    "# predict model pada val set\n",
    "y_svc_pred = pipe_svc.predict(X_val)\n",
    "# predict model pada test set\n",
    "y_svc_pred = pipe_svc.predict(X_test)\n",
    "# Menampilkan nilai akurasi training dan testing\n",
    "print('Training Score: ',round(pipe_svc.score(X_train, y_train),4))\n",
    "print('Val Score: ', round(pipe_svc.score(X_val, y_val),4))\n",
    "print('Testing Score: ', round(pipe_svc.score(X_test, y_test),4))"
   ]
  },
  {
   "cell_type": "code",
   "execution_count": 42,
   "metadata": {},
   "outputs": [
    {
     "name": "stdout",
     "output_type": "stream",
     "text": [
      "              precision    recall  f1-score   support\n",
      "\n",
      "           0       0.51      0.23      0.32       868\n",
      "           1       0.53      0.80      0.64       955\n",
      "\n",
      "    accuracy                           0.53      1823\n",
      "   macro avg       0.52      0.52      0.48      1823\n",
      "weighted avg       0.52      0.53      0.49      1823\n",
      "\n"
     ]
    }
   ],
   "source": [
    "# menampilkan classification report\n",
    "print(classification_report(y_test, y_svc_pred))"
   ]
  },
  {
   "cell_type": "code",
   "execution_count": 44,
   "metadata": {},
   "outputs": [
    {
     "name": "stdout",
     "output_type": "stream",
     "text": [
      "Training Score:  0.689\n",
      "Val Score:  0.492\n",
      "Testing Score:  0.5112\n"
     ]
    }
   ],
   "source": [
    "# fit model pada train set\n",
    "pipe_knn.fit(X_train, y_train)\n",
    "# predict model pada val set\n",
    "y_knn_pred = pipe_knn.predict(X_val)\n",
    "# predict model pada test set\n",
    "y_knn_pred = pipe_knn.predict(X_test)\n",
    "# Menampilkan nilai akurasi training dan testing\n",
    "print('Training Score: ',round(pipe_knn.score(X_train, y_train),4))\n",
    "print('Val Score: ', round(pipe_knn.score(X_val, y_val),4))\n",
    "print('Testing Score: ', round(pipe_knn.score(X_test, y_test),4))"
   ]
  },
  {
   "cell_type": "code",
   "execution_count": 45,
   "metadata": {},
   "outputs": [
    {
     "name": "stdout",
     "output_type": "stream",
     "text": [
      "              precision    recall  f1-score   support\n",
      "\n",
      "           0       0.49      0.46      0.47       868\n",
      "           1       0.53      0.56      0.54       955\n",
      "\n",
      "    accuracy                           0.51      1823\n",
      "   macro avg       0.51      0.51      0.51      1823\n",
      "weighted avg       0.51      0.51      0.51      1823\n",
      "\n"
     ]
    }
   ],
   "source": [
    "# menampilkan classification report\n",
    "print(classification_report(y_test, y_knn_pred))"
   ]
  },
  {
   "cell_type": "code",
   "execution_count": 48,
   "metadata": {},
   "outputs": [
    {
     "name": "stdout",
     "output_type": "stream",
     "text": [
      "Training Score:  1.0\n",
      "Val Score:  0.5112\n",
      "Testing Score:  0.503\n"
     ]
    }
   ],
   "source": [
    "# fit model pada train set\n",
    "pipe_rf.fit(X_train, y_train)\n",
    "# predict model pada val set\n",
    "y_rf_pred = pipe_rf.predict(X_val)\n",
    "# predict model pada test set\n",
    "y_rf_pred = pipe_rf.predict(X_test)\n",
    "# Menampilkan nilai akurasi training dan testing\n",
    "print('Training Score: ',round(pipe_rf.score(X_train, y_train),4))\n",
    "print('Val Score: ', round(pipe_rf.score(X_val, y_val),4))\n",
    "print('Testing Score: ', round(pipe_rf.score(X_test, y_test),4))"
   ]
  },
  {
   "cell_type": "code",
   "execution_count": 49,
   "metadata": {},
   "outputs": [
    {
     "name": "stdout",
     "output_type": "stream",
     "text": [
      "              precision    recall  f1-score   support\n",
      "\n",
      "           0       0.48      0.42      0.45       868\n",
      "           1       0.52      0.58      0.55       955\n",
      "\n",
      "    accuracy                           0.50      1823\n",
      "   macro avg       0.50      0.50      0.50      1823\n",
      "weighted avg       0.50      0.50      0.50      1823\n",
      "\n"
     ]
    }
   ],
   "source": [
    "# menampilkan classification report\n",
    "print(classification_report(y_test, y_rf_pred))"
   ]
  },
  {
   "cell_type": "code",
   "execution_count": 50,
   "metadata": {},
   "outputs": [
    {
     "name": "stdout",
     "output_type": "stream",
     "text": [
      "Training Score:  1.0\n",
      "Val Score:  0.4931\n",
      "Testing Score:  0.5003\n"
     ]
    }
   ],
   "source": [
    "# fit model pada train set\n",
    "pipe_dt.fit(X_train, y_train)\n",
    "# predict model pada val set\n",
    "y_dt_pred = pipe_dt.predict(X_val)\n",
    "# predict model pada test set\n",
    "y_dt_pred = pipe_dt.predict(X_test)\n",
    "# Menampilkan nilai akurasi training dan testing\n",
    "print('Training Score: ',round(pipe_dt.score(X_train, y_train),4))\n",
    "print('Val Score: ', round(pipe_dt.score(X_val, y_val),4))\n",
    "print('Testing Score: ', round(pipe_dt.score(X_test, y_test),4))"
   ]
  },
  {
   "cell_type": "code",
   "execution_count": 51,
   "metadata": {},
   "outputs": [
    {
     "name": "stdout",
     "output_type": "stream",
     "text": [
      "              precision    recall  f1-score   support\n",
      "\n",
      "           0       0.48      0.49      0.48       868\n",
      "           1       0.52      0.51      0.52       955\n",
      "\n",
      "    accuracy                           0.50      1823\n",
      "   macro avg       0.50      0.50      0.50      1823\n",
      "weighted avg       0.50      0.50      0.50      1823\n",
      "\n"
     ]
    }
   ],
   "source": [
    "# menampilkan classification report\n",
    "print(classification_report(y_test, y_dt_pred))"
   ]
  },
  {
   "cell_type": "code",
   "execution_count": 52,
   "metadata": {},
   "outputs": [],
   "source": [
    "param_knn = {\n",
    "    'classifier__n_neighbors': np.arange(2, 30, 1), \n",
    "    'classifier__weights': ['uniform', 'distance']  \n",
    "}\n",
    "param_dt = {\n",
    "    'classifier__criterion': ['gini', 'entropy'],\n",
    "    'classifier__max_depth': [5, 10, 15, 20],\n",
    "    'classifier__min_samples_leaf': [1, 2, 4],\n",
    "    'classifier__ccp_alpha': [0.0, 0.1, 0.2]\n",
    "}\n",
    "\n",
    "param_rf = {\n",
    "    'classifier__n_estimators': np.arange(200, 401, 30),\n",
    "    'classifier__max_depth': np.arange(4, 8, 2) }"
   ]
  },
  {
   "cell_type": "code",
   "execution_count": 54,
   "metadata": {},
   "outputs": [],
   "source": [
    "stratified_kfold = StratifiedKFold(n_splits=3, shuffle=True, random_state=42)"
   ]
  },
  {
   "cell_type": "code",
   "execution_count": 63,
   "metadata": {},
   "outputs": [],
   "source": [
    "# proses grid search untuk tuning hyperparameter secara paralel\n",
    "grid_knn = GridSearchCV(pipe_knn, param_grid=param_knn, cv=stratified_kfold, n_jobs=-1).fit(X_train, y_train)"
   ]
  },
  {
   "cell_type": "code",
   "execution_count": 64,
   "metadata": {},
   "outputs": [],
   "source": [
    "# proses grid search untuk tuning hyperparameter secara paralel\n",
    "grid_rf = GridSearchCV(pipe_rf, param_grid=param_rf, cv=stratified_kfold, n_jobs=-1).fit(X_train, y_train)"
   ]
  },
  {
   "cell_type": "code",
   "execution_count": 65,
   "metadata": {},
   "outputs": [],
   "source": [
    "# proses grid search untuk tuning hyperparameter secara paralel\n",
    "grid_dt = GridSearchCV(pipe_dt, param_grid=param_dt, cv=stratified_kfold, n_jobs=-1).fit(X_train, y_train)"
   ]
  },
  {
   "cell_type": "code",
   "execution_count": 72,
   "metadata": {},
   "outputs": [
    {
     "name": "stdout",
     "output_type": "stream",
     "text": [
      "Train Set Score :  0.5904067716905713\n",
      "val Set Score :  0.5167306637410861\n",
      "Test Set Score :  0.49917718047174986\n"
     ]
    }
   ],
   "source": [
    "# Menampilkan hasil train dan test setelah dilakukan tuning\n",
    "print('Train Set Score : ', grid_knn.score(X_train, y_train))\n",
    "print('val Set Score : ', grid_knn.score(X_val, y_val))\n",
    "print('Test Set Score : ', grid_knn.score(X_test, y_test))"
   ]
  },
  {
   "cell_type": "code",
   "execution_count": 73,
   "metadata": {},
   "outputs": [
    {
     "name": "stdout",
     "output_type": "stream",
     "text": [
      "Train Set Score :  0.5797084411003998\n",
      "val Set Score :  0.5298957761930884\n",
      "Test Set Score :  0.526055951727921\n"
     ]
    }
   ],
   "source": [
    "# Menampilkan hasil train dan test setelah dilakukan tuning\n",
    "print('Train Set Score : ', grid_rf.score(X_train, y_train))\n",
    "print('val Set Score : ', grid_rf.score(X_val, y_val))\n",
    "print('Test Set Score : ', grid_rf.score(X_test, y_test))"
   ]
  },
  {
   "cell_type": "code",
   "execution_count": 74,
   "metadata": {},
   "outputs": [
    {
     "name": "stdout",
     "output_type": "stream",
     "text": [
      "Train Set Score :  0.5316247354808371\n",
      "val Set Score :  0.5397696105320899\n",
      "Test Set Score :  0.523861766319254\n"
     ]
    }
   ],
   "source": [
    "# Menampilkan hasil train dan test setelah dilakukan tuning\n",
    "print('Train Set Score : ', grid_dt.score(X_train, y_train))\n",
    "print('val Set Score : ', grid_dt.score(X_val, y_val))\n",
    "print('Test Set Score : ', grid_dt.score(X_test, y_test))"
   ]
  },
  {
   "cell_type": "code",
   "execution_count": 57,
   "metadata": {},
   "outputs": [
    {
     "name": "stdout",
     "output_type": "stream",
     "text": [
      "{'classifier__n_neighbors': 25, 'classifier__weights': 'uniform'}\n",
      "\n",
      "\n",
      "Pipeline(steps=[('classifier', KNeighborsClassifier(n_neighbors=25))])\n",
      "\n",
      "\n",
      "Index(['mean_fit_time', 'std_fit_time', 'mean_score_time', 'std_score_time',\n",
      "       'param_classifier__n_neighbors', 'param_classifier__weights', 'params',\n",
      "       'split0_test_score', 'split1_test_score', 'split2_test_score',\n",
      "       'mean_test_score', 'std_test_score', 'rank_test_score'],\n",
      "      dtype='object')\n"
     ]
    }
   ],
   "source": [
    "# Mendefinisikan parameter yang terbaik\n",
    "best_param_knn = grid_knn.best_params_\n",
    "# Menampilkan best parameter\n",
    "print(best_param_knn)\n",
    "print('\\n')\n",
    "# mendefinsiikan estimator yang terbaik\n",
    "best_pipe_knn = grid_knn.best_estimator_\n",
    "# menampilkan estimator yang terbaik\n",
    "print(best_pipe_knn)\n",
    "print('\\n')\n",
    "# Membuat dataframe untuk result_df_knn\n",
    "result_df_knn = pd.DataFrame.from_dict(grid_knn.cv_results_, orient='columns')\n",
    "# menampilkan kolom result_df_knn\n",
    "print(result_df_knn.columns)"
   ]
  },
  {
   "cell_type": "code",
   "execution_count": 68,
   "metadata": {},
   "outputs": [
    {
     "name": "stdout",
     "output_type": "stream",
     "text": [
      "{'classifier__max_depth': 6, 'classifier__n_estimators': 230}\n",
      "\n",
      "\n",
      "Pipeline(steps=[('classifier',\n",
      "                 RandomForestClassifier(max_depth=6, n_estimators=230))])\n",
      "\n",
      "\n",
      "Index(['mean_fit_time', 'std_fit_time', 'mean_score_time', 'std_score_time',\n",
      "       'param_classifier__max_depth', 'param_classifier__n_estimators',\n",
      "       'params', 'split0_test_score', 'split1_test_score', 'split2_test_score',\n",
      "       'mean_test_score', 'std_test_score', 'rank_test_score'],\n",
      "      dtype='object')\n"
     ]
    }
   ],
   "source": [
    "# Mendefinisikan parameter yang terbaik\n",
    "best_param_rf = grid_rf.best_params_\n",
    "# Menampilkan best parameter\n",
    "print(best_param_rf)\n",
    "print('\\n')\n",
    "# mendefinsiikan estimator yang terbaik\n",
    "best_pipe_rf = grid_rf.best_estimator_\n",
    "# menampilkan estimator yang terbaik\n",
    "print(best_pipe_rf)\n",
    "print('\\n')\n",
    "# Membuat dataframe untuk result_df_rf\n",
    "result_df_rf = pd.DataFrame.from_dict(grid_rf.cv_results_, orient='columns')\n",
    "# menampilkan kolom result_df_rf\n",
    "print(result_df_rf.columns)"
   ]
  },
  {
   "cell_type": "code",
   "execution_count": 69,
   "metadata": {},
   "outputs": [
    {
     "name": "stdout",
     "output_type": "stream",
     "text": [
      "{'classifier__ccp_alpha': 0.1, 'classifier__criterion': 'gini', 'classifier__max_depth': 5, 'classifier__min_samples_leaf': 1}\n",
      "\n",
      "\n",
      "Pipeline(steps=[('classifier',\n",
      "                 DecisionTreeClassifier(ccp_alpha=0.1, max_depth=5))])\n",
      "\n",
      "\n",
      "Index(['mean_fit_time', 'std_fit_time', 'mean_score_time', 'std_score_time',\n",
      "       'param_classifier__ccp_alpha', 'param_classifier__criterion',\n",
      "       'param_classifier__max_depth', 'param_classifier__min_samples_leaf',\n",
      "       'params', 'split0_test_score', 'split1_test_score', 'split2_test_score',\n",
      "       'mean_test_score', 'std_test_score', 'rank_test_score'],\n",
      "      dtype='object')\n"
     ]
    }
   ],
   "source": [
    "# Mendefinisikan parameter yang terbaik\n",
    "best_param_dt = grid_dt.best_params_\n",
    "# Menampilkan best parameter\n",
    "print(best_param_dt)\n",
    "print('\\n')\n",
    "# mendefinsiikan estimator yang terbaik\n",
    "best_pipe_dt = grid_dt.best_estimator_\n",
    "# menampilkan estimator yang terbaik\n",
    "print(best_pipe_dt)\n",
    "print('\\n')\n",
    "# Membuat dataframe untuk result_df_dt\n",
    "result_df_dt = pd.DataFrame.from_dict(grid_dt.cv_results_, orient='columns')\n",
    "# menampilkan kolom result_df_dt\n",
    "print(result_df_dt.columns)"
   ]
  },
  {
   "cell_type": "code",
   "execution_count": 59,
   "metadata": {},
   "outputs": [
    {
     "name": "stdout",
     "output_type": "stream",
     "text": [
      "              precision    recall  f1-score   support\n",
      "\n",
      "           0       0.47      0.36      0.41       868\n",
      "           1       0.52      0.62      0.57       955\n",
      "\n",
      "    accuracy                           0.50      1823\n",
      "   macro avg       0.49      0.49      0.49      1823\n",
      "weighted avg       0.49      0.50      0.49      1823\n",
      "\n"
     ]
    }
   ],
   "source": [
    "print(classification_report(y_test, best_pipe_knn.predict(X_test)))"
   ]
  },
  {
   "cell_type": "code",
   "execution_count": 70,
   "metadata": {},
   "outputs": [
    {
     "name": "stdout",
     "output_type": "stream",
     "text": [
      "              precision    recall  f1-score   support\n",
      "\n",
      "           0       0.52      0.05      0.10       868\n",
      "           1       0.53      0.95      0.68       955\n",
      "\n",
      "    accuracy                           0.53      1823\n",
      "   macro avg       0.52      0.50      0.39      1823\n",
      "weighted avg       0.52      0.53      0.40      1823\n",
      "\n"
     ]
    }
   ],
   "source": [
    "print(classification_report(y_test, best_pipe_rf.predict(X_test)))"
   ]
  },
  {
   "cell_type": "code",
   "execution_count": 71,
   "metadata": {},
   "outputs": [
    {
     "name": "stdout",
     "output_type": "stream",
     "text": [
      "              precision    recall  f1-score   support\n",
      "\n",
      "           0       0.00      0.00      0.00       868\n",
      "           1       0.52      1.00      0.69       955\n",
      "\n",
      "    accuracy                           0.52      1823\n",
      "   macro avg       0.26      0.50      0.34      1823\n",
      "weighted avg       0.27      0.52      0.36      1823\n",
      "\n"
     ]
    }
   ],
   "source": [
    "print(classification_report(y_test, best_pipe_dt.predict(X_test)))"
   ]
  }
 ],
 "metadata": {
  "kernelspec": {
   "display_name": "Python 3",
   "language": "python",
   "name": "python3"
  },
  "language_info": {
   "codemirror_mode": {
    "name": "ipython",
    "version": 3
   },
   "file_extension": ".py",
   "mimetype": "text/x-python",
   "name": "python",
   "nbconvert_exporter": "python",
   "pygments_lexer": "ipython3",
   "version": "3.11.7"
  }
 },
 "nbformat": 4,
 "nbformat_minor": 2
}
